{
 "cells": [
  {
   "cell_type": "code",
   "execution_count": 1,
   "metadata": {},
   "outputs": [],
   "source": [
    "%load_ext autoreload\n",
    "%autoreload 2"
   ]
  },
  {
   "cell_type": "code",
   "execution_count": 2,
   "metadata": {},
   "outputs": [],
   "source": [
    "import daft\n",
    "import os, sys\n",
    "import numpy as np\n",
    "import matplotlib.pyplot as plt\n",
    "from IPython.display import clear_output, display\n",
    "from tqdm import tqdm\n",
    "\n",
    "module_path = os.path.abspath(os.path.join('../..'))\n",
    "if module_path not in sys.path:\n",
    "    sys.path.append(module_path)\n",
    "from game_simulation import CoinGameSimulation\n",
    "from game_browser import CoinGameBrowser\n",
    "from simulate_strategy import simulate_strategy"
   ]
  },
  {
   "cell_type": "code",
   "execution_count": 3,
   "metadata": {},
   "outputs": [],
   "source": [
    "def get_pgm():\n",
    "    y = 1 \n",
    "    pgm = daft.PGM()\n",
    "    pgm.add_node(\"p\", r\"$p$\", 0, y, fixed=True, offset=(1, 3))\n",
    "    pgm.add_node(\"L\", r\"$L$\", 1, y)\n",
    "    pgm.add_node(\"theta\", r\"$\\theta$\", 2, y)\n",
    "    pgm.add_node(\"H_n\", r\"$H_n$\", 3, y, observed=True)\n",
    "    pgm.add_edge(\"p\", \"L\")\n",
    "    pgm.add_edge(\"L\", \"theta\")\n",
    "    pgm.add_edge(\"theta\", \"H_n\")\n",
    "    pgm.add_plate([2.5, 0.5, 1, 1], label=r\"$n = 1:N$\", shift=-0.2)\n",
    "    return pgm.render()"
   ]
  },
  {
   "cell_type": "markdown",
   "metadata": {},
   "source": [
    "### Strategy 3: make use of Bayesian inference.\n",
    "This strategy uses Bayesian inference to determine the best strategy to play.\n",
    "\n",
    "The following wikipedia pages were used as reference \n",
    "[Checking whether a coin is fair](https://en.wikipedia.org/wiki/Checking_whether_a_coin_is_fair) and [Bayesian inference](https://en.wikipedia.org/wiki/Bayesian_inference).\n",
    "\n",
    "The following code shows the probabilitic graphical model for the coin flip distribution."
   ]
  },
  {
   "cell_type": "code",
   "execution_count": 4,
   "metadata": {},
   "outputs": [
    {
     "data": {
      "image/png": "[encoded data removed]",
      "text/plain": [
       "<Figure size 212.126x79.3701 with 1 Axes>"
      ]
     },
     "metadata": {},
     "output_type": "display_data"
    }
   ],
   "source": [
    "get_pgm().set_title(\"PGM of Coin flip\");"
   ]
  },
  {
   "cell_type": "markdown",
   "metadata": {},
   "source": [
    "\n",
    "- $p$: The probability of the opponent being fair.\n",
    "- $L$:  Bernouilli distribution with unkown parameter p. Determines if the opponent is a cheater or not.\n",
    "- $\\theta$: Unkown distribution with values $\\in [0, 1]$. Gives parameters of the Bernoulli distribution of H.\n",
    "- $H_{1:N}$: Bernouilli distribution with parameter $\\theta$ and $N$ samples. Gives the number of heads.\n",
    "\n",
    "We use Bayes rule to get:\n",
    "$$\n",
    "\\begin{align*}\n",
    "P(L | H_{1:N}) &= \\frac{P(H_{1:N} | L) \\cdot P(L)}{P(H_{1:N})} \\\\\n",
    "               &= \\frac{\\sum_{\\theta=0}^1 P(H_{1:N}, \\theta | L) \\cdot P(L)}{P(H_{1:N})} \\\\\n",
    "               &= \\frac{\\sum_{\\theta=0}^1 P(H_{1:N} | \\theta, L) \\cdot P(\\theta | L) \\cdot P(L)}{P(H_{1:N})} \\\\\n",
    "               &= \\frac{\\sum_{\\theta=0}^1 P(H_{1:N} | \\theta) \\cdot P(\\theta | L) \\cdot P(L)}{P(H_{1:N})} \\\\\n",
    "               &\\propto \\sum_{\\theta=0}^1 P(H_{1:N} | \\theta) \\cdot P(\\theta | L) \\cdot P(L) \\\\\n",
    "\\end{align*}\n",
    "$$\n",
    "\n",
    "After choosing the label, we get to know the true Label L.\n",
    "We can then update the priors $P(\\theta | L)$ and $P(L)$\n",
    "\n",
    "$$\n",
    "\\begin{align*}\n",
    "P(L | H_{1:N}) &= \\frac{P(H_{1:N} | L) \\cdot P(H_{})}{P(H_{1:N} | L)} \\\\\n",
    "&= \\frac{P(H_{1:N} | \\theta) \\cdot P(\\theta | L)}{P(H_{1:N} | L)} \\\\\n",
    "&\\propto P(H_{1:N} | \\theta) \\cdot P(\\theta | L)\n",
    "\\end{align*}\n",
    "$$\n",
    "\n",
    "$$\n",
    "\\begin{align*}\n",
    "P(\\theta | L, H_{1:N}) &= \\frac{P(H_{1:N} | \\theta, L) \\cdot P(\\theta | L)}{P(H_{1:N} | L)} \\\\\n",
    "&= \\frac{P(H_{1:N} | \\theta) \\cdot P(\\theta | L)}{P(H_{1:N} | L)} \\\\\n",
    "&\\propto P(H_{1:N} | \\theta) \\cdot P(\\theta | L)\n",
    "\\end{align*}\n",
    "$$"
   ]
  },
  {
   "cell_type": "code",
   "execution_count": 109,
   "metadata": {},
   "outputs": [],
   "source": [
    "class StrategyBayseianInference:\n",
    "\n",
    "    def __init__(self, \n",
    "                 n = 100, \n",
    "                 threshold = 0.75, \n",
    "                 flip_5_at_start = False):\n",
    "        # n is the number of theta values.\n",
    "        # the threshold is the theshold to use when deciding the label.\n",
    "        self.threshold = threshold \n",
    "        self.theta = np.linspace(0, 1, n)\n",
    "        self.theta_L = np.zeros((n, 2))\n",
    "        self.theta_L[self.theta > 0.5, 1] = 1\n",
    "        self.theta_L[(0.45 < self.theta)&(self.theta < 0.55), 0] = 1\n",
    "        self.theta_L /= self.theta_L.sum(axis=0)\n",
    "        \n",
    "        # probability of label 0: fair\n",
    "        self.observed_L = [0, 1]\n",
    "        self.p = np.mean(self.observed_L)\n",
    "\n",
    "        self.last_flips_left = 0\n",
    "        self.last_n_heads = 0\n",
    "        self.last_n_tails = 0\n",
    "        self.last_action = 0\n",
    "        self.last_label = None\n",
    "        self.flip_5_at_start = flip_5_at_start\n",
    "\n",
    "    def set_theshold(self, threshold):\n",
    "        assert 0 <= threshold <= 1\n",
    "        self.threshold = threshold\n",
    "\n",
    "    def update(self, reward=None, flips_left=None):  \n",
    "        if self.last_label is None:\n",
    "            return\n",
    "        if reward is not None:\n",
    "            self.get_correct_label(reward)\n",
    "        elif flips_left is not None:\n",
    "            flips_left_diff = flips_left - self.last_flips_left\n",
    "            self.get_correct_label(flips_left_diff)\n",
    "        else:\n",
    "            raise ValueError(\"Either reward or flips_left must be given.\")\n",
    "        \n",
    "        self.last_label = None\n",
    "        c_label = self.last_correct_label\n",
    "\n",
    "        # estimate p once again\n",
    "        self.observed_L.append(c_label)\n",
    "        self.p = np.mean(self.observed_L)\n",
    "\n",
    "        # update theta_L using bayesian inference\n",
    "        self.theta_L[:, c_label] = self.probability_of_observation * self.theta_L[:, c_label]\n",
    "        self.theta_L /= self.theta_L.sum(axis=0)\n",
    "    \n",
    "    def get_correct_label(self, reward):\n",
    "        if reward == 15:\n",
    "            correct_label = True\n",
    "        elif reward == -30:\n",
    "            correct_label = False\n",
    "        else:\n",
    "            raise ValueError(f\"Reward ({reward} is not 15 or -30.\")\n",
    "        \n",
    "        if correct_label:\n",
    "            self.last_correct_label = self.last_label\n",
    "        else:\n",
    "            self.last_correct_label = (self.last_label + 1) % 2\n",
    "\n",
    "\n",
    "    def strategy(self, n_heads, n_tails, flips_left):\n",
    "        self.last_flips_left = flips_left\n",
    "\n",
    "        if self.flip_5_at_start and n_heads + n_tails == 0 and flips_left > 50:\n",
    "            return 1\n",
    "        \n",
    "        theta = self.theta\n",
    "        self.probability_of_observation = theta ** n_heads * (1 - theta) ** n_tails\n",
    "\n",
    "        posterior = self.probability_of_observation.dot(self.theta_L) * np.array([self.p, 1 - self.p])\n",
    "        posterior /= np.sum(posterior)\n",
    "\n",
    "        \n",
    "\n",
    "        if np.max(posterior) > self.threshold or flips_left == 0:\n",
    "            label = np.argmax(posterior)\n",
    "            self.last_label = label\n",
    "            return label + 2\n",
    "        else:\n",
    "            return 0"
   ]
  },
  {
   "cell_type": "code",
   "execution_count": 115,
   "metadata": {},
   "outputs": [],
   "source": [
    "strat = StrategyBayseianInference(n=101)\n",
    "g = CoinGameSimulation()\n",
    "scores = []"
   ]
  },
  {
   "cell_type": "code",
   "execution_count": 120,
   "metadata": {},
   "outputs": [
    {
     "name": "stderr",
     "output_type": "stream",
     "text": [
      "C:\\Users\\alber\\AppData\\Local\\Temp\\ipykernel_18624\\4120099208.py:19: UserWarning: Matplotlib is currently using module://matplotlib_inline.backend_inline, which is a non-GUI backend, so cannot show the figure.\n",
      "  fig.show()\n"
     ]
    },
    {
     "data": {
      "image/png": "[encoded data removed]",
      "text/plain": [
       "<Figure size 1440x288 with 4 Axes>"
      ]
     },
     "metadata": {
      "needs_background": "light"
     },
     "output_type": "display_data"
    }
   ],
   "source": [
    "for i in range(100):\n",
    "    (n_heads, n_tails, flips_left) = g.reset()\n",
    "    done = False\n",
    "    while not done:\n",
    "        action = strat.strategy(n_heads, n_tails, flips_left)\n",
    "        (n_heads, n_tails, flips_left), reward, done, info = g.step(action)\n",
    "        strat.update(reward=reward)\n",
    "\n",
    "    score = info[\"score\"]\n",
    "    scores.append(score)\n",
    "    if score >= 100:\n",
    "        clear_output(wait=True)\n",
    "        fig, ax = plt.subplots(1, 4, figsize=(20, 4))\n",
    "        ax[0].plot(strat.probability_of_observation)\n",
    "        ax[0]\n",
    "        ax[1].plot(strat.theta_L[:, 0], label=\"L=0\")\n",
    "        ax[2].plot(strat.theta_L[:, 1], label=\"L=1\")\n",
    "        ax[3].plot(scores, label=\"scores\")\n",
    "        fig.show()\n",
    "        break"
   ]
  },
  {
   "cell_type": "code",
   "execution_count": 121,
   "metadata": {},
   "outputs": [
    {
     "name": "stdout",
     "output_type": "stream",
     "text": [
      "score 39.846 ± 52.03166616590324\n",
      "n_labels 53.024 ± 65.29324179423166\n",
      "n_flips_per_game 317.344 ± 383.700823121348\n",
      "n_flips_per_label 5.984912492456246 ± 4.84546168919737\n",
      "reward -0.3104857871090375 ± 7.5491574183845085\n"
     ]
    }
   ],
   "source": [
    "strat.set_theshold(0.75)\n",
    "simulate_strategy(strat.strategy, n_simulations=500)"
   ]
  },
  {
   "cell_type": "code",
   "execution_count": 136,
   "metadata": {},
   "outputs": [],
   "source": [
    "driver = g.driver\n",
    "g = CoinGameBrowser(driver=driver)"
   ]
  },
  {
   "cell_type": "code",
   "execution_count": 129,
   "metadata": {},
   "outputs": [],
   "source": [
    "with open('log_bayes.txt', 'w') as f:\n",
    "    f.write('Score,Flips left,Heads,Tails,Action,Reward\\n')"
   ]
  },
  {
   "cell_type": "code",
   "execution_count": 137,
   "metadata": {},
   "outputs": [
    {
     "ename": "KeyboardInterrupt",
     "evalue": "",
     "output_type": "error",
     "traceback": [
      "\u001b[1;31m---------------------------------------------------------------------------\u001b[0m",
      "\u001b[1;31mKeyboardInterrupt\u001b[0m                         Traceback (most recent call last)",
      "\u001b[1;32mc:\\Users\\alber\\Documents\\My_Code\\Primer_game\\notebooks\\strategies\\bayesian_inference.ipynb Cell 13'\u001b[0m in \u001b[0;36m<cell line: 1>\u001b[1;34m()\u001b[0m\n\u001b[0;32m      <a href='vscode-notebook-cell:/c%3A/Users/alber/Documents/My_Code/Primer_game/notebooks/strategies/bayesian_inference.ipynb#ch0000014?line=3'>4</a>\u001b[0m \u001b[39mwhile\u001b[39;00m \u001b[39mnot\u001b[39;00m done:\n\u001b[0;32m      <a href='vscode-notebook-cell:/c%3A/Users/alber/Documents/My_Code/Primer_game/notebooks/strategies/bayesian_inference.ipynb#ch0000014?line=4'>5</a>\u001b[0m     action \u001b[39m=\u001b[39m strat\u001b[39m.\u001b[39mstrategy(n_heads, n_tails, flips_left)\n\u001b[1;32m----> <a href='vscode-notebook-cell:/c%3A/Users/alber/Documents/My_Code/Primer_game/notebooks/strategies/bayesian_inference.ipynb#ch0000014?line=5'>6</a>\u001b[0m     (n_heads, n_tails, flips_left), reward, done, info \u001b[39m=\u001b[39m g\u001b[39m.\u001b[39;49mstep(action)\n\u001b[0;32m      <a href='vscode-notebook-cell:/c%3A/Users/alber/Documents/My_Code/Primer_game/notebooks/strategies/bayesian_inference.ipynb#ch0000014?line=6'>7</a>\u001b[0m     score \u001b[39m=\u001b[39m info[\u001b[39m\"\u001b[39m\u001b[39mscore\u001b[39m\u001b[39m\"\u001b[39m]\n\u001b[0;32m      <a href='vscode-notebook-cell:/c%3A/Users/alber/Documents/My_Code/Primer_game/notebooks/strategies/bayesian_inference.ipynb#ch0000014?line=7'>8</a>\u001b[0m     \u001b[39mwith\u001b[39;00m \u001b[39mopen\u001b[39m(\u001b[39m'\u001b[39m\u001b[39mlog_bayes.txt\u001b[39m\u001b[39m'\u001b[39m, \u001b[39m'\u001b[39m\u001b[39ma\u001b[39m\u001b[39m'\u001b[39m) \u001b[39mas\u001b[39;00m f:\n",
      "File \u001b[1;32mc:\\Users\\alber\\Documents\\My_Code\\Primer_game\\game.py:87\u001b[0m, in \u001b[0;36mCoinGame.step\u001b[1;34m(self, action)\u001b[0m\n\u001b[0;32m     <a href='file:///c%3A/Users/alber/Documents/My_Code/Primer_game/game.py?line=83'>84</a>\u001b[0m \u001b[39melse\u001b[39;00m: \n\u001b[0;32m     <a href='file:///c%3A/Users/alber/Documents/My_Code/Primer_game/game.py?line=84'>85</a>\u001b[0m     \u001b[39mraise\u001b[39;00m \u001b[39mValueError\u001b[39;00m(\u001b[39mf\u001b[39m\u001b[39m\"\u001b[39m\u001b[39m{\u001b[39;00maction\u001b[39m!r}\u001b[39;00m\u001b[39m (\u001b[39m\u001b[39m{\u001b[39;00m\u001b[39mtype\u001b[39m(action)\u001b[39m}\u001b[39;00m\u001b[39m) invalid\u001b[39m\u001b[39m\"\u001b[39m)\n\u001b[1;32m---> <a href='file:///c%3A/Users/alber/Documents/My_Code/Primer_game/game.py?line=86'>87</a>\u001b[0m data \u001b[39m=\u001b[39m \u001b[39mself\u001b[39;49m\u001b[39m.\u001b[39;49mobserve()\n\u001b[0;32m     <a href='file:///c%3A/Users/alber/Documents/My_Code/Primer_game/game.py?line=87'>88</a>\u001b[0m new_score, new_flips_left \u001b[39m=\u001b[39m \u001b[39mself\u001b[39m\u001b[39m.\u001b[39mscore, \u001b[39mself\u001b[39m\u001b[39m.\u001b[39mflips_left\n\u001b[0;32m     <a href='file:///c%3A/Users/alber/Documents/My_Code/Primer_game/game.py?line=89'>90</a>\u001b[0m \u001b[39m# reward is the number of gained or lost flips from the previous state\u001b[39;00m\n",
      "File \u001b[1;32mc:\\Users\\alber\\Documents\\My_Code\\Primer_game\\game_browser.py:104\u001b[0m, in \u001b[0;36mCoinGameBrowser.observe\u001b[1;34m(self)\u001b[0m\n\u001b[0;32m    <a href='file:///c%3A/Users/alber/Documents/My_Code/Primer_game/game_browser.py?line=101'>102</a>\u001b[0m \u001b[39mdef\u001b[39;00m \u001b[39mobserve\u001b[39m(\u001b[39mself\u001b[39m) \u001b[39m-\u001b[39m\u001b[39m>\u001b[39m \u001b[39mtuple\u001b[39m: \n\u001b[0;32m    <a href='file:///c%3A/Users/alber/Documents/My_Code/Primer_game/game_browser.py?line=102'>103</a>\u001b[0m     \u001b[39mif\u001b[39;00m \u001b[39mself\u001b[39m\u001b[39m.\u001b[39moutdated_data \u001b[39mor\u001b[39;00m \u001b[39many\u001b[39m(val \u001b[39mis\u001b[39;00m \u001b[39mNone\u001b[39;00m \u001b[39mfor\u001b[39;00m val \u001b[39min\u001b[39;00m [\u001b[39mself\u001b[39m\u001b[39m.\u001b[39mheads, \u001b[39mself\u001b[39m\u001b[39m.\u001b[39mtails, \u001b[39mself\u001b[39m\u001b[39m.\u001b[39mscore, \u001b[39mself\u001b[39m\u001b[39m.\u001b[39mflips_left]):\n\u001b[1;32m--> <a href='file:///c%3A/Users/alber/Documents/My_Code/Primer_game/game_browser.py?line=103'>104</a>\u001b[0m         \u001b[39mself\u001b[39;49m\u001b[39m.\u001b[39;49m_update_data()\n\u001b[0;32m    <a href='file:///c%3A/Users/alber/Documents/My_Code/Primer_game/game_browser.py?line=105'>106</a>\u001b[0m     \u001b[39mreturn\u001b[39;00m \u001b[39mself\u001b[39m\u001b[39m.\u001b[39mheads, \u001b[39mself\u001b[39m\u001b[39m.\u001b[39mtails, \u001b[39mself\u001b[39m\u001b[39m.\u001b[39mflips_left\n",
      "File \u001b[1;32mc:\\Users\\alber\\Documents\\My_Code\\Primer_game\\game_browser.py:112\u001b[0m, in \u001b[0;36mCoinGameBrowser._update_data\u001b[1;34m(self)\u001b[0m\n\u001b[0;32m    <a href='file:///c%3A/Users/alber/Documents/My_Code/Primer_game/game_browser.py?line=108'>109</a>\u001b[0m screenshot \u001b[39m=\u001b[39m \u001b[39mself\u001b[39m\u001b[39m.\u001b[39mget_page_screenshot()\n\u001b[0;32m    <a href='file:///c%3A/Users/alber/Documents/My_Code/Primer_game/game_browser.py?line=110'>111</a>\u001b[0m crop \u001b[39m=\u001b[39m screenshot\u001b[39m.\u001b[39mcrop((\u001b[39m0\u001b[39m, \u001b[39m490\u001b[39m, \u001b[39m750\u001b[39m, \u001b[39m985\u001b[39m))\n\u001b[1;32m--> <a href='file:///c%3A/Users/alber/Documents/My_Code/Primer_game/game_browser.py?line=111'>112</a>\u001b[0m text \u001b[39m=\u001b[39m CoinGameBrowser\u001b[39m.\u001b[39;49m_get_image_text(crop)\n\u001b[0;32m    <a href='file:///c%3A/Users/alber/Documents/My_Code/Primer_game/game_browser.py?line=113'>114</a>\u001b[0m \u001b[39mself\u001b[39m\u001b[39m.\u001b[39mdone \u001b[39m=\u001b[39m \u001b[39m\"\u001b[39m\u001b[39mthe leaderboard\u001b[39m\u001b[39m\"\u001b[39m \u001b[39min\u001b[39;00m text\u001b[39m.\u001b[39mlower() \u001b[39mor\u001b[39;00m \u001b[39m\"\u001b[39m\u001b[39mgame over\u001b[39m\u001b[39m\"\u001b[39m \u001b[39min\u001b[39;00m text\u001b[39m.\u001b[39mlower()\n\u001b[0;32m    <a href='file:///c%3A/Users/alber/Documents/My_Code/Primer_game/game_browser.py?line=115'>116</a>\u001b[0m \u001b[39mself\u001b[39m\u001b[39m.\u001b[39mheads \u001b[39m=\u001b[39m \u001b[39mself\u001b[39m\u001b[39m.\u001b[39mparse_heads(text)\n",
      "File \u001b[1;32mc:\\Users\\alber\\Documents\\My_Code\\Primer_game\\game_browser.py:100\u001b[0m, in \u001b[0;36mCoinGameBrowser._get_image_text\u001b[1;34m(image)\u001b[0m\n\u001b[0;32m     <a href='file:///c%3A/Users/alber/Documents/My_Code/Primer_game/game_browser.py?line=97'>98</a>\u001b[0m \u001b[39m@staticmethod\u001b[39m\n\u001b[0;32m     <a href='file:///c%3A/Users/alber/Documents/My_Code/Primer_game/game_browser.py?line=98'>99</a>\u001b[0m \u001b[39mdef\u001b[39;00m \u001b[39m_get_image_text\u001b[39m(image):\n\u001b[1;32m--> <a href='file:///c%3A/Users/alber/Documents/My_Code/Primer_game/game_browser.py?line=99'>100</a>\u001b[0m     \u001b[39mreturn\u001b[39;00m tess\u001b[39m.\u001b[39;49mimage_to_string(image)\n",
      "File \u001b[1;32m~\\miniconda3\\envs\\web-env\\lib\\site-packages\\pytesseract\\pytesseract.py:416\u001b[0m, in \u001b[0;36mimage_to_string\u001b[1;34m(image, lang, config, nice, output_type, timeout)\u001b[0m\n\u001b[0;32m    <a href='file:///c%3A/Users/alber/miniconda3/envs/web-env/lib/site-packages/pytesseract/pytesseract.py?line=410'>411</a>\u001b[0m \u001b[39m\"\"\"\u001b[39;00m\n\u001b[0;32m    <a href='file:///c%3A/Users/alber/miniconda3/envs/web-env/lib/site-packages/pytesseract/pytesseract.py?line=411'>412</a>\u001b[0m \u001b[39mReturns the result of a Tesseract OCR run on the provided image to string\u001b[39;00m\n\u001b[0;32m    <a href='file:///c%3A/Users/alber/miniconda3/envs/web-env/lib/site-packages/pytesseract/pytesseract.py?line=412'>413</a>\u001b[0m \u001b[39m\"\"\"\u001b[39;00m\n\u001b[0;32m    <a href='file:///c%3A/Users/alber/miniconda3/envs/web-env/lib/site-packages/pytesseract/pytesseract.py?line=413'>414</a>\u001b[0m args \u001b[39m=\u001b[39m [image, \u001b[39m'\u001b[39m\u001b[39mtxt\u001b[39m\u001b[39m'\u001b[39m, lang, config, nice, timeout]\n\u001b[1;32m--> <a href='file:///c%3A/Users/alber/miniconda3/envs/web-env/lib/site-packages/pytesseract/pytesseract.py?line=415'>416</a>\u001b[0m \u001b[39mreturn\u001b[39;00m {\n\u001b[0;32m    <a href='file:///c%3A/Users/alber/miniconda3/envs/web-env/lib/site-packages/pytesseract/pytesseract.py?line=416'>417</a>\u001b[0m     Output\u001b[39m.\u001b[39;49mBYTES: \u001b[39mlambda\u001b[39;49;00m: run_and_get_output(\u001b[39m*\u001b[39;49m(args \u001b[39m+\u001b[39;49m [\u001b[39mTrue\u001b[39;49;00m])),\n\u001b[0;32m    <a href='file:///c%3A/Users/alber/miniconda3/envs/web-env/lib/site-packages/pytesseract/pytesseract.py?line=417'>418</a>\u001b[0m     Output\u001b[39m.\u001b[39;49mDICT: \u001b[39mlambda\u001b[39;49;00m: {\u001b[39m'\u001b[39;49m\u001b[39mtext\u001b[39;49m\u001b[39m'\u001b[39;49m: run_and_get_output(\u001b[39m*\u001b[39;49margs)},\n\u001b[0;32m    <a href='file:///c%3A/Users/alber/miniconda3/envs/web-env/lib/site-packages/pytesseract/pytesseract.py?line=418'>419</a>\u001b[0m     Output\u001b[39m.\u001b[39;49mSTRING: \u001b[39mlambda\u001b[39;49;00m: run_and_get_output(\u001b[39m*\u001b[39;49margs),\n\u001b[0;32m    <a href='file:///c%3A/Users/alber/miniconda3/envs/web-env/lib/site-packages/pytesseract/pytesseract.py?line=419'>420</a>\u001b[0m }[output_type]()\n",
      "File \u001b[1;32m~\\miniconda3\\envs\\web-env\\lib\\site-packages\\pytesseract\\pytesseract.py:419\u001b[0m, in \u001b[0;36mimage_to_string.<locals>.<lambda>\u001b[1;34m()\u001b[0m\n\u001b[0;32m    <a href='file:///c%3A/Users/alber/miniconda3/envs/web-env/lib/site-packages/pytesseract/pytesseract.py?line=410'>411</a>\u001b[0m \u001b[39m\"\"\"\u001b[39;00m\n\u001b[0;32m    <a href='file:///c%3A/Users/alber/miniconda3/envs/web-env/lib/site-packages/pytesseract/pytesseract.py?line=411'>412</a>\u001b[0m \u001b[39mReturns the result of a Tesseract OCR run on the provided image to string\u001b[39;00m\n\u001b[0;32m    <a href='file:///c%3A/Users/alber/miniconda3/envs/web-env/lib/site-packages/pytesseract/pytesseract.py?line=412'>413</a>\u001b[0m \u001b[39m\"\"\"\u001b[39;00m\n\u001b[0;32m    <a href='file:///c%3A/Users/alber/miniconda3/envs/web-env/lib/site-packages/pytesseract/pytesseract.py?line=413'>414</a>\u001b[0m args \u001b[39m=\u001b[39m [image, \u001b[39m'\u001b[39m\u001b[39mtxt\u001b[39m\u001b[39m'\u001b[39m, lang, config, nice, timeout]\n\u001b[0;32m    <a href='file:///c%3A/Users/alber/miniconda3/envs/web-env/lib/site-packages/pytesseract/pytesseract.py?line=415'>416</a>\u001b[0m \u001b[39mreturn\u001b[39;00m {\n\u001b[0;32m    <a href='file:///c%3A/Users/alber/miniconda3/envs/web-env/lib/site-packages/pytesseract/pytesseract.py?line=416'>417</a>\u001b[0m     Output\u001b[39m.\u001b[39mBYTES: \u001b[39mlambda\u001b[39;00m: run_and_get_output(\u001b[39m*\u001b[39m(args \u001b[39m+\u001b[39m [\u001b[39mTrue\u001b[39;00m])),\n\u001b[0;32m    <a href='file:///c%3A/Users/alber/miniconda3/envs/web-env/lib/site-packages/pytesseract/pytesseract.py?line=417'>418</a>\u001b[0m     Output\u001b[39m.\u001b[39mDICT: \u001b[39mlambda\u001b[39;00m: {\u001b[39m'\u001b[39m\u001b[39mtext\u001b[39m\u001b[39m'\u001b[39m: run_and_get_output(\u001b[39m*\u001b[39margs)},\n\u001b[1;32m--> <a href='file:///c%3A/Users/alber/miniconda3/envs/web-env/lib/site-packages/pytesseract/pytesseract.py?line=418'>419</a>\u001b[0m     Output\u001b[39m.\u001b[39mSTRING: \u001b[39mlambda\u001b[39;00m: run_and_get_output(\u001b[39m*\u001b[39;49margs),\n\u001b[0;32m    <a href='file:///c%3A/Users/alber/miniconda3/envs/web-env/lib/site-packages/pytesseract/pytesseract.py?line=419'>420</a>\u001b[0m }[output_type]()\n",
      "File \u001b[1;32m~\\miniconda3\\envs\\web-env\\lib\\site-packages\\pytesseract\\pytesseract.py:286\u001b[0m, in \u001b[0;36mrun_and_get_output\u001b[1;34m(image, extension, lang, config, nice, timeout, return_bytes)\u001b[0m\n\u001b[0;32m    <a href='file:///c%3A/Users/alber/miniconda3/envs/web-env/lib/site-packages/pytesseract/pytesseract.py?line=274'>275</a>\u001b[0m \u001b[39mwith\u001b[39;00m save(image) \u001b[39mas\u001b[39;00m (temp_name, input_filename):\n\u001b[0;32m    <a href='file:///c%3A/Users/alber/miniconda3/envs/web-env/lib/site-packages/pytesseract/pytesseract.py?line=275'>276</a>\u001b[0m     kwargs \u001b[39m=\u001b[39m {\n\u001b[0;32m    <a href='file:///c%3A/Users/alber/miniconda3/envs/web-env/lib/site-packages/pytesseract/pytesseract.py?line=276'>277</a>\u001b[0m         \u001b[39m'\u001b[39m\u001b[39minput_filename\u001b[39m\u001b[39m'\u001b[39m: input_filename,\n\u001b[0;32m    <a href='file:///c%3A/Users/alber/miniconda3/envs/web-env/lib/site-packages/pytesseract/pytesseract.py?line=277'>278</a>\u001b[0m         \u001b[39m'\u001b[39m\u001b[39moutput_filename_base\u001b[39m\u001b[39m'\u001b[39m: temp_name,\n\u001b[1;32m   (...)\u001b[0m\n\u001b[0;32m    <a href='file:///c%3A/Users/alber/miniconda3/envs/web-env/lib/site-packages/pytesseract/pytesseract.py?line=282'>283</a>\u001b[0m         \u001b[39m'\u001b[39m\u001b[39mtimeout\u001b[39m\u001b[39m'\u001b[39m: timeout,\n\u001b[0;32m    <a href='file:///c%3A/Users/alber/miniconda3/envs/web-env/lib/site-packages/pytesseract/pytesseract.py?line=283'>284</a>\u001b[0m     }\n\u001b[1;32m--> <a href='file:///c%3A/Users/alber/miniconda3/envs/web-env/lib/site-packages/pytesseract/pytesseract.py?line=285'>286</a>\u001b[0m     run_tesseract(\u001b[39m*\u001b[39m\u001b[39m*\u001b[39mkwargs)\n\u001b[0;32m    <a href='file:///c%3A/Users/alber/miniconda3/envs/web-env/lib/site-packages/pytesseract/pytesseract.py?line=286'>287</a>\u001b[0m     filename \u001b[39m=\u001b[39m kwargs[\u001b[39m'\u001b[39m\u001b[39moutput_filename_base\u001b[39m\u001b[39m'\u001b[39m] \u001b[39m+\u001b[39m extsep \u001b[39m+\u001b[39m extension\n\u001b[0;32m    <a href='file:///c%3A/Users/alber/miniconda3/envs/web-env/lib/site-packages/pytesseract/pytesseract.py?line=287'>288</a>\u001b[0m     \u001b[39mwith\u001b[39;00m \u001b[39mopen\u001b[39m(filename, \u001b[39m'\u001b[39m\u001b[39mrb\u001b[39m\u001b[39m'\u001b[39m) \u001b[39mas\u001b[39;00m output_file:\n",
      "File \u001b[1;32m~\\miniconda3\\envs\\web-env\\lib\\site-packages\\pytesseract\\pytesseract.py:260\u001b[0m, in \u001b[0;36mrun_tesseract\u001b[1;34m(input_filename, output_filename_base, extension, lang, config, nice, timeout)\u001b[0m\n\u001b[0;32m    <a href='file:///c%3A/Users/alber/miniconda3/envs/web-env/lib/site-packages/pytesseract/pytesseract.py?line=256'>257</a>\u001b[0m         \u001b[39mraise\u001b[39;00m e\n\u001b[0;32m    <a href='file:///c%3A/Users/alber/miniconda3/envs/web-env/lib/site-packages/pytesseract/pytesseract.py?line=257'>258</a>\u001b[0m     \u001b[39mraise\u001b[39;00m TesseractNotFoundError()\n\u001b[1;32m--> <a href='file:///c%3A/Users/alber/miniconda3/envs/web-env/lib/site-packages/pytesseract/pytesseract.py?line=259'>260</a>\u001b[0m \u001b[39mwith\u001b[39;00m timeout_manager(proc, timeout) \u001b[39mas\u001b[39;00m error_string:\n\u001b[0;32m    <a href='file:///c%3A/Users/alber/miniconda3/envs/web-env/lib/site-packages/pytesseract/pytesseract.py?line=260'>261</a>\u001b[0m     \u001b[39mif\u001b[39;00m proc\u001b[39m.\u001b[39mreturncode:\n\u001b[0;32m    <a href='file:///c%3A/Users/alber/miniconda3/envs/web-env/lib/site-packages/pytesseract/pytesseract.py?line=261'>262</a>\u001b[0m         \u001b[39mraise\u001b[39;00m TesseractError(proc\u001b[39m.\u001b[39mreturncode, get_errors(error_string))\n",
      "File \u001b[1;32m~\\miniconda3\\envs\\web-env\\lib\\contextlib.py:135\u001b[0m, in \u001b[0;36m_GeneratorContextManager.__enter__\u001b[1;34m(self)\u001b[0m\n\u001b[0;32m    <a href='file:///c%3A/Users/alber/miniconda3/envs/web-env/lib/contextlib.py?line=132'>133</a>\u001b[0m \u001b[39mdel\u001b[39;00m \u001b[39mself\u001b[39m\u001b[39m.\u001b[39margs, \u001b[39mself\u001b[39m\u001b[39m.\u001b[39mkwds, \u001b[39mself\u001b[39m\u001b[39m.\u001b[39mfunc\n\u001b[0;32m    <a href='file:///c%3A/Users/alber/miniconda3/envs/web-env/lib/contextlib.py?line=133'>134</a>\u001b[0m \u001b[39mtry\u001b[39;00m:\n\u001b[1;32m--> <a href='file:///c%3A/Users/alber/miniconda3/envs/web-env/lib/contextlib.py?line=134'>135</a>\u001b[0m     \u001b[39mreturn\u001b[39;00m \u001b[39mnext\u001b[39;49m(\u001b[39mself\u001b[39;49m\u001b[39m.\u001b[39;49mgen)\n\u001b[0;32m    <a href='file:///c%3A/Users/alber/miniconda3/envs/web-env/lib/contextlib.py?line=135'>136</a>\u001b[0m \u001b[39mexcept\u001b[39;00m \u001b[39mStopIteration\u001b[39;00m:\n\u001b[0;32m    <a href='file:///c%3A/Users/alber/miniconda3/envs/web-env/lib/contextlib.py?line=136'>137</a>\u001b[0m     \u001b[39mraise\u001b[39;00m \u001b[39mRuntimeError\u001b[39;00m(\u001b[39m\"\u001b[39m\u001b[39mgenerator didn\u001b[39m\u001b[39m'\u001b[39m\u001b[39mt yield\u001b[39m\u001b[39m\"\u001b[39m) \u001b[39mfrom\u001b[39;00m \u001b[39mNone\u001b[39m\n",
      "File \u001b[1;32m~\\miniconda3\\envs\\web-env\\lib\\site-packages\\pytesseract\\pytesseract.py:126\u001b[0m, in \u001b[0;36mtimeout_manager\u001b[1;34m(proc, seconds)\u001b[0m\n\u001b[0;32m    <a href='file:///c%3A/Users/alber/miniconda3/envs/web-env/lib/site-packages/pytesseract/pytesseract.py?line=123'>124</a>\u001b[0m \u001b[39mtry\u001b[39;00m:\n\u001b[0;32m    <a href='file:///c%3A/Users/alber/miniconda3/envs/web-env/lib/site-packages/pytesseract/pytesseract.py?line=124'>125</a>\u001b[0m     \u001b[39mif\u001b[39;00m \u001b[39mnot\u001b[39;00m seconds:\n\u001b[1;32m--> <a href='file:///c%3A/Users/alber/miniconda3/envs/web-env/lib/site-packages/pytesseract/pytesseract.py?line=125'>126</a>\u001b[0m         \u001b[39myield\u001b[39;00m proc\u001b[39m.\u001b[39;49mcommunicate()[\u001b[39m1\u001b[39m]\n\u001b[0;32m    <a href='file:///c%3A/Users/alber/miniconda3/envs/web-env/lib/site-packages/pytesseract/pytesseract.py?line=126'>127</a>\u001b[0m         \u001b[39mreturn\u001b[39;00m\n\u001b[0;32m    <a href='file:///c%3A/Users/alber/miniconda3/envs/web-env/lib/site-packages/pytesseract/pytesseract.py?line=128'>129</a>\u001b[0m     \u001b[39mtry\u001b[39;00m:\n",
      "File \u001b[1;32m~\\miniconda3\\envs\\web-env\\lib\\subprocess.py:1149\u001b[0m, in \u001b[0;36mPopen.communicate\u001b[1;34m(self, input, timeout)\u001b[0m\n\u001b[0;32m   <a href='file:///c%3A/Users/alber/miniconda3/envs/web-env/lib/subprocess.py?line=1145'>1146</a>\u001b[0m     endtime \u001b[39m=\u001b[39m \u001b[39mNone\u001b[39;00m\n\u001b[0;32m   <a href='file:///c%3A/Users/alber/miniconda3/envs/web-env/lib/subprocess.py?line=1147'>1148</a>\u001b[0m \u001b[39mtry\u001b[39;00m:\n\u001b[1;32m-> <a href='file:///c%3A/Users/alber/miniconda3/envs/web-env/lib/subprocess.py?line=1148'>1149</a>\u001b[0m     stdout, stderr \u001b[39m=\u001b[39m \u001b[39mself\u001b[39;49m\u001b[39m.\u001b[39;49m_communicate(\u001b[39minput\u001b[39;49m, endtime, timeout)\n\u001b[0;32m   <a href='file:///c%3A/Users/alber/miniconda3/envs/web-env/lib/subprocess.py?line=1149'>1150</a>\u001b[0m \u001b[39mexcept\u001b[39;00m \u001b[39mKeyboardInterrupt\u001b[39;00m:\n\u001b[0;32m   <a href='file:///c%3A/Users/alber/miniconda3/envs/web-env/lib/subprocess.py?line=1150'>1151</a>\u001b[0m     \u001b[39m# https://bugs.python.org/issue25942\u001b[39;00m\n\u001b[0;32m   <a href='file:///c%3A/Users/alber/miniconda3/envs/web-env/lib/subprocess.py?line=1151'>1152</a>\u001b[0m     \u001b[39m# See the detailed comment in .wait().\u001b[39;00m\n\u001b[0;32m   <a href='file:///c%3A/Users/alber/miniconda3/envs/web-env/lib/subprocess.py?line=1152'>1153</a>\u001b[0m     \u001b[39mif\u001b[39;00m timeout \u001b[39mis\u001b[39;00m \u001b[39mnot\u001b[39;00m \u001b[39mNone\u001b[39;00m:\n",
      "File \u001b[1;32m~\\miniconda3\\envs\\web-env\\lib\\subprocess.py:1523\u001b[0m, in \u001b[0;36mPopen._communicate\u001b[1;34m(self, input, endtime, orig_timeout)\u001b[0m\n\u001b[0;32m   <a href='file:///c%3A/Users/alber/miniconda3/envs/web-env/lib/subprocess.py?line=1518'>1519</a>\u001b[0m \u001b[39m# Wait for the reader threads, or time out.  If we time out, the\u001b[39;00m\n\u001b[0;32m   <a href='file:///c%3A/Users/alber/miniconda3/envs/web-env/lib/subprocess.py?line=1519'>1520</a>\u001b[0m \u001b[39m# threads remain reading and the fds left open in case the user\u001b[39;00m\n\u001b[0;32m   <a href='file:///c%3A/Users/alber/miniconda3/envs/web-env/lib/subprocess.py?line=1520'>1521</a>\u001b[0m \u001b[39m# calls communicate again.\u001b[39;00m\n\u001b[0;32m   <a href='file:///c%3A/Users/alber/miniconda3/envs/web-env/lib/subprocess.py?line=1521'>1522</a>\u001b[0m \u001b[39mif\u001b[39;00m \u001b[39mself\u001b[39m\u001b[39m.\u001b[39mstdout \u001b[39mis\u001b[39;00m \u001b[39mnot\u001b[39;00m \u001b[39mNone\u001b[39;00m:\n\u001b[1;32m-> <a href='file:///c%3A/Users/alber/miniconda3/envs/web-env/lib/subprocess.py?line=1522'>1523</a>\u001b[0m     \u001b[39mself\u001b[39;49m\u001b[39m.\u001b[39;49mstdout_thread\u001b[39m.\u001b[39;49mjoin(\u001b[39mself\u001b[39;49m\u001b[39m.\u001b[39;49m_remaining_time(endtime))\n\u001b[0;32m   <a href='file:///c%3A/Users/alber/miniconda3/envs/web-env/lib/subprocess.py?line=1523'>1524</a>\u001b[0m     \u001b[39mif\u001b[39;00m \u001b[39mself\u001b[39m\u001b[39m.\u001b[39mstdout_thread\u001b[39m.\u001b[39mis_alive():\n\u001b[0;32m   <a href='file:///c%3A/Users/alber/miniconda3/envs/web-env/lib/subprocess.py?line=1524'>1525</a>\u001b[0m         \u001b[39mraise\u001b[39;00m TimeoutExpired(\u001b[39mself\u001b[39m\u001b[39m.\u001b[39margs, orig_timeout)\n",
      "File \u001b[1;32m~\\miniconda3\\envs\\web-env\\lib\\threading.py:1089\u001b[0m, in \u001b[0;36mThread.join\u001b[1;34m(self, timeout)\u001b[0m\n\u001b[0;32m   <a href='file:///c%3A/Users/alber/miniconda3/envs/web-env/lib/threading.py?line=1085'>1086</a>\u001b[0m     \u001b[39mraise\u001b[39;00m \u001b[39mRuntimeError\u001b[39;00m(\u001b[39m\"\u001b[39m\u001b[39mcannot join current thread\u001b[39m\u001b[39m\"\u001b[39m)\n\u001b[0;32m   <a href='file:///c%3A/Users/alber/miniconda3/envs/web-env/lib/threading.py?line=1087'>1088</a>\u001b[0m \u001b[39mif\u001b[39;00m timeout \u001b[39mis\u001b[39;00m \u001b[39mNone\u001b[39;00m:\n\u001b[1;32m-> <a href='file:///c%3A/Users/alber/miniconda3/envs/web-env/lib/threading.py?line=1088'>1089</a>\u001b[0m     \u001b[39mself\u001b[39;49m\u001b[39m.\u001b[39;49m_wait_for_tstate_lock()\n\u001b[0;32m   <a href='file:///c%3A/Users/alber/miniconda3/envs/web-env/lib/threading.py?line=1089'>1090</a>\u001b[0m \u001b[39melse\u001b[39;00m:\n\u001b[0;32m   <a href='file:///c%3A/Users/alber/miniconda3/envs/web-env/lib/threading.py?line=1090'>1091</a>\u001b[0m     \u001b[39m# the behavior of a negative timeout isn't documented, but\u001b[39;00m\n\u001b[0;32m   <a href='file:///c%3A/Users/alber/miniconda3/envs/web-env/lib/threading.py?line=1091'>1092</a>\u001b[0m     \u001b[39m# historically .join(timeout=x) for x<0 has acted as if timeout=0\u001b[39;00m\n\u001b[0;32m   <a href='file:///c%3A/Users/alber/miniconda3/envs/web-env/lib/threading.py?line=1092'>1093</a>\u001b[0m     \u001b[39mself\u001b[39m\u001b[39m.\u001b[39m_wait_for_tstate_lock(timeout\u001b[39m=\u001b[39m\u001b[39mmax\u001b[39m(timeout, \u001b[39m0\u001b[39m))\n",
      "File \u001b[1;32m~\\miniconda3\\envs\\web-env\\lib\\threading.py:1109\u001b[0m, in \u001b[0;36mThread._wait_for_tstate_lock\u001b[1;34m(self, block, timeout)\u001b[0m\n\u001b[0;32m   <a href='file:///c%3A/Users/alber/miniconda3/envs/web-env/lib/threading.py?line=1105'>1106</a>\u001b[0m     \u001b[39mreturn\u001b[39;00m\n\u001b[0;32m   <a href='file:///c%3A/Users/alber/miniconda3/envs/web-env/lib/threading.py?line=1107'>1108</a>\u001b[0m \u001b[39mtry\u001b[39;00m:\n\u001b[1;32m-> <a href='file:///c%3A/Users/alber/miniconda3/envs/web-env/lib/threading.py?line=1108'>1109</a>\u001b[0m     \u001b[39mif\u001b[39;00m lock\u001b[39m.\u001b[39;49macquire(block, timeout):\n\u001b[0;32m   <a href='file:///c%3A/Users/alber/miniconda3/envs/web-env/lib/threading.py?line=1109'>1110</a>\u001b[0m         lock\u001b[39m.\u001b[39mrelease()\n\u001b[0;32m   <a href='file:///c%3A/Users/alber/miniconda3/envs/web-env/lib/threading.py?line=1110'>1111</a>\u001b[0m         \u001b[39mself\u001b[39m\u001b[39m.\u001b[39m_stop()\n",
      "\u001b[1;31mKeyboardInterrupt\u001b[0m: "
     ]
    }
   ],
   "source": [
    "for i in range(100):\n",
    "    (n_heads, n_tails, flips_left) = g.reset()\n",
    "    done = False\n",
    "    while not done:\n",
    "        action = strat.strategy(n_heads, n_tails, flips_left)\n",
    "        (n_heads, n_tails, flips_left), reward, done, info = g.step(action)\n",
    "        score = info[\"score\"]\n",
    "        with open('log_bayes.txt', 'a') as f:\n",
    "            f.write(f'{score:3},{flips_left:3},{n_heads:2},{n_tails:2},{action:2},{reward:3}\\n')"
   ]
  },
  {
   "cell_type": "code",
   "execution_count": 159,
   "metadata": {},
   "outputs": [
    {
     "name": "stdout",
     "output_type": "stream",
     "text": [
      "Score         int64\n",
      "Flips left    int64\n",
      "Heads         int64\n",
      "Tails         int64\n",
      "Action        int64\n",
      "Reward        int64\n",
      "dtype: object\n"
     ]
    },
    {
     "data": {
      "text/html": [
       "<div>\n",
       "<style scoped>\n",
       "    .dataframe tbody tr th:only-of-type {\n",
       "        vertical-align: middle;\n",
       "    }\n",
       "\n",
       "    .dataframe tbody tr th {\n",
       "        vertical-align: top;\n",
       "    }\n",
       "\n",
       "    .dataframe thead th {\n",
       "        text-align: right;\n",
       "    }\n",
       "</style>\n",
       "<table border=\"1\" class=\"dataframe\">\n",
       "  <thead>\n",
       "    <tr style=\"text-align: right;\">\n",
       "      <th></th>\n",
       "      <th>Score</th>\n",
       "      <th>Flips left</th>\n",
       "      <th>Heads</th>\n",
       "      <th>Tails</th>\n",
       "      <th>Action</th>\n",
       "      <th>Reward</th>\n",
       "    </tr>\n",
       "  </thead>\n",
       "  <tbody>\n",
       "    <tr>\n",
       "      <th>0</th>\n",
       "      <td>0</td>\n",
       "      <td>100</td>\n",
       "      <td>0</td>\n",
       "      <td>0</td>\n",
       "      <td>0</td>\n",
       "      <td>0</td>\n",
       "    </tr>\n",
       "    <tr>\n",
       "      <th>1</th>\n",
       "      <td>0</td>\n",
       "      <td>99</td>\n",
       "      <td>1</td>\n",
       "      <td>0</td>\n",
       "      <td>0</td>\n",
       "      <td>-1</td>\n",
       "    </tr>\n",
       "    <tr>\n",
       "      <th>2</th>\n",
       "      <td>0</td>\n",
       "      <td>98</td>\n",
       "      <td>2</td>\n",
       "      <td>0</td>\n",
       "      <td>0</td>\n",
       "      <td>-1</td>\n",
       "    </tr>\n",
       "    <tr>\n",
       "      <th>3</th>\n",
       "      <td>0</td>\n",
       "      <td>97</td>\n",
       "      <td>2</td>\n",
       "      <td>1</td>\n",
       "      <td>0</td>\n",
       "      <td>-1</td>\n",
       "    </tr>\n",
       "    <tr>\n",
       "      <th>4</th>\n",
       "      <td>0</td>\n",
       "      <td>96</td>\n",
       "      <td>3</td>\n",
       "      <td>1</td>\n",
       "      <td>0</td>\n",
       "      <td>-1</td>\n",
       "    </tr>\n",
       "  </tbody>\n",
       "</table>\n",
       "</div>"
      ],
      "text/plain": [
       "   Score  Flips left  Heads  Tails  Action  Reward\n",
       "0      0         100      0      0       0       0\n",
       "1      0          99      1      0       0      -1\n",
       "2      0          98      2      0       0      -1\n",
       "3      0          97      2      1       0      -1\n",
       "4      0          96      3      1       0      -1"
      ]
     },
     "execution_count": 159,
     "metadata": {},
     "output_type": "execute_result"
    }
   ],
   "source": [
    "import pandas as pd\n",
    "df = pd.read_csv('log_bayes.txt', header=0)\n",
    "print(df.dtypes)\n",
    "df.head()"
   ]
  },
  {
   "cell_type": "code",
   "execution_count": 165,
   "metadata": {},
   "outputs": [
    {
     "data": {
      "text/plain": [
       "2    232\n",
       "3    226\n",
       "0      1\n",
       "Name: Action, dtype: int64"
      ]
     },
     "execution_count": 165,
     "metadata": {},
     "output_type": "execute_result"
    }
   ],
   "source": [
    "df[df[\"Reward\"] == 15]['Action'].value_counts()"
   ]
  }
 ],
 "metadata": {
  "interpreter": {
   "hash": "fc32a243a6b87027c9f6195a114662f388139f44cd834ded9ed282018985cc20"
  },
  "kernelspec": {
   "display_name": "Python 3.10.4 ('web-env')",
   "language": "python",
   "name": "python3"
  },
  "language_info": {
   "codemirror_mode": {
    "name": "ipython",
    "version": 3
   },
   "file_extension": ".py",
   "mimetype": "text/x-python",
   "name": "python",
   "nbconvert_exporter": "python",
   "pygments_lexer": "ipython3",
   "version": "3.10.4"
  },
  "orig_nbformat": 4
 },
 "nbformat": 4,
 "nbformat_minor": 2
}
