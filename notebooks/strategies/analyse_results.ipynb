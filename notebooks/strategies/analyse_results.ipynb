{
 "cells": [
  {
   "cell_type": "code",
   "execution_count": 1,
   "metadata": {},
   "outputs": [
    {
     "name": "stdout",
     "output_type": "stream",
     "text": [
      "Score         int64\n",
      "Flips left    int64\n",
      "Heads         int64\n",
      "Tails         int64\n",
      "Action        int64\n",
      "Reward        int64\n",
      "dtype: object\n"
     ]
    },
    {
     "data": {
      "text/html": [
       "<div>\n",
       "<style scoped>\n",
       "    .dataframe tbody tr th:only-of-type {\n",
       "        vertical-align: middle;\n",
       "    }\n",
       "\n",
       "    .dataframe tbody tr th {\n",
       "        vertical-align: top;\n",
       "    }\n",
       "\n",
       "    .dataframe thead th {\n",
       "        text-align: right;\n",
       "    }\n",
       "</style>\n",
       "<table border=\"1\" class=\"dataframe\">\n",
       "  <thead>\n",
       "    <tr style=\"text-align: right;\">\n",
       "      <th></th>\n",
       "      <th>Score</th>\n",
       "      <th>Flips left</th>\n",
       "      <th>Heads</th>\n",
       "      <th>Tails</th>\n",
       "      <th>Action</th>\n",
       "      <th>Reward</th>\n",
       "    </tr>\n",
       "  </thead>\n",
       "  <tbody>\n",
       "    <tr>\n",
       "      <th>0</th>\n",
       "      <td>0</td>\n",
       "      <td>95</td>\n",
       "      <td>3</td>\n",
       "      <td>2</td>\n",
       "      <td>1</td>\n",
       "      <td>-5</td>\n",
       "    </tr>\n",
       "    <tr>\n",
       "      <th>1</th>\n",
       "      <td>0</td>\n",
       "      <td>94</td>\n",
       "      <td>3</td>\n",
       "      <td>3</td>\n",
       "      <td>0</td>\n",
       "      <td>-1</td>\n",
       "    </tr>\n",
       "    <tr>\n",
       "      <th>2</th>\n",
       "      <td>0</td>\n",
       "      <td>93</td>\n",
       "      <td>4</td>\n",
       "      <td>3</td>\n",
       "      <td>0</td>\n",
       "      <td>-1</td>\n",
       "    </tr>\n",
       "    <tr>\n",
       "      <th>3</th>\n",
       "      <td>0</td>\n",
       "      <td>92</td>\n",
       "      <td>5</td>\n",
       "      <td>3</td>\n",
       "      <td>0</td>\n",
       "      <td>-1</td>\n",
       "    </tr>\n",
       "    <tr>\n",
       "      <th>4</th>\n",
       "      <td>0</td>\n",
       "      <td>91</td>\n",
       "      <td>6</td>\n",
       "      <td>3</td>\n",
       "      <td>0</td>\n",
       "      <td>-1</td>\n",
       "    </tr>\n",
       "  </tbody>\n",
       "</table>\n",
       "</div>"
      ],
      "text/plain": [
       "   Score  Flips left  Heads  Tails  Action  Reward\n",
       "0      0          95      3      2       1      -5\n",
       "1      0          94      3      3       0      -1\n",
       "2      0          93      4      3       0      -1\n",
       "3      0          92      5      3       0      -1\n",
       "4      0          91      6      3       0      -1"
      ]
     },
     "execution_count": 1,
     "metadata": {},
     "output_type": "execute_result"
    }
   ],
   "source": [
    "import pandas as pd\n",
    "df = pd.read_csv('log_bayes_5_start.txt', header=0)\n",
    "print(df.dtypes)\n",
    "df.head()"
   ]
  },
  {
   "cell_type": "code",
   "execution_count": null,
   "metadata": {},
   "outputs": [
    {
     "data": {
      "text/plain": [
       "{0: {-1: 4059, 0: 2, 73: 1},\n",
       " 1: {-30: 1, -10: 1, -5: 938, 15: 1},\n",
       " 2: {-30: 112, -28: 2, 15: 436, 30: 1},\n",
       " 3: {-30: 124, -12: 1, 0: 1, 15: 436, 30: 1}}"
      ]
     },
     "metadata": {},
     "output_type": "display_data"
    }
   ],
   "source": [
    "df_agg = df.groupby(['Action', 'Reward']).agg(Count=('Score','count'))\n",
    "d1 = df_agg['Count'].to_dict()\n",
    "d2 = {a_i:{r:c for (a, r), c in d1.items() if a==a_i} for a_i in range(4)}\n",
    "d2\n",
    "#df_agg.pivot(index='Action', columns='Reward', values='Count').to_dict()"
   ]
  },
  {
   "cell_type": "code",
   "execution_count": null,
   "metadata": {},
   "outputs": [
    {
     "name": "stdout",
     "output_type": "stream",
     "text": [
      "0.5054151624548736 0.7870036101083032 0.7785714285714286 0.7956204379562044 0.7870036101083032\n"
     ]
    }
   ],
   "source": [
    "true_pos = d2[2][15]\n",
    "false_pos = d2[2][-30]\n",
    "false_neg = d2[3][-30]\n",
    "true_neg = d2[3][15]\n",
    "num_positives = (true_pos + false_neg) / (true_pos + false_pos + false_neg + true_neg)\n",
    "accuracy = (true_pos + true_neg) / (true_pos + false_pos + false_neg + true_neg)\n",
    "recall = true_pos / (true_pos + false_neg)\n",
    "precision = true_pos / (true_pos + false_pos)\n",
    "f1 = 2 * precision * recall / (precision + recall)\n",
    "\n",
    "print(*(f\"{v}\" for v in (num_positives, accuracy, recall, precision, f1)))"
   ]
  }
 ],
 "metadata": {
  "interpreter": {
   "hash": "fc32a243a6b87027c9f6195a114662f388139f44cd834ded9ed282018985cc20"
  },
  "kernelspec": {
   "display_name": "Python 3.10.4 ('web-env')",
   "language": "python",
   "name": "python3"
  },
  "language_info": {
   "codemirror_mode": {
    "name": "ipython",
    "version": 3
   },
   "file_extension": ".py",
   "mimetype": "text/x-python",
   "name": "python",
   "nbconvert_exporter": "python",
   "pygments_lexer": "ipython3",
   "version": "3.10.4"
  },
  "orig_nbformat": 4
 },
 "nbformat": 4,
 "nbformat_minor": 2
}
