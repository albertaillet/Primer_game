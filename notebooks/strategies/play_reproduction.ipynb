{
 "cells": [
  {
   "cell_type": "code",
   "execution_count": 1,
   "metadata": {},
   "outputs": [],
   "source": [
    "%load_ext autoreload\n",
    "%autoreload 2"
   ]
  },
  {
   "cell_type": "code",
   "execution_count": 2,
   "metadata": {},
   "outputs": [],
   "source": [
    "import random\n",
    "from simulate_strategy import simulate_strategy"
   ]
  },
  {
   "cell_type": "markdown",
   "metadata": {},
   "source": [
    "### Strategy: I try to reproduce my play.\n",
    "This strategy tries to mimic the way I play the game in my head."
   ]
  },
  {
   "cell_type": "code",
   "execution_count": 3,
   "metadata": {},
   "outputs": [
    {
     "name": "stderr",
     "output_type": "stream",
     "text": [
      "c:\\Users\\alber\\Documents\\My_Code\\Primer_game\\game.py:83: UserWarning: \u001b[33mWARN: You are calling 'step()' even though this environment has already returned done = True. You should always call 'reset()' once you receive 'done = True' -- any further steps are undefined behavior.\u001b[0m\n",
      "  logger.warn(\n"
     ]
    },
    {
     "name": "stdout",
     "output_type": "stream",
     "text": [
      "score 33.126 ± 42.26409970648848\n",
      "n_labels 44.604 ± 53.1022898188016\n",
      "n_flips_per_game 268.556 ± 310.72848737120967\n",
      "n_flips_per_label 6.020894986996682 ± 6.059528416165255\n",
      "reward -0.37043683739941247 ± 7.5833877340100875\n"
     ]
    }
   ],
   "source": [
    "def strategy_mimic_attempt(n_heads, n_tails, flips_left):\n",
    "    n_throws = n_heads + n_tails\n",
    "    diff = (n_heads-n_tails)\n",
    "    if diff > 5:\n",
    "        return 3\n",
    "    elif diff < 0 or (n_throws > 10 and diff < 1):\n",
    "        return 2\n",
    "    if flips_left <= 0:\n",
    "        if diff > 4:\n",
    "            return 3\n",
    "        else:\n",
    "            return 2\n",
    "    return 0\n",
    "\n",
    "random.seed(1)\n",
    "simulate_strategy(strategy_mimic_attempt, n_simulations=1000)"
   ]
  }
 ],
 "metadata": {
  "interpreter": {
   "hash": "fc32a243a6b87027c9f6195a114662f388139f44cd834ded9ed282018985cc20"
  },
  "kernelspec": {
   "display_name": "Python 3.10.4 ('web-env')",
   "language": "python",
   "name": "python3"
  },
  "language_info": {
   "codemirror_mode": {
    "name": "ipython",
    "version": 3
   },
   "file_extension": ".py",
   "mimetype": "text/x-python",
   "name": "python",
   "nbconvert_exporter": "python",
   "pygments_lexer": "ipython3",
   "version": "3.10.4"
  },
  "orig_nbformat": 4
 },
 "nbformat": 4,
 "nbformat_minor": 2
}
