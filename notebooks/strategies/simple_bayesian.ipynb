{
 "cells": [
  {
   "cell_type": "code",
   "execution_count": 1,
   "metadata": {},
   "outputs": [],
   "source": [
    "%load_ext autoreload\n",
    "%autoreload 2"
   ]
  },
  {
   "cell_type": "code",
   "execution_count": 102,
   "metadata": {},
   "outputs": [],
   "source": [
    "import daft\n",
    "import os, sys, time\n",
    "import numpy as np\n",
    "import matplotlib.pyplot as plt\n",
    "from IPython.display import clear_output\n",
    "from scipy.stats import binom\n",
    "\n",
    "module_path = os.path.abspath(os.path.join('../..'))\n",
    "if module_path not in sys.path:\n",
    "    sys.path.append(module_path)\n",
    "from game_simulation import CoinGameSimulation\n",
    "from game_browser import CoinGameBrowser\n",
    "from simulate_strategy import simulate_strategy"
   ]
  },
  {
   "cell_type": "code",
   "execution_count": null,
   "metadata": {},
   "outputs": [],
   "source": [
    "def get_pgm():\n",
    "    y = 1 \n",
    "    pgm = daft.PGM()\n",
    "    pgm.add_node(\"p\", r\"$p$\", 0, y, fixed=True, offset=(1, 3))\n",
    "    pgm.add_node(\"L\", r\"$L$\", 1, y)\n",
    "    pgm.add_node(\"theta\", r\"$\\theta$\", 2, y, fixed=True)\n",
    "    pgm.add_node(\"H_n\", r\"$H_n$\", 3, y, observed=True)\n",
    "    pgm.add_edge(\"p\", \"L\")\n",
    "    pgm.add_edge(\"L\", \"theta\")\n",
    "    pgm.add_edge(\"theta\", \"H_n\")\n",
    "    pgm.add_plate([2.5, 0.5, 1, 1], label=r\"$n = 1:N$\", shift=-0.2)\n",
    "    return pgm.render()"
   ]
  },
  {
   "cell_type": "markdown",
   "metadata": {},
   "source": [
    "### Strategy 4: make use of simple Bayesian reasoning.\n",
    "This strategy use simple Bayeisan resoning to determine the best strategy to play.\n",
    "\n",
    "The following code shows the probabilitic graphical model for the coin flip distribution."
   ]
  },
  {
   "cell_type": "code",
   "execution_count": null,
   "metadata": {},
   "outputs": [],
   "source": [
    "get_pgm().set_title(\"PGM of Coin flip\");"
   ]
  },
  {
   "cell_type": "markdown",
   "metadata": {},
   "source": [
    "\n",
    "- $p$: The parameter of the Bernoulli distribution of L, is the probability of the opponent being fair.\n",
    "- $L$:  Bernouilli distribution with unkown parameter p. Determines if the opponent is a cheater or not.\n",
    "- $\\theta$: The parameter of the Bernoulli distribution of H.\n",
    "- $H_{1:N}$: Bernouilli distribution with parameter $\\theta$ and $N$ samples. Gives the number of heads.\n",
    "\n",
    "We use Bayes rule to get:\n",
    "$$\n",
    "\\begin{align*}\n",
    "P(L | H_{1:N}) &= \\frac{P(H_{1:N} | L) \\cdot P(L)}{P(H_{1:N})} \\\\\n",
    "               &= \\frac{\\sum_{\\theta=0}^1 P(H_{1:N} | L) \\cdot P(L)}{P(H_{1:N})} \\\\\n",
    "               &\\propto \\sum_{\\theta=0}^1 P(H_{1:N} | L) \\cdot P(L)\\\\\n",
    "\\end{align*}\n",
    "$$\n",
    "\n",
    "We know that:\n",
    "$$\n",
    "p = 0.5\n",
    "$$\n",
    "$$\n",
    "\\theta=0.5 \\text{ if } L=0, \\text{ and } \\theta=0.75 \\text{ if } L=1.\n",
    "$$\n",
    "<!--\n",
    "Meaning that:\n",
    "\n",
    " $$\n",
    "P(\\theta | L=0) = \n",
    "\\begin{cases}\n",
    "& 1\\quad \\text{if } \\theta=0.5 \\\\\n",
    "& 0\\quad \\text{otherwise} \\\\\n",
    "\\end{cases} \\\\\n",
    "\n",
    "P(\\theta | L=1) = \n",
    "\\begin{cases}\n",
    "& 1\\quad \\text{if } \\theta=0.75 \\\\\n",
    "& 0\\quad \\text{otherwise} \\\\\n",
    "\\end{cases} \\\\\n",
    "\n",
    "$$ -->"
   ]
  },
  {
   "cell_type": "code",
   "execution_count": 140,
   "metadata": {},
   "outputs": [],
   "source": [
    "class StrategyBayseian:\n",
    "\n",
    "    def __init__(self, \n",
    "                 threshold = 0.75, \n",
    "                 n = 50,\n",
    "                 flip_5_at_start = False):\n",
    "        # max value for n is 500\n",
    "        self.threshold = threshold \n",
    "        self.flip_5_at_start = flip_5_at_start\n",
    "\n",
    "        n_heads_array = np.arange(n).reshape(n, 1)\n",
    "        n_tails_array = np.arange(n)\n",
    "        p = np.zeros((n, n, 2))\n",
    "        p[:, :, 0] = 0.5 ** n_heads_array * 0.5 ** n_tails_array\n",
    "        p[:, :, 1] = 0.75 ** n_heads_array * (1-0.75) ** n_tails_array\n",
    "        self.p = p / p.sum(axis=2)[:, :, np.newaxis]\n",
    "\n",
    "    def set_theshold(self, threshold):\n",
    "        assert 0 <= threshold <= 1\n",
    "        self.threshold = threshold\n",
    "\n",
    "    def show_p(self, shape=None):\n",
    "        if shape is None:\n",
    "            shape = self.p.shape\n",
    "        plt.imshow(self.p[:shape[0], :shape[1], 0])\n",
    "        plt.show()\n",
    "\n",
    "    def get_p(self):\n",
    "        return self.p\n",
    "\n",
    "    def strategy(self, n_heads, n_tails, flips_left):\n",
    "        if self.flip_5_at_start and n_heads + n_tails == 0 and flips_left >= 5:\n",
    "            return 1\n",
    "        \n",
    "        p = self.p[n_heads, n_tails, :]\n",
    "\n",
    "        if np.max(p) > self.threshold or flips_left == 0:\n",
    "            label = np.argmax(p)\n",
    "            return label + 2\n",
    "        else:\n",
    "            return 0"
   ]
  },
  {
   "cell_type": "code",
   "execution_count": 141,
   "metadata": {},
   "outputs": [],
   "source": [
    "strat = StrategyBayseian()\n",
    "g = CoinGameSimulation()\n",
    "scores = []"
   ]
  },
  {
   "cell_type": "code",
   "execution_count": 126,
   "metadata": {},
   "outputs": [
    {
     "data": {
      "image/png": "[encoded data removed]",
      "text/plain": [
       "<Figure size 432x288 with 1 Axes>"
      ]
     },
     "metadata": {
      "needs_background": "light"
     },
     "output_type": "display_data"
    }
   ],
   "source": [
    "for i in range(100):\n",
    "    (n_heads, n_tails, flips_left) = g.reset()\n",
    "    done = False\n",
    "    while not done:\n",
    "        action = strat.strategy(n_heads, n_tails, flips_left)\n",
    "        (n_heads, n_tails, flips_left), reward, done, info = g.step(action)\n",
    "\n",
    "    score = info[\"score\"]\n",
    "    scores.append(score)\n",
    "\n",
    "clear_output(wait=True)\n",
    "plt.plot(scores, label=\"scores\")\n",
    "plt.show()"
   ]
  },
  {
   "cell_type": "code",
   "execution_count": 144,
   "metadata": {},
   "outputs": [],
   "source": [
    "strat.set_theshold(0.78)\n",
    "simulate_strategy(strat.strategy, n_simulations=500)"
   ]
  },
  {
   "cell_type": "code",
   "execution_count": null,
   "metadata": {},
   "outputs": [],
   "source": [
    "strat.flip_5_at_start = True"
   ]
  },
  {
   "cell_type": "code",
   "execution_count": null,
   "metadata": {},
   "outputs": [],
   "source": [
    "g = CoinGameBrowser()\n",
    "log_file = \"log_strat4.txt\""
   ]
  },
  {
   "cell_type": "code",
   "execution_count": null,
   "metadata": {},
   "outputs": [],
   "source": [
    "n "
   ]
  },
  {
   "cell_type": "code",
   "execution_count": null,
   "metadata": {},
   "outputs": [],
   "source": [
    "with open(log_file, 'w') as f:\n",
    "    f.write('Score,Flips left,Heads,Tails,Action,Reward\\n')"
   ]
  },
  {
   "cell_type": "code",
   "execution_count": null,
   "metadata": {},
   "outputs": [],
   "source": [
    "for i in range(20):\n",
    "    (n_heads, n_tails, flips_left) = g.reset()\n",
    "    done = False\n",
    "    while not done:\n",
    "        action = strat.strategy(n_heads, n_tails, flips_left)\n",
    "        (n_heads, n_tails, flips_left), reward, done, info = g.step(action)\n",
    "        score = info[\"score\"]\n",
    "        with open(log_file, 'a') as f:\n",
    "            f.write(f'{score:3},{flips_left:3},{n_heads:2},{n_tails:2},{action:2},{reward:3}\\n')\n",
    "    if score > 100:\n",
    "        break\n",
    "\n",
    "from pygame import mixer, time\n",
    "mixer.init()\n",
    "while True:\n",
    "    sound = mixer.Sound(\"coin-win-notification.wav\")\n",
    "    sound.play()\n",
    "    time.wait(int(sound.get_length() * 1000))"
   ]
  },
  {
   "cell_type": "code",
   "execution_count": null,
   "metadata": {},
   "outputs": [],
   "source": []
  }
 ],
 "metadata": {
  "interpreter": {
   "hash": "fc32a243a6b87027c9f6195a114662f388139f44cd834ded9ed282018985cc20"
  },
  "kernelspec": {
   "display_name": "Python 3.10.4 ('web-env')",
   "language": "python",
   "name": "python3"
  },
  "language_info": {
   "codemirror_mode": {
    "name": "ipython",
    "version": 3
   },
   "file_extension": ".py",
   "mimetype": "text/x-python",
   "name": "python",
   "nbconvert_exporter": "python",
   "pygments_lexer": "ipython3",
   "version": "3.10.4"
  },
  "orig_nbformat": 4
 },
 "nbformat": 4,
 "nbformat_minor": 2
}
