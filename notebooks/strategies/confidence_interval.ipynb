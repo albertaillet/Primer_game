{
 "cells": [
  {
   "cell_type": "code",
   "execution_count": 1,
   "metadata": {},
   "outputs": [],
   "source": [
    "%load_ext autoreload\n",
    "%autoreload 2"
   ]
  },
  {
   "cell_type": "code",
   "execution_count": 2,
   "metadata": {},
   "outputs": [],
   "source": [
    "import numpy as np\n",
    "import scipy.stats as st\n",
    "from simulate_strategy import simulate_strategy"
   ]
  },
  {
   "cell_type": "markdown",
   "metadata": {},
   "source": [
    "### Strategy 1\n",
    "This stategy uses the [Binomial proportion confidence interval](https://en.wikipedia.org/wiki/Binomial_proportion_confidence_interval) to determine the the coin to choose."
   ]
  },
  {
   "cell_type": "code",
   "execution_count": 5,
   "metadata": {},
   "outputs": [
    {
     "name": "stdout",
     "output_type": "stream",
     "text": [
      "score 21.0 ± 0.0\n",
      "n_labels 27.0 ± 0.0\n",
      "n_flips_per_game 265.0 ± 0.0\n",
      "n_flips_per_label 9.814814814814815 ± 22.037068160575593\n",
      "reward -0.7065217391304348 ± 7.674829049899391\n"
     ]
    }
   ],
   "source": [
    "z = st.norm.ppf(.90)\n",
    "p_fair = 0.5\n",
    "p_cheater = 0.9\n",
    "\n",
    "def strategy_binom_ci(n_heads, n_tails, flips_left):\n",
    "    n = n_heads + n_tails\n",
    "    if n == 0:\n",
    "        return 1\n",
    "    p_hat = n_heads / n\n",
    "\n",
    "    p_hat_ci = z * np.sqrt(p_hat * (1 - p_hat) / n)\n",
    "\n",
    "    if p_hat - p_hat_ci < p_fair < p_cheater + p_hat_ci:\n",
    "        return 2\n",
    "    \n",
    "    if p_hat - p_hat_ci < p_cheater < p_cheater + p_hat_ci:\n",
    "        return 3\n",
    "    \n",
    "    if flips_left <= 0:\n",
    "        if abs(p_fair-p_hat) > abs(p_cheater-p_hat):\n",
    "            return 2\n",
    "        else:\n",
    "            return 3\n",
    "    \n",
    "    return 0\n",
    "\n",
    "simulate_strategy(strategy_binom_ci, n_simulations=1)"
   ]
  }
 ],
 "metadata": {
  "interpreter": {
   "hash": "fc32a243a6b87027c9f6195a114662f388139f44cd834ded9ed282018985cc20"
  },
  "kernelspec": {
   "display_name": "Python 3.10.4 ('web-env')",
   "language": "python",
   "name": "python3"
  },
  "language_info": {
   "codemirror_mode": {
    "name": "ipython",
    "version": 3
   },
   "file_extension": ".py",
   "mimetype": "text/x-python",
   "name": "python",
   "nbconvert_exporter": "python",
   "pygments_lexer": "ipython3",
   "version": "3.10.4"
  },
  "orig_nbformat": 4
 },
 "nbformat": 4,
 "nbformat_minor": 2
}
