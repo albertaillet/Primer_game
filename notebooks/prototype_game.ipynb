{
 "cells": [
  {
   "cell_type": "code",
   "execution_count": 1,
   "metadata": {},
   "outputs": [],
   "source": [
    "import io\n",
    "import cv2\n",
    "# import math\n",
    "# import json\n",
    "import base64 \n",
    "import numpy as np\n",
    "from PIL import Image\n",
    "import pytesseract as tess\n",
    "from scipy import ndimage as ndi\n",
    "from matplotlib import pyplot as plt\n",
    "import plotly.express as px\n",
    "\n",
    "tess.pytesseract.tesseract_cmd = \"C:\\\\Users\\\\alber\\\\AppData\\\\Local\\\\Programs\\\\Tesseract-OCR\\\\tesseract.exe\"\n",
    "\n",
    "from selenium import webdriver\n",
    "from selenium.webdriver.common.action_chains import ActionChains\n",
    "from selenium.webdriver.support.ui import WebDriverWait\n",
    "from selenium.webdriver.remote.webelement import WebElement\n",
    "from selenium.webdriver.common.by import By\n",
    "from selenium.webdriver.support import expected_conditions as EC"
   ]
  },
  {
   "cell_type": "code",
   "execution_count": 2,
   "metadata": {},
   "outputs": [],
   "source": [
    "chrome_options = webdriver.ChromeOptions()\n",
    "mobile_emulation = { \"deviceName\": \"iPhone 6\" }\n",
    "chrome_options.add_experimental_option(\"mobileEmulation\", mobile_emulation)\n",
    "driver = webdriver.Chrome(\"C:\\\\Users\\\\alber\\\\Documents\\\\My_Code\\\\Primer_game\\\\chromedriver.exe\", options= chrome_options)\n",
    "driver.get('https://primerlearning.org/')"
   ]
  },
  {
   "cell_type": "code",
   "execution_count": 3,
   "metadata": {},
   "outputs": [],
   "source": [
    "driver.set_window_size(300,850)\n",
    "coin_flip_app = driver.find_element_by_id(\"coin-flip-app\")\n",
    "driver.execute_script(\"arguments[0].scrollIntoView();\", coin_flip_app)"
   ]
  },
  {
   "cell_type": "code",
   "execution_count": null,
   "metadata": {},
   "outputs": [],
   "source": [
    "driver.find_element_by_id(\"unity-loading-bar\")"
   ]
  },
  {
   "cell_type": "code",
   "execution_count": 8,
   "metadata": {},
   "outputs": [],
   "source": [
    "#iframe = driver.find_elements_by_tag_name('iframe')[0]\n",
    "#driver.switch_to.frame(iframe)\n",
    "# progress =  (WebDriverWait(driver, 20)\n",
    "#             .until(EC.visibility_of_element_located((By.ID, \"unity-progress-bar-full\")))\n",
    "#             )\n",
    "# progress =  WebDriverWait(driver, 5).until(EC.visibility_of_element_located((By.ID,\"unity-progress-bar-full\")))\n",
    "# progressCondition = progress.get_attribute('width')\n",
    "# print(progressCondition)\n",
    "# print(driver.find_element_by_id(\"unity-progress-bar-full\").get_attribute(\"style\"))\n",
    "iframe = driver.find_elements_by_tag_name('iframe')[0]\n",
    "driver.switch_to.frame(iframe)\n",
    "progress = (WebDriverWait(driver, 40)\n",
    "           .until(lambda drvr: (drvr.find_element_by_id(\"unity-progress-bar-full\")\n",
    "                                    .get_attribute(\"style\") == \"width: 100%;\"))\n",
    "           )\n",
    "driver.switch_to.default_content()"
   ]
  },
  {
   "cell_type": "code",
   "execution_count": null,
   "metadata": {},
   "outputs": [],
   "source": [
    "num = driver.execute_script('return document.querySelector(\"#unity-progress-bar-full\");')"
   ]
  },
  {
   "cell_type": "code",
   "execution_count": null,
   "metadata": {},
   "outputs": [],
   "source": [
    "# actions = webdriver.common.action_chains.ActionChains(driver)\n",
    "# actions.move_to_element(coin_flip_app).perform()\n"
   ]
  },
  {
   "cell_type": "code",
   "execution_count": null,
   "metadata": {},
   "outputs": [],
   "source": [
    "# link_bar = driver.find_element_by_class_name(\"link-bar\")\n",
    "# page_footer = driver.find_element_by_class_name(\"page-footer\")\n",
    "# page_content = driver.find_element_by_class_name(\"page-content\")\n"
   ]
  },
  {
   "cell_type": "code",
   "execution_count": null,
   "metadata": {},
   "outputs": [],
   "source": [
    "x, y = 330, 500\n",
    "# Show flipping animation: x, y = 50, 550\n",
    "# 5 Coins: x, y = 330, 500\n",
    "# 1 Coin: x, y = 20, 500\n",
    "#Cheater x, y = 330, 600\n",
    "#Leaderboard x, y = 330, 20\n",
    "#Fair: x, y = 20, 600\n",
    "#Game: x, y = 20, 20\n",
    "action = ActionChains(driver)\n",
    "action.move_to_element_with_offset(coin_flip_app, x, y)\n",
    "action.click()\n",
    "action.perform()"
   ]
  },
  {
   "cell_type": "code",
   "execution_count": null,
   "metadata": {},
   "outputs": [],
   "source": [
    "# Get the score\n",
    "def get_page_screenshot():\n",
    "    screenshot = driver.get_screenshot_as_base64()\n",
    "    screenshot = base64.b64decode(screenshot)\n",
    "    screenshot = io.BytesIO(screenshot)\n",
    "    screenshot = Image.open(screenshot).convert('L')\n",
    "    screenshot = np.asarray(screenshot)\n",
    "    return screenshot\n",
    "\n",
    "def crop_to_results(screenshot):\n",
    "    return screenshot[490:600, 325:550]\n",
    "\n",
    "def get_results(screenshot):\n",
    "    text = tess.image_to_string(crop)\n",
    "    if 'Heads: ' in text and 'Tails: ' in text:\n",
    "        text_tuples = [line.split(': ') for line in text.split('\\n')[:2]]\n",
    "        text_dict = {k: int(v) for k, v in text_tuples}\n",
    "        return text_dict\n",
    "    return {'Heads': 0, 'Tails': 0}\n",
    "\n",
    "image = get_page_screenshot()\n",
    "crop = get_results(image)\n",
    "plt.imshow(crop)"
   ]
  },
  {
   "cell_type": "code",
   "execution_count": null,
   "metadata": {},
   "outputs": [],
   "source": [
    "thresholded_image = image.copy().astype(np.uint8)\n",
    "import cv2\n",
    "thresholded_image = cv2.GaussianBlur(thresholded_image, (5, 5), 9)\n",
    "threshold = 255\n",
    "thresholded_image[image>=threshold] = 255\n",
    "thresholded_image[image<threshold] = 0\n",
    "label_objects, nb_labels = ndi.label(thresholded_image)\n",
    "print(nb_labels)"
   ]
  },
  {
   "cell_type": "code",
   "execution_count": null,
   "metadata": {},
   "outputs": [],
   "source": [
    "label_objects, nb_labels = ndi.label(thresholded_image)\n",
    "print(nb_labels)\n",
    "a = label_objects.copy()\n",
    "a[label_objects>0] = 0\n",
    "a[label_objects==63] = 1\n",
    "\n",
    "def remove_noise(label_img,threshold):\n",
    "    label_img_new = label_img.copy()\n",
    "    n_comp = np.amax(label_img)\n",
    "    for i in range(n_comp+1):\n",
    "        n_pixels = sum(sum(label_img==i))\n",
    "        if n_pixels<threshold : \n",
    "             label_img_new[label_img==i] = 0\n",
    "    return label_img_new\n",
    "\n",
    "new = remove_noise(label_objects,100)\n",
    "px.imshow(new)"
   ]
  },
  {
   "cell_type": "code",
   "execution_count": null,
   "metadata": {},
   "outputs": [],
   "source": [
    "print(nb_labels)"
   ]
  },
  {
   "cell_type": "code",
   "execution_count": null,
   "metadata": {},
   "outputs": [],
   "source": []
  }
 ],
 "metadata": {
  "interpreter": {
   "hash": "fc32a243a6b87027c9f6195a114662f388139f44cd834ded9ed282018985cc20"
  },
  "kernelspec": {
   "display_name": "Python 3.10.4 ('web-env')",
   "language": "python",
   "name": "python3"
  },
  "language_info": {
   "codemirror_mode": {
    "name": "ipython",
    "version": 3
   },
   "file_extension": ".py",
   "mimetype": "text/x-python",
   "name": "python",
   "nbconvert_exporter": "python",
   "pygments_lexer": "ipython3",
   "version": "3.10.4"
  },
  "orig_nbformat": 4
 },
 "nbformat": 4,
 "nbformat_minor": 2
}
