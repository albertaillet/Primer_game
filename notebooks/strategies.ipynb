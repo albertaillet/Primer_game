{
 "cells": [
  {
   "cell_type": "code",
   "execution_count": 1,
   "metadata": {},
   "outputs": [],
   "source": [
    "import os\n",
    "import sys\n",
    "module_path = os.path.abspath(os.path.join('..'))\n",
    "if module_path not in sys.path:\n",
    "    sys.path.append(module_path)\n",
    "import time\n",
    "import numpy as np\n",
    "from game_simulation import CoinGameSimulation"
   ]
  },
  {
   "cell_type": "code",
   "execution_count": 2,
   "metadata": {},
   "outputs": [],
   "source": [
    "g = CoinGameSimulation()"
   ]
  },
  {
   "cell_type": "markdown",
   "metadata": {},
   "source": [
    "Cheaters are only biased against heads!"
   ]
  },
  {
   "cell_type": "code",
   "execution_count": 13,
   "metadata": {},
   "outputs": [
    {
     "name": "stdout",
     "output_type": "stream",
     "text": [
      "20.034 ± 20.31405533122326\n"
     ]
    }
   ],
   "source": [
    "scores = []\n",
    "\n",
    "for _ in range(500):\n",
    "    iterations = 0\n",
    "    while not g.game_over:\n",
    "        iterations += 1\n",
    "        data = g.get_data()\n",
    "        n_heads = data['heads']\n",
    "        n_tails = data['tails']\n",
    "        flips_left = data['flips_left']\n",
    "        n_throws = n_heads + n_tails\n",
    "        #print(data)\n",
    "        #time.sleep(1)\n",
    "        if n_throws == 0:\n",
    "            g.flip_five_coins()\n",
    "        diff = (n_heads-n_tails)\n",
    "        if diff > 3:\n",
    "            g.label_cheater()\n",
    "        elif diff < -3 or n_throws > 10 or flips_left == 0:\n",
    "            g.label_fair()\n",
    "        g.flip_one_coin()\n",
    "    scores.append(g.get_score())\n",
    "    g.reset_game()\n",
    "\n",
    "print(np.mean(scores), \"±\", np.std(scores))"
   ]
  },
  {
   "cell_type": "code",
   "execution_count": null,
   "metadata": {},
   "outputs": [],
   "source": [
    "print(data)"
   ]
  },
  {
   "cell_type": "code",
   "execution_count": null,
   "metadata": {},
   "outputs": [],
   "source": [
    "import pandas as pd\n",
    "pd.read_csv(\"logs.txt\")"
   ]
  }
 ],
 "metadata": {
  "interpreter": {
   "hash": "fc32a243a6b87027c9f6195a114662f388139f44cd834ded9ed282018985cc20"
  },
  "kernelspec": {
   "display_name": "Python 3.10.4 ('web-env')",
   "language": "python",
   "name": "python3"
  },
  "language_info": {
   "codemirror_mode": {
    "name": "ipython",
    "version": 3
   },
   "file_extension": ".py",
   "mimetype": "text/x-python",
   "name": "python",
   "nbconvert_exporter": "python",
   "pygments_lexer": "ipython3",
   "version": "3.10.4"
  },
  "orig_nbformat": 4
 },
 "nbformat": 4,
 "nbformat_minor": 2
}
