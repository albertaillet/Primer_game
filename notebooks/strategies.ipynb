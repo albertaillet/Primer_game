{
 "cells": [
  {
   "cell_type": "code",
   "execution_count": 1,
   "metadata": {},
   "outputs": [],
   "source": [
    "%load_ext autoreload\n",
    "%autoreload 2"
   ]
  },
  {
   "cell_type": "code",
   "execution_count": 2,
   "metadata": {},
   "outputs": [],
   "source": [
    "import os\n",
    "import sys\n",
    "import time\n",
    "import random\n",
    "import numpy as np\n",
    "import scipy.stats as st\n",
    "import matplotlib.pyplot as plt\n",
    "from IPython.display import clear_output, display\n",
    "from tqdm import tqdm\n",
    "\n",
    "module_path = os.path.abspath(os.path.join('..'))\n",
    "if module_path not in sys.path:\n",
    "    sys.path.append(module_path)\n",
    "from game_simulation import CoinGameSimulation"
   ]
  },
  {
   "cell_type": "code",
   "execution_count": 10,
   "metadata": {},
   "outputs": [
    {
     "data": {
      "text/plain": [
       "(0, 0, 100)"
      ]
     },
     "execution_count": 10,
     "metadata": {},
     "output_type": "execute_result"
    }
   ],
   "source": [
    "g=CoinGameSimulation()\n",
    "g.reset()"
   ]
  },
  {
   "cell_type": "markdown",
   "metadata": {},
   "source": [
    "Cheaters are only biased against heads!"
   ]
  },
  {
   "cell_type": "code",
   "execution_count": 3,
   "metadata": {},
   "outputs": [],
   "source": [
    "def simulate_strategy(strategy, n_simulations=500):\n",
    "    # Simulate the game with the given strategy\n",
    "    # strategy is a function that takes n_heads, n_tails and flips_left and returns an action in (\"fair\", \"cheater\", \"one_flip\", \"five_flips\")\n",
    "    g = CoinGameSimulation()\n",
    "    scores = []\n",
    "    n_labels_list = []\n",
    "    n_flips_list = []\n",
    "    n_flips_per_label_list = []\n",
    "    rewards = []\n",
    "    for _ in range(n_simulations):\n",
    "        n_heads, n_tails, flips_left = g.reset()\n",
    "        n_labels = 0\n",
    "        n_flips = 0\n",
    "        n_flips_per_label = 0\n",
    "        done = g.done\n",
    "        while not done:\n",
    "            action = strategy(n_heads, n_tails, flips_left)\n",
    "            (n_heads, n_tails, flips_left), reward, done, _ = g.step(action)\n",
    "            rewards.append(reward)\n",
    "\n",
    "            if action == 2:\n",
    "                n_labels += 1\n",
    "                n_flips_per_label_list.append(n_flips_per_label)\n",
    "                n_flips_per_label = 0\n",
    "            elif action == 3:\n",
    "                n_labels += 1\n",
    "                n_flips_per_label_list.append(n_flips_per_label)\n",
    "                n_flips_per_label = 0\n",
    "            elif action == 0:\n",
    "                n_flips_per_label += 1\n",
    "                n_flips += 1\n",
    "            elif action == 1:\n",
    "                n_flips_per_label += 5\n",
    "                n_flips += 5\n",
    "            else:\n",
    "                raise ValueError(\"Unknown action: {}\".format(action))\n",
    "        scores.append(g.score)\n",
    "        n_labels_list.append(n_labels)\n",
    "        n_flips_list.append(n_flips)\n",
    "    \n",
    "    for name, l in zip([\"score\", \"n_labels\", \"n_flips_per_game\", \"n_flips_per_label\", \"reward\"],[scores, n_labels_list, n_flips_list, n_flips_per_label_list, rewards]):\n",
    "        print(name, np.mean(l), \"±\", np.std(l))"
   ]
  },
  {
   "cell_type": "markdown",
   "metadata": {},
   "source": [
    "### Baseline strategy\n",
    "This is simply the random strategy to get a baseline of what to beat."
   ]
  },
  {
   "cell_type": "code",
   "execution_count": 12,
   "metadata": {},
   "outputs": [
    {
     "name": "stdout",
     "output_type": "stream",
     "text": [
      "score 6.92 ± 7.423314623535768\n",
      "n_labels 14.088 ± 11.134821776750627\n",
      "n_flips_per_game 0.0 ± 0.0\n",
      "n_flips_per_label 0.0 ± 0.0\n",
      "reward -7.896081771720613 ± 22.496513490541393\n"
     ]
    }
   ],
   "source": [
    "simulate_strategy(lambda *_: random.choice([2,3]))"
   ]
  },
  {
   "cell_type": "markdown",
   "metadata": {},
   "source": [
    "### Strategy 1\n",
    "This stategy uses the [Binomial proportion confidence interval](https://en.wikipedia.org/wiki/Binomial_proportion_confidence_interval) to determine the the coin to choose."
   ]
  },
  {
   "cell_type": "code",
   "execution_count": 16,
   "metadata": {},
   "outputs": [
    {
     "name": "stdout",
     "output_type": "stream",
     "text": [
      "score 38.0 ± 0.0\n",
      "n_labels 50.0 ± 0.0\n",
      "n_flips_per_game 340.0 ± 0.0\n",
      "n_flips_per_label 6.8 ± 7.691553809211765\n",
      "reward -0.6842105263157895 ± 10.4128090733377\n"
     ]
    },
    {
     "name": "stderr",
     "output_type": "stream",
     "text": [
      "c:\\Users\\alber\\Documents\\My_Code\\Primer_game\\game.py:83: UserWarning: \u001b[33mWARN: You are calling 'step()' even though this environment has already returned done = True. You should always call 'reset()' once you receive 'done = True' -- any further steps are undefined behavior.\u001b[0m\n",
      "  logger.warn(\n"
     ]
    }
   ],
   "source": [
    "z = st.norm.ppf(.90)\n",
    "p_fair = 0.5\n",
    "p_cheater = 0.9\n",
    "\n",
    "def strategy_binom_ci(n_heads, n_tails, flips_left):\n",
    "    n = n_heads + n_tails\n",
    "    if n == 0:\n",
    "        return 1\n",
    "    p_hat = n_heads / n\n",
    "\n",
    "    p_hat_ci = z * np.sqrt(p_hat * (1 - p_hat) / n)\n",
    "\n",
    "    if p_hat - p_hat_ci < p_fair < p_cheater + p_hat_ci:\n",
    "        return 2\n",
    "    \n",
    "    if p_hat - p_hat_ci < p_cheater < p_cheater + p_hat_ci:\n",
    "        return 3\n",
    "    \n",
    "    if flips_left <= 0:\n",
    "        if abs(p_fair-p_hat) > abs(p_cheater-p_hat):\n",
    "            return 2\n",
    "        else:\n",
    "            return 3\n",
    "    \n",
    "    return 0\n",
    "\n",
    "simulate_strategy(strategy_binom_ci, n_simulations=1)"
   ]
  },
  {
   "cell_type": "markdown",
   "metadata": {},
   "source": [
    "### Strategy 2: I try to reproduce my play.\n",
    "This strategy tries to mimic the way I play the game in my head."
   ]
  },
  {
   "cell_type": "code",
   "execution_count": null,
   "metadata": {},
   "outputs": [],
   "source": [
    "def strategy_mimic_attempt(n_heads, n_tails, flips_left):\n",
    "    n_throws = n_heads + n_tails\n",
    "    diff = (n_heads-n_tails)\n",
    "    if diff > 5:\n",
    "        return 3\n",
    "    elif diff < 0 or (n_throws > 10 and diff < 1):\n",
    "        return 2\n",
    "    if flips_left <= 0:\n",
    "        if diff > 4:\n",
    "            return 3\n",
    "        else:\n",
    "            return 2\n",
    "    return 0\n",
    "\n",
    "random.seed(1)\n",
    "simulate_strategy(strategy_mimic_attempt, n_simulations=1000)"
   ]
  },
  {
   "cell_type": "markdown",
   "metadata": {},
   "source": [
    "### Strategy 3: make use of Bayesian inference.\n",
    "This strategy uses Bayesian inference to determine the best strategy to play.\n",
    "\n",
    "The following wikipedia pages were used as reference \n",
    "[Checking whether a coin is fair](https://en.wikipedia.org/wiki/Checking_whether_a_coin_is_fair) and [Bayesian inference](https://en.wikipedia.org/wiki/Bayesian_inference).\n",
    "\n",
    "The following code shows the probabilitic graphical model for the coin flip distribution."
   ]
  },
  {
   "cell_type": "code",
   "execution_count": 80,
   "metadata": {},
   "outputs": [
    {
     "data": {
      "image/png": "[encoded data removed]",
      "text/plain": [
       "<Figure size 212.126x79.3701 with 1 Axes>"
      ]
     },
     "metadata": {},
     "output_type": "display_data"
    }
   ],
   "source": [
    "import daft\n",
    "\n",
    "pgm = daft.PGM()\n",
    "pgm.add_node(\"p\", r\"$p$\", 0, 0, fixed=True, offset=(1, 5))\n",
    "pgm.add_node(\"L\", r\"$L$\", 1, 0)\n",
    "pgm.add_node(\"theta\", r\"$\\theta$\", 2, 0)\n",
    "pgm.add_node(\"H_n\", r\"$H_n$\", 3, 0, observed=True)\n",
    "pgm.add_edge(\"p\", \"L\")\n",
    "pgm.add_edge(\"L\", \"theta\")\n",
    "pgm.add_edge(\"theta\", \"H_n\")\n",
    "pgm.add_plate([2.5, -0.5, 1, 1], label=r\"$n = 1:N$\", shift=-0.2)\n",
    "ax = pgm.render()\n",
    "_ = ax.set_title(\"PGM of Coin flip\")"
   ]
  },
  {
   "cell_type": "markdown",
   "metadata": {},
   "source": [
    "\n",
    "Distributions:\n",
    "- $L \\sim$ Bernouilli distribution with unkown parameter p. Determines if the opponent is a cheater or not.\n",
    "- $\\theta \\sim$ Unkown distribution with values $\\in [0, 1]$. Gives parameters of the Bernoulli distribution of H.\n",
    "- $H_{1:N}$: Bernouilli distribution with parameter $\\theta$ and $N$ samples. Gives the number of heads.\n",
    "\n",
    "$$P(L | H_{1:N}) = \\frac{P(H_{1:N} | L) \\cdot P(L)}{P(H_{1:N})} $$"
   ]
  },
  {
   "cell_type": "code",
   "execution_count": 51,
   "metadata": {},
   "outputs": [],
   "source": [
    "g = CoinGameSimulation()"
   ]
  },
  {
   "cell_type": "code",
   "execution_count": null,
   "metadata": {},
   "outputs": [],
   "source": [
    "g.reset()\n",
    "\n",
    "class StrategyBayseianInference:\n",
    "\n",
    "    def __init__(self, n = 100, p_value=0.9):\n",
    "        self.n = n      # how many values of theta we include\n",
    "        self.p = 0.5\n",
    "        self.thetha_L = np.ones((2, n)) / n\n",
    "\n",
    "        self.p_value = p_value\n",
    "        self.last_n_heads = 0\n",
    "        self.last_n_tails = 0\n",
    "    \n",
    "    def __reset(self):\n",
    "        n = self.n\n",
    "        self.prior.fill(1/n)\n",
    "        self.last_n_heads = 0\n",
    "        self.last_n_tails = 0\n",
    "\n",
    "    def strategy(self, n_heads, n_tails, flips_left):\n",
    "        \n",
    "        n_new_heads = n_heads - self.last_n_heads\n",
    "        n_new_tails = n_tails - self.last_n_tails\n",
    "\n",
    "        assert max(n_new_heads, n_new_tails) <= 1, f\"{n_new_heads}, {n_new_tails}\"\n",
    "        assert min(n_new_heads, n_new_tails) == 0, f\"{n_new_heads}, {n_new_tails}\"\n",
    "\n",
    "        theta = self.theta\n",
    "        probability_of_observation = theta ** n_new_heads * (1 - theta) ** n_new_tails\n",
    "\n",
    "        posterior = probability_of_observation * self.prior\n",
    "        posterior /= np.sum(posterior)\n",
    "        self.prior = posterior\n",
    "\n",
    "        self.last_n_heads = n_heads\n",
    "        self.last_n_tails = n_tails\n",
    "\n",
    "        if n_heads + n_tails < 5:\n",
    "            return 0\n",
    "\n",
    "        p_fair = posterior[0.3 < theta].sum()\n",
    "        p_cheater = posterior[0.5 < theta].sum()\n",
    "        if p_fair > self.p_value:\n",
    "            self.__reset()\n",
    "            return 2\n",
    "        if p_cheater > self.p_value:\n",
    "            self.__reset()\n",
    "            return 3\n",
    "\n",
    "        if flips_left <= 0:\n",
    "            self.__reset()\n",
    "            if p_fair > p_cheater:\n",
    "                return 2\n",
    "            else:\n",
    "                return 3\n",
    "        \n",
    "        return 0\n",
    "\n",
    "\n",
    "strat = StrategyBayseianInference(p_value=0.81, n=100)\n",
    "simulate_strategy(strat.strategy, n_simulations=1)"
   ]
  },
  {
   "cell_type": "code",
   "execution_count": null,
   "metadata": {},
   "outputs": [],
   "source": [
    "g = CoinGameSimulation()\n",
    "n = 100\n",
    "prior = np.ones(n) / n\n",
    "theta = np.linspace(0, 1, n)\n",
    "p_value = 0.9\n",
    "\n",
    "(n_heads, n_tails, flips_left), reward, done, _ = g.step(1)\n",
    "last_n_heads, last_n_tails = 0,0\n",
    "done = g.done\n",
    "while not done:\n",
    "    n_new_heads = n_heads - last_n_heads\n",
    "    n_new_tails = n_tails - last_n_tails\n",
    "\n",
    "    probability_of_observation = theta ** n_new_heads * (1 - theta) ** n_new_tails\n",
    "\n",
    "    posterior = probability_of_observation * prior\n",
    "    posterior /= np.sum(posterior)\n",
    "    prior = posterior\n",
    "\n",
    "    p_fair = posterior[(0.3 < theta)&(theta < 0.6)].sum()\n",
    "    p_cheater = posterior[(0.5 < theta)&(theta < 1)].sum()\n",
    "\n",
    "    n_thows = n_heads + n_tails\n",
    "    print(f\"{p_fair=} \\n {p_cheater=} \\n {flips_left=} \\n {n_thows=} \\n {n_heads=} \\n {n_tails=}\")\n",
    "    plt.plot(theta, posterior)\n",
    "    plt.show()\n",
    "    time.sleep(2)\n",
    "    clear_output(wait=True)\n",
    "\n",
    "    last_n_heads = n_heads\n",
    "    last_n_tails = n_tails\n",
    "\n",
    "    (n_heads, n_tails, flips_left), reward, done, _ = g.step(0)"
   ]
  },
  {
   "cell_type": "code",
   "execution_count": null,
   "metadata": {},
   "outputs": [],
   "source": [
    "g.reset()\n",
    "for _ in range(20):\n",
    "    (n_heads, n_tails, flips_left), reward, done, _ = g.step(1)\n",
    "    time.sleep(0.1)\n",
    "    print(f\"{n_heads=}, {n_tails=}, {flips_left=}, {reward=}            \", end=\"\\r\")"
   ]
  },
  {
   "cell_type": "code",
   "execution_count": null,
   "metadata": {},
   "outputs": [],
   "source": [
    "(n_heads, n_tails, flips_left), reward, done, _ = g.step(1)\n",
    "print(f\"{n_heads=}, {n_tails=}, {flips_left=}, {reward=} {done=}   \", end=\"\\r\")"
   ]
  },
  {
   "cell_type": "markdown",
   "metadata": {},
   "source": [
    "### Strategy 4: make use of Q-learning.\n",
    "This strategy uses Q-learning with an $\\epsilon$-greedy policy to learn the best strategy to play.\n",
    "\n",
    "The following wikipedia pages was used as a reference \n",
    "[Q learning](https://en.wikipedia.org/wiki/Q-learning).\n",
    "\n",
    "$$\n",
    "Q^{n e w}\\left(s_{t}, a_{t}\\right) \\leftarrow \\underbrace{Q\\left(s_{t}, a_{t}\\right)}_{\\text {old value }}+\\underbrace{\\alpha}_{\\text {learning rate }} \\cdot \\overbrace{(\\underbrace{r_{t}}_{\\text {reward }}+\\underbrace{\\gamma}_{\\text {discount factor }} \\cdot \\underbrace{\\max _{a} Q\\left(s_{t+1}, a\\right)}_{\\text {estimate of optimal future value }}-\\underbrace{Q\\left(s_{t}, a_{t}\\right)}_{\\text {old value }})}^{\\text {temporal difference }}\n",
    "$$"
   ]
  },
  {
   "cell_type": "code",
   "execution_count": null,
   "metadata": {},
   "outputs": [],
   "source": [
    "alpha = 0.05 # learning rate \n",
    "gamma = 0.99 # discount factor\n",
    "epsilon = 0.05 # exploration rate\n",
    "min_epsilon = 0.01\n",
    "max_epsilon = 1\n",
    "espilon_decay = 0.001"
   ]
  },
  {
   "cell_type": "code",
   "execution_count": null,
   "metadata": {},
   "outputs": [],
   "source": [
    "env = CoinGameSimulation()\n",
    "shape_of_state = tuple(d.n for d in env.observation_space[:-1])\n",
    "Q_table = np.zeros((*shape_of_state, env.action_space.n))\n",
    "scores = []\n",
    "rewards = []\n",
    "num_trained_episodes = 0\n",
    "av_rewards = []\n",
    "\n",
    "def epslion_greedy(state):\n",
    "    if np.random.random() < epsilon:\n",
    "        return env.action_space.sample()\n",
    "    else:\n",
    "        return np.argmax(Q_table[state])"
   ]
  },
  {
   "cell_type": "code",
   "execution_count": null,
   "metadata": {},
   "outputs": [],
   "source": [
    "num_episodes = 0\n",
    "rewards = []\n",
    "\n",
    "for itr in tqdm(range(num_episodes)):\n",
    "    env.reset()\n",
    "    (n_heads, n_tails, n_flips_left) = env.observe()\n",
    "    state = (n_heads, n_tails)\n",
    "\n",
    "    done = False\n",
    "    while not done:\n",
    "        move = epslion_greedy(state)\n",
    "        (n_heads, n_tails, n_flips_left), reward, done, _  = env.step(move)\n",
    "        next_state = (n_heads, n_tails)\n",
    "        rewards.append(reward)\n",
    "        \n",
    "        Q_table[state][move] = Q_table[state][move] + alpha * (reward + gamma * np.max(Q_table[next_state]) - Q_table[state][move])\n",
    "\n",
    "        state = next_state\n",
    "\n",
    "    epsilon = min_epsilon + (max_epsilon - min_epsilon)*np.exp(-espilon_decay*itr)\n",
    "\n",
    "    scores.append(env.score)\n",
    "    av_rewards.append(np.sum(rewards))\n",
    "    rewards = []      \n",
    "    num_trained_episodes += 1\n",
    "    env.reset()\n",
    "clear_output(wait=True)\n",
    "plt.plot(np.array(scores).reshape(1000,-1).mean(axis=0))\n",
    "plt.show()"
   ]
  },
  {
   "cell_type": "code",
   "execution_count": null,
   "metadata": {},
   "outputs": [],
   "source": [
    "epsilon"
   ]
  },
  {
   "cell_type": "code",
   "execution_count": null,
   "metadata": {},
   "outputs": [],
   "source": [
    "np.argmax(Q_table[1,0])"
   ]
  }
 ],
 "metadata": {
  "interpreter": {
   "hash": "fc32a243a6b87027c9f6195a114662f388139f44cd834ded9ed282018985cc20"
  },
  "kernelspec": {
   "display_name": "Python 3.10.4 ('web-env')",
   "language": "python",
   "name": "python3"
  },
  "language_info": {
   "codemirror_mode": {
    "name": "ipython",
    "version": 3
   },
   "file_extension": ".py",
   "mimetype": "text/x-python",
   "name": "python",
   "nbconvert_exporter": "python",
   "pygments_lexer": "ipython3",
   "version": "3.10.4"
  },
  "orig_nbformat": 4
 },
 "nbformat": 4,
 "nbformat_minor": 2
}
