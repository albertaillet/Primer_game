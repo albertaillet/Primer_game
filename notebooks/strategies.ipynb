{
 "cells": [
  {
   "cell_type": "code",
   "execution_count": 1,
   "metadata": {},
   "outputs": [],
   "source": [
    "%load_ext autoreload\n",
    "%autoreload 2"
   ]
  },
  {
   "cell_type": "code",
   "execution_count": 2,
   "metadata": {},
   "outputs": [],
   "source": [
    "import os\n",
    "import sys\n",
    "import time\n",
    "import random\n",
    "import numpy as np\n",
    "import scipy.stats as st\n",
    "import plotly.express as px\n",
    "\n",
    "module_path = os.path.abspath(os.path.join('..'))\n",
    "if module_path not in sys.path:\n",
    "    sys.path.append(module_path)\n",
    "from game_simulation import CoinGameSimulation"
   ]
  },
  {
   "cell_type": "markdown",
   "metadata": {},
   "source": [
    "Cheaters are only biased against heads!"
   ]
  },
  {
   "cell_type": "code",
   "execution_count": 4,
   "metadata": {},
   "outputs": [],
   "source": [
    "def simulate_strategy(strategy, n_simulations=500):\n",
    "    # Simulate the game with the given strategy\n",
    "    # strategy is a function that takes n_heads, n_tails and flips_left and returns an action in (\"fair\", \"cheater\", \"one_flip\", \"five_flips\")\n",
    "    g = CoinGameSimulation()\n",
    "    scores = []\n",
    "    n_labels_list = []\n",
    "    n_flips_list = []\n",
    "    n_flips_per_label_list = []\n",
    "    rewards = []\n",
    "    for _ in range(n_simulations):\n",
    "        n_heads, n_tails, flips_left = g.reset()\n",
    "        n_labels = 0\n",
    "        n_flips = 0\n",
    "        n_flips_per_label = 0\n",
    "        done = False\n",
    "        while not done:\n",
    "            action = strategy(n_heads, n_tails, flips_left)\n",
    "            (n_heads, n_tails, flips_left), reward, done, _ = g.step(action)\n",
    "            rewards.append(reward)\n",
    "\n",
    "            if action == 2:\n",
    "                n_labels += 1\n",
    "                n_flips_per_label_list.append(n_flips_per_label)\n",
    "                n_flips_per_label = 0\n",
    "            elif action == 3:\n",
    "                n_labels += 1\n",
    "                n_flips_per_label_list.append(n_flips_per_label)\n",
    "                n_flips_per_label = 0\n",
    "            elif action == 0:\n",
    "                n_flips_per_label += 1\n",
    "                n_flips += 1\n",
    "            elif action == 1:\n",
    "                n_flips_per_label += 5\n",
    "                n_flips += 5\n",
    "            else:\n",
    "                raise ValueError(\"Unknown action: {}\".format(action))\n",
    "        scores.append(g.score)\n",
    "        n_labels_list.append(n_labels)\n",
    "        n_flips_list.append(n_flips)\n",
    "    \n",
    "    for name, l in zip([\"score\", \"n_labels\", \"n_flips\", \"n_flips_per_label\", \"reward\"],[scores, n_labels_list, n_flips_list, n_flips_per_label_list, rewards]):\n",
    "        print(name, np.mean(l), \"±\", np.std(l))\n",
    "    return scores"
   ]
  },
  {
   "cell_type": "markdown",
   "metadata": {},
   "source": [
    "Random choice gives a score of around 7"
   ]
  },
  {
   "cell_type": "code",
   "execution_count": 9,
   "metadata": {},
   "outputs": [
    {
     "name": "stdout",
     "output_type": "stream",
     "text": [
      "score 7.358 ± 7.341242129231265\n",
      "n_labels 14.752 ± 11.019550626046419\n",
      "n_flips 0.0 ± 0.0\n",
      "n_flips_per_label 0.0 ± 0.0\n",
      "reward -7.554907809110629 ± 22.499933002844667\n"
     ]
    },
    {
     "name": "stderr",
     "output_type": "stream",
     "text": [
      "c:\\Users\\alber\\Documents\\My_Code\\Python_sandbox\\Primer_game\\game.py:85: UserWarning: \u001b[33mWARN: You are calling 'step()' even though this environment has already returned done = True. You should always call 'reset()' once you receive 'done = True' -- any further steps are undefined behavior.\u001b[0m\n",
      "  logger.warn(\n"
     ]
    }
   ],
   "source": [
    "_ = simulate_strategy(lambda x, y, z: random.choice([2,3]))"
   ]
  },
  {
   "cell_type": "code",
   "execution_count": 14,
   "metadata": {},
   "outputs": [
    {
     "name": "stdout",
     "output_type": "stream",
     "text": [
      "score 10.097 ± 9.958593826439554\n",
      "n_labels 14.758 ± 12.406104787563258\n",
      "n_flips 133.796 ± 92.10742849520878\n",
      "n_flips_per_label 9.065998102723947 ± 18.630874397452654\n",
      "reward -1.3628940372199012 ± 8.669320596592165\n"
     ]
    }
   ],
   "source": [
    "z = st.norm.ppf(.90)\n",
    "p_fair = 0.5\n",
    "p_cheater = 0.9\n",
    "\n",
    "# https://en.wikipedia.org/wiki/Binomial_proportion_confidence_interval\n",
    "def strategy1(n_heads, n_tails, flips_left):\n",
    "    n = n_heads + n_tails\n",
    "    if n == 0:\n",
    "        return 1\n",
    "    p_hat = n_heads / n\n",
    "\n",
    "    interval = z * np.sqrt(p_hat * (1 - p_hat) / n)\n",
    "\n",
    "    #print(n_heads, n_tails, flips_left)\n",
    "    #print(p_hat - interval, p_hat + interval, 2*interval)\n",
    "\n",
    "\n",
    "    if p_hat - interval < p_fair < p_cheater + interval:\n",
    "        return 2\n",
    "    \n",
    "    if p_hat - interval < p_cheater < p_cheater + interval:\n",
    "        return 3\n",
    "    \n",
    "    if flips_left <= 0:\n",
    "        if abs(p_fair-p_hat) > abs(p_cheater-p_hat):\n",
    "            return 2\n",
    "        else:\n",
    "            return 3\n",
    "    \n",
    "    return 0\n",
    "\n",
    "_ = simulate_strategy(strategy1, n_simulations=1000)"
   ]
  },
  {
   "cell_type": "code",
   "execution_count": 13,
   "metadata": {},
   "outputs": [
    {
     "name": "stdout",
     "output_type": "stream",
     "text": [
      "score 32.969 ± 42.746555872958936\n",
      "n_labels 44.387 ± 53.704164000568895\n",
      "n_flips 267.313 ± 314.43099565882494\n",
      "n_flips_per_label 6.022326356816185 ± 6.036929618535373\n",
      "reward -0.3699647096567212 ± 7.582055544536433\n"
     ]
    }
   ],
   "source": [
    "# Vibe\n",
    "def strategy2(n_heads, n_tails, flips_left):\n",
    "    n_throws = n_heads + n_tails\n",
    "    diff = (n_heads-n_tails)\n",
    "    if diff > 5:\n",
    "        return 3\n",
    "    elif diff < 0 or (n_throws > 10 and diff < 1):\n",
    "        return 2\n",
    "    if flips_left <= 0:\n",
    "        if diff > 4:\n",
    "            return 3\n",
    "        else:\n",
    "            return 2\n",
    "    return 0\n",
    "\n",
    "random.seed(1)\n",
    "_ = simulate_strategy(strategy2, n_simulations=1000)"
   ]
  },
  {
   "cell_type": "code",
   "execution_count": null,
   "metadata": {},
   "outputs": [],
   "source": [
    "#https://en.wikipedia.org/wiki/Checking_whether_a_coin_is_fair"
   ]
  }
 ],
 "metadata": {
  "interpreter": {
   "hash": "fc32a243a6b87027c9f6195a114662f388139f44cd834ded9ed282018985cc20"
  },
  "kernelspec": {
   "display_name": "Python 3.10.4 ('web-env')",
   "language": "python",
   "name": "python3"
  },
  "language_info": {
   "codemirror_mode": {
    "name": "ipython",
    "version": 3
   },
   "file_extension": ".py",
   "mimetype": "text/x-python",
   "name": "python",
   "nbconvert_exporter": "python",
   "pygments_lexer": "ipython3",
   "version": "3.10.4"
  },
  "orig_nbformat": 4
 },
 "nbformat": 4,
 "nbformat_minor": 2
}
