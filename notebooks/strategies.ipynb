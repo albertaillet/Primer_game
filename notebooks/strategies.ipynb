{
 "cells": [
  {
   "cell_type": "code",
   "execution_count": null,
   "metadata": {},
   "outputs": [],
   "source": [
    "%load_ext autoreload\n",
    "%autoreload 2"
   ]
  },
  {
   "cell_type": "code",
   "execution_count": 1,
   "metadata": {},
   "outputs": [],
   "source": [
    "import os\n",
    "import sys\n",
    "import time\n",
    "import random\n",
    "import numpy as np\n",
    "import scipy.stats as st\n",
    "import plotly.express as px\n",
    "\n",
    "module_path = os.path.abspath(os.path.join('..'))\n",
    "if module_path not in sys.path:\n",
    "    sys.path.append(module_path)\n",
    "from game_simulation import CoinGameSimulation"
   ]
  },
  {
   "cell_type": "markdown",
   "metadata": {},
   "source": [
    "Cheaters are only biased against heads!"
   ]
  },
  {
   "cell_type": "code",
   "execution_count": 2,
   "metadata": {},
   "outputs": [],
   "source": [
    "def simulate_strategy(strategy, n_simulations=500):\n",
    "    # Simulate the game with the given strategy\n",
    "    # strategy is a function that takes n_heads, n_tails and flips_left and returns an action in (\"fair\", \"cheater\", \"one_flip\", \"five_flips\")\n",
    "    g = CoinGameSimulation()\n",
    "    scores = []\n",
    "    n_labels_list = []\n",
    "    n_flips_list = []\n",
    "    n_flips_per_label_list = []\n",
    "    for _ in range(n_simulations):\n",
    "        g.reset_game()\n",
    "        n_labels = 0\n",
    "        n_flips = 0\n",
    "        n_flips_per_label = 0\n",
    "        while not g.game_over:\n",
    "            data = g.get_data()\n",
    "            n_heads, n_tails, flips_left = data['heads'], data['tails'], data['flips_left']\n",
    "            action = strategy(n_heads, n_tails, flips_left)\n",
    "\n",
    "            if action == \"fair\":\n",
    "                g.label_fair()\n",
    "                n_labels += 1\n",
    "                n_flips_per_label_list.append(n_flips_per_label)\n",
    "                n_flips_per_label = 0\n",
    "            elif action == \"cheater\":\n",
    "                g.label_cheater()\n",
    "                n_labels += 1\n",
    "                n_flips_per_label_list.append(n_flips_per_label)\n",
    "                n_flips_per_label = 0\n",
    "            elif action == \"one_flip\":\n",
    "                g.flip_one_coin()\n",
    "                n_flips_per_label += 1\n",
    "                n_flips += 1\n",
    "            elif action == \"five_flips\":\n",
    "                g.flip_five_coins()\n",
    "                n_flips_per_label += 5\n",
    "                n_flips += 5\n",
    "            else:\n",
    "                raise ValueError(\"Unknown action: {}\".format(action))\n",
    "        scores.append(data['score'])\n",
    "        n_labels_list.append(n_labels)\n",
    "        n_flips_list.append(n_flips)\n",
    "    \n",
    "    for name, l in zip([\"score\", \"n_labels\", \"n_flips\", \"n_flips_per_label\"],[scores, n_labels_list, n_flips_list, n_flips_per_label_list]):\n",
    "        print(name, np.mean(l), \"±\", np.std(l))\n",
    "    return scores"
   ]
  },
  {
   "cell_type": "markdown",
   "metadata": {},
   "source": [
    "Random choice gives a score of around 7"
   ]
  },
  {
   "cell_type": "code",
   "execution_count": 3,
   "metadata": {},
   "outputs": [
    {
     "name": "stdout",
     "output_type": "stream",
     "text": [
      "score 7.642 ± 7.913901439871488\n",
      "n_labels 15.164 ± 11.875399109082608\n",
      "n_flips 0.0 ± 0.0\n",
      "n_flips_per_label 0.0 ± 0.0\n"
     ]
    }
   ],
   "source": [
    "_ = simulate_strategy(lambda n_heads, n_tails, flips_left: random.choice([\"cheater\", \"fair\"]))"
   ]
  },
  {
   "cell_type": "code",
   "execution_count": 4,
   "metadata": {},
   "outputs": [
    {
     "name": "stdout",
     "output_type": "stream",
     "text": [
      "score 10.942 ± 11.005391224304567\n",
      "n_labels 15.874 ± 13.749404496195462\n",
      "n_flips 138.542 ± 96.60470090011148\n",
      "n_flips_per_label 8.727604888496913 ± 16.978315817064725\n"
     ]
    }
   ],
   "source": [
    "z = st.norm.ppf(.90)\n",
    "p_fair = 0.5\n",
    "p_cheater = 0.9\n",
    "\n",
    "# https://en.wikipedia.org/wiki/Binomial_proportion_confidence_interval\n",
    "def strategy1(n_heads, n_tails, flips_left):\n",
    "    n = n_heads + n_tails\n",
    "    if n == 0:\n",
    "        return \"five_flips\"\n",
    "    p_hat = n_heads / n\n",
    "\n",
    "    interval = z * np.sqrt(p_hat * (1 - p_hat) / n)\n",
    "\n",
    "    #print(n_heads, n_tails, flips_left)\n",
    "    #print(p_hat - interval, p_hat + interval, 2*interval)\n",
    "\n",
    "\n",
    "    if p_hat - interval < p_fair < p_cheater + interval:\n",
    "        return \"fair\"\n",
    "    \n",
    "    if p_hat - interval < p_cheater < p_cheater + interval:\n",
    "        return \"cheater\"\n",
    "    \n",
    "    if flips_left <= 0:\n",
    "        if abs(p_fair-p_hat) > abs(p_cheater-p_hat):\n",
    "            return \"fair\"\n",
    "        else:\n",
    "            return \"cheater\"\n",
    "    \n",
    "    return \"one_flip\"\n",
    "\n",
    "_ = simulate_strategy(strategy1, n_simulations=500)"
   ]
  },
  {
   "cell_type": "code",
   "execution_count": 5,
   "metadata": {},
   "outputs": [
    {
     "name": "stdout",
     "output_type": "stream",
     "text": [
      "score 32.969 ± 42.746555872958936\n",
      "n_labels 44.387 ± 53.704164000568895\n",
      "n_flips 267.313 ± 314.43099565882494\n",
      "n_flips_per_label 6.022326356816185 ± 6.036929618535373\n"
     ]
    }
   ],
   "source": [
    "# Vibe\n",
    "def strategy2(n_heads, n_tails, flips_left):\n",
    "    n_throws = n_heads + n_tails\n",
    "    diff = (n_heads-n_tails)\n",
    "    if diff > 5:\n",
    "        return \"cheater\"\n",
    "    elif diff < 0 or (n_throws > 10 and diff < 1):\n",
    "        return \"fair\"\n",
    "    if flips_left <= 0:\n",
    "        if diff > 4:\n",
    "            return \"cheater\"\n",
    "        else:\n",
    "            return \"fair\"\n",
    "    return \"one_flip\"\n",
    "\n",
    "random.seed(1)\n",
    "_ = simulate_strategy(strategy2, n_simulations=1000)"
   ]
  },
  {
   "cell_type": "code",
   "execution_count": null,
   "metadata": {},
   "outputs": [],
   "source": [
    "#https://en.wikipedia.org/wiki/Checking_whether_a_coin_is_fair"
   ]
  }
 ],
 "metadata": {
  "interpreter": {
   "hash": "fc32a243a6b87027c9f6195a114662f388139f44cd834ded9ed282018985cc20"
  },
  "kernelspec": {
   "display_name": "Python 3.10.4 ('web-env')",
   "language": "python",
   "name": "python3"
  },
  "language_info": {
   "codemirror_mode": {
    "name": "ipython",
    "version": 3
   },
   "file_extension": ".py",
   "mimetype": "text/x-python",
   "name": "python",
   "nbconvert_exporter": "python",
   "pygments_lexer": "ipython3",
   "version": "3.10.4"
  },
  "orig_nbformat": 4
 },
 "nbformat": 4,
 "nbformat_minor": 2
}
