{
 "cells": [
  {
   "cell_type": "code",
   "execution_count": 17,
   "metadata": {},
   "outputs": [],
   "source": [
    "import os\n",
    "import sys\n",
    "import time\n",
    "import random\n",
    "import numpy as np\n",
    "import plotly.express as px\n",
    "\n",
    "module_path = os.path.abspath(os.path.join('..'))\n",
    "if module_path not in sys.path:\n",
    "    sys.path.append(module_path)\n",
    "from game_simulation import CoinGameSimulation"
   ]
  },
  {
   "cell_type": "markdown",
   "metadata": {},
   "source": [
    "Cheaters are only biased against heads!"
   ]
  },
  {
   "cell_type": "code",
   "execution_count": 18,
   "metadata": {},
   "outputs": [],
   "source": [
    "def simulate_strategy(strategy, n_simulations=500):\n",
    "    # Simulate the game with the given strategy\n",
    "    # strategy is a function that takes n_heads, n_tails and flips_left and returns an action in (\"fair\", \"cheater\", \"one_flip\", \"five_flips\")\n",
    "    g = CoinGameSimulation()\n",
    "    scores = []\n",
    "    for _ in range(n_simulations):\n",
    "        g.reset_game()\n",
    "        while not g.game_over:\n",
    "            data = g.get_data()\n",
    "            n_heads, n_tails, flips_left = data['heads'], data['tails'], data['flips_left']\n",
    "            action = strategy(n_heads, n_tails, flips_left)\n",
    "            if action == \"fair\":\n",
    "                g.label_fair()\n",
    "            elif action == \"cheater\":\n",
    "                g.label_cheater()\n",
    "            elif action == \"one_flip\":\n",
    "                g.flip_one_coin()\n",
    "            elif action == \"five_flips\":\n",
    "                g.flip_five_coins()\n",
    "            else:\n",
    "                raise ValueError(\"Unknown action: {}\".format(action))\n",
    "        scores.append(g.get_score())\n",
    "    print(np.mean(scores), \"±\", np.std(scores))\n",
    "    return scores"
   ]
  },
  {
   "cell_type": "markdown",
   "metadata": {},
   "source": [
    "Random choice gives a score of around 7"
   ]
  },
  {
   "cell_type": "code",
   "execution_count": 16,
   "metadata": {},
   "outputs": [
    {
     "name": "stdout",
     "output_type": "stream",
     "text": [
      "7.166 ± 7.425257167263636\n"
     ]
    }
   ],
   "source": [
    "_ = simulate_strategy(lambda n_heads, n_tails, flips_left: random.choice([\"cheater\", \"fair\"]))"
   ]
  },
  {
   "cell_type": "code",
   "execution_count": 42,
   "metadata": {},
   "outputs": [
    {
     "ename": "KeyboardInterrupt",
     "evalue": "",
     "output_type": "error",
     "traceback": [
      "\u001b[1;31m---------------------------------------------------------------------------\u001b[0m",
      "\u001b[1;31mKeyboardInterrupt\u001b[0m                         Traceback (most recent call last)",
      "\u001b[1;32mc:\\Users\\alber\\Documents\\My_Code\\Python_sandbox\\Primer_game\\notebooks\\strategies.ipynb Cell 6'\u001b[0m in \u001b[0;36m<cell line: 17>\u001b[1;34m()\u001b[0m\n\u001b[0;32m     <a href='vscode-notebook-cell:/c%3A/Users/alber/Documents/My_Code/Python_sandbox/Primer_game/notebooks/strategies.ipynb#ch0000007?line=13'>14</a>\u001b[0m     \u001b[39melse\u001b[39;00m:\n\u001b[0;32m     <a href='vscode-notebook-cell:/c%3A/Users/alber/Documents/My_Code/Python_sandbox/Primer_game/notebooks/strategies.ipynb#ch0000007?line=14'>15</a>\u001b[0m         \u001b[39mreturn\u001b[39;00m \u001b[39m\"\u001b[39m\u001b[39mfair\u001b[39m\u001b[39m\"\u001b[39m\n\u001b[1;32m---> <a href='vscode-notebook-cell:/c%3A/Users/alber/Documents/My_Code/Python_sandbox/Primer_game/notebooks/strategies.ipynb#ch0000007?line=16'>17</a>\u001b[0m _ \u001b[39m=\u001b[39m simulate_strategy(maximum_likelihood, n_simulations\u001b[39m=\u001b[39;49m\u001b[39m10\u001b[39;49m)\n",
      "\u001b[1;32mc:\\Users\\alber\\Documents\\My_Code\\Python_sandbox\\Primer_game\\notebooks\\strategies.ipynb Cell 3'\u001b[0m in \u001b[0;36msimulate_strategy\u001b[1;34m(strategy, n_simulations)\u001b[0m\n\u001b[0;32m     <a href='vscode-notebook-cell:/c%3A/Users/alber/Documents/My_Code/Python_sandbox/Primer_game/notebooks/strategies.ipynb#ch0000008?line=14'>15</a>\u001b[0m     g\u001b[39m.\u001b[39mlabel_cheater()\n\u001b[0;32m     <a href='vscode-notebook-cell:/c%3A/Users/alber/Documents/My_Code/Python_sandbox/Primer_game/notebooks/strategies.ipynb#ch0000008?line=15'>16</a>\u001b[0m \u001b[39melif\u001b[39;00m action \u001b[39m==\u001b[39m \u001b[39m\"\u001b[39m\u001b[39mone_flip\u001b[39m\u001b[39m\"\u001b[39m:\n\u001b[1;32m---> <a href='vscode-notebook-cell:/c%3A/Users/alber/Documents/My_Code/Python_sandbox/Primer_game/notebooks/strategies.ipynb#ch0000008?line=16'>17</a>\u001b[0m     g\u001b[39m.\u001b[39;49mflip_one_coin()\n\u001b[0;32m     <a href='vscode-notebook-cell:/c%3A/Users/alber/Documents/My_Code/Python_sandbox/Primer_game/notebooks/strategies.ipynb#ch0000008?line=17'>18</a>\u001b[0m \u001b[39melif\u001b[39;00m action \u001b[39m==\u001b[39m \u001b[39m\"\u001b[39m\u001b[39mfive_flips\u001b[39m\u001b[39m\"\u001b[39m:\n\u001b[0;32m     <a href='vscode-notebook-cell:/c%3A/Users/alber/Documents/My_Code/Python_sandbox/Primer_game/notebooks/strategies.ipynb#ch0000008?line=18'>19</a>\u001b[0m     g\u001b[39m.\u001b[39mflip_five_coins()\n",
      "File \u001b[1;32mc:\\Users\\alber\\Documents\\My_Code\\Python_sandbox\\Primer_game\\game_simulation.py:47\u001b[0m, in \u001b[0;36mCoinGameSimulation.flip_one_coin\u001b[1;34m(self)\u001b[0m\n\u001b[0;32m     <a href='file:///c%3A/Users/alber/Documents/My_Code/Python_sandbox/Primer_game/game_simulation.py?line=45'>46</a>\u001b[0m \u001b[39mdef\u001b[39;00m \u001b[39mflip_one_coin\u001b[39m(\u001b[39mself\u001b[39m):\n\u001b[1;32m---> <a href='file:///c%3A/Users/alber/Documents/My_Code/Python_sandbox/Primer_game/game_simulation.py?line=46'>47</a>\u001b[0m     \u001b[39mif\u001b[39;00m \u001b[39mself\u001b[39;49m\u001b[39m.\u001b[39;49mflips_left \u001b[39m>\u001b[39;49m \u001b[39m0\u001b[39;49m:\n\u001b[0;32m     <a href='file:///c%3A/Users/alber/Documents/My_Code/Python_sandbox/Primer_game/game_simulation.py?line=47'>48</a>\u001b[0m         \u001b[39mif\u001b[39;00m \u001b[39mself\u001b[39m\u001b[39m.\u001b[39mplayer\u001b[39m.\u001b[39mflip():\n\u001b[0;32m     <a href='file:///c%3A/Users/alber/Documents/My_Code/Python_sandbox/Primer_game/game_simulation.py?line=48'>49</a>\u001b[0m             \u001b[39mself\u001b[39m\u001b[39m.\u001b[39mheads \u001b[39m+\u001b[39m\u001b[39m=\u001b[39m \u001b[39m1\u001b[39m\n",
      "\u001b[1;31mKeyboardInterrupt\u001b[0m: "
     ]
    }
   ],
   "source": [
    "def maximum_likelihood(n_heads, n_tails, flips_left):\n",
    "    # Return the action that maximizes the likelihood of the ground truth label\n",
    "    diff = n_heads - n_tails\n",
    "    num_flips = n_heads + n_tails\n",
    "    if num_flips == 0:\n",
    "        return \"one_flip\"\n",
    "  \n",
    "    if n_heads > n_tails:\n",
    "        return \"fair\"\n",
    "    \n",
    "\n",
    "    if num_flips < 4:\n",
    "        return \"one_flip\"\n",
    "    else:\n",
    "        return \"fair\"\n",
    "\n",
    "_ = simulate_strategy(maximum_likelihood, n_simulations=10)"
   ]
  }
 ],
 "metadata": {
  "interpreter": {
   "hash": "fc32a243a6b87027c9f6195a114662f388139f44cd834ded9ed282018985cc20"
  },
  "kernelspec": {
   "display_name": "Python 3.10.4 ('web-env')",
   "language": "python",
   "name": "python3"
  },
  "language_info": {
   "codemirror_mode": {
    "name": "ipython",
    "version": 3
   },
   "file_extension": ".py",
   "mimetype": "text/x-python",
   "name": "python",
   "nbconvert_exporter": "python",
   "pygments_lexer": "ipython3",
   "version": "3.10.4"
  },
  "orig_nbformat": 4
 },
 "nbformat": 4,
 "nbformat_minor": 2
}
