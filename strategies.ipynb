{
 "cells": [
  {
   "cell_type": "code",
   "execution_count": 3,
   "metadata": {},
   "outputs": [],
   "source": [
    "import time, math, random"
   ]
  },
  {
   "cell_type": "code",
   "execution_count": 3,
   "metadata": {},
   "outputs": [],
   "source": [
    "driver = g.driver"
   ]
  },
  {
   "cell_type": "markdown",
   "metadata": {},
   "source": [
    "Cheaters are only biased against heads!"
   ]
  },
  {
   "cell_type": "code",
   "execution_count": 15,
   "metadata": {},
   "outputs": [],
   "source": [
    "import io\n",
    "import time\n",
    "import base64 \n",
    "import numpy as np\n",
    "from PIL import Image\n",
    "import pytesseract as tess\n",
    "\n",
    "tess.pytesseract.tesseract_cmd = \"C:\\\\Users\\\\alber\\\\AppData\\\\Local\\\\Programs\\\\Tesseract-OCR\\\\tesseract.exe\"\n",
    "\n",
    "from selenium import webdriver\n",
    "from selenium.webdriver.common.action_chains import ActionChains\n",
    "\n",
    "\n",
    "class CoinGame():\n",
    "\n",
    "    def __init__(self, driver=None, animation_wait_time=1):\n",
    "        self.window_size = (300,850)\n",
    "        self.animation_wait_time = animation_wait_time\n",
    "        self.show_flipping = True\n",
    "\n",
    "        if driver is None:\n",
    "            driver = self._get_driver()\n",
    "            driver.set_window_size(*self.window_size)\n",
    "            driver.get('https://primerlearning.org/')\n",
    "            time.sleep(30)\n",
    "        self.driver = driver\n",
    "\n",
    "        self.score = None\n",
    "        self.flips = None\n",
    "        self.flips_left = None\n",
    "\n",
    "        self.element = self.driver.find_element_by_id(\"coin-flip-app\")\n",
    "        self.show_flipping_animations()\n",
    "        self.reset_window()\n",
    "        self.reset_data()\n",
    "\n",
    "    def _wait_for_animations(self):\n",
    "        time.sleep(self.animation_wait_time)\n",
    "\n",
    "    def _get_driver(self):\n",
    "        chrome_options = webdriver.ChromeOptions()\n",
    "        mobile_emulation = { \"deviceName\": \"iPhone 6\" }\n",
    "        chrome_options.add_experimental_option(\"mobileEmulation\", mobile_emulation)\n",
    "        return webdriver.Chrome(options= chrome_options)\n",
    "\n",
    "    def reset_window(self):\n",
    "        self.driver.set_window_size(*self.window_size)\n",
    "        self.driver.execute_script(\"arguments[0].scrollIntoView();\", self.element)\n",
    "\n",
    "    def get_page_screenshot(self):\n",
    "        screenshot = self.driver.get_screenshot_as_base64()\n",
    "        screenshot = base64.b64decode(screenshot)\n",
    "        screenshot = io.BytesIO(screenshot)\n",
    "        screenshot = Image.open(screenshot).convert('L')\n",
    "        return screenshot\n",
    "\n",
    "    @staticmethod\n",
    "    def _get_image_text(image):\n",
    "        return tess.image_to_string(image)\n",
    "\n",
    "    def reset_data(self):\n",
    "        self.score = None\n",
    "        self.flips = None\n",
    "        self.flips_left = None\n",
    "    \n",
    "    def get_score(self) -> int:\n",
    "        if self.score is None:\n",
    "            self.get_data()\n",
    "        return self.score\n",
    "\n",
    "    def get_flips_left(self) -> int:\n",
    "        if self.flips_left is None:\n",
    "            self.get_data()\n",
    "        return self.flips_left\n",
    "    \n",
    "    def get_flips(self) -> dict:\n",
    "        if self.flips is None:\n",
    "            self.get_data()\n",
    "        return self.flips\n",
    "\n",
    "    def get_data(self): \n",
    "        screenshot = self.get_page_screenshot()\n",
    "        \n",
    "        self.flips = CoinGame.parse_flips(\n",
    "                            CoinGame._get_image_text(\n",
    "                                    screenshot.crop((325, 490, 550, 600))))\n",
    "\n",
    "        self.score = CoinGame.parse_score(\n",
    "                            CoinGame._get_image_text(\n",
    "                                    screenshot.crop((0, 920, 300, 985))))\n",
    "\n",
    "        self.flips_left = CoinGame.parse_flips_left(\n",
    "                                CoinGame._get_image_text(\n",
    "                                        screenshot.crop((400, 920, 750, 985))))\n",
    "    \n",
    "    def get_end_score(self):\n",
    "        screenshot = self.get_page_screenshot()\n",
    "        cropped = screenshot.crop((0, 450, 750, 650))\n",
    "        text = CoinGame._get_image_text(cropped)\n",
    "        return CoinGame.parse_score(text)\n",
    "\n",
    "    @staticmethod\n",
    "    def parse_flips_left(string):\n",
    "        if \"Flips left\" in string:\n",
    "            return int(string.split(' ')[0])\n",
    "\n",
    "    @staticmethod\n",
    "    def parse_flips(string):\n",
    "        if 'Heads: ' in string and 'Tails: ' in string:\n",
    "            text_tuples = [line.split(': ') for line in string.split('\\n')[:2]]\n",
    "            text_dict = {k: int(v) for k, v in text_tuples}\n",
    "            return text_dict\n",
    "        return {'Heads': 0, 'Tails': 0}\n",
    "\n",
    "    @staticmethod\n",
    "    def parse_score(string):\n",
    "        if 'Score: ' in string:\n",
    "            return int(string.split('Score: ')[1])\n",
    "\n",
    "    def _click_location(self, x, y):\n",
    "        self.reset_data()\n",
    "        action = ActionChains(self.driver)\n",
    "        action.move_to_element_with_offset(self.element, x, y)\n",
    "        action.click()\n",
    "        action.perform()\n",
    "        self._wait_for_animations()\n",
    "    \n",
    "    # Clicking locations:\n",
    "    # Game: x, y = 20, 20\n",
    "    # Leaderboard x, y = 330, 20\n",
    "    # 1 Coin: x, y = 20, 500\n",
    "    # 5 Coins: x, y = 330, 500\n",
    "    # Show flipping animation: x, y = 50, 550\n",
    "    # Fair: x, y = 20, 600\n",
    "    # Cheater x, y = 330, 600\n",
    "    # Reset Game: x, y = 155, 600\n",
    "\n",
    "    def click_game_tab(self):\n",
    "        self._click_location(20, 20)\n",
    "\n",
    "    def click_leaderboard_tab(self):\n",
    "        self._click_location(330, 20)\n",
    "\n",
    "    def flip_one_coin(self):\n",
    "        self._click_location(20, 500)\n",
    "    \n",
    "    def flip_five_coins(self):\n",
    "        self._click_location(330, 500)\n",
    "    \n",
    "    def show_flipping_animations(self):\n",
    "        self.show_flipping = not self.show_flipping\n",
    "        self._click_location(50, 550)\n",
    "    \n",
    "    def label_fair(self):\n",
    "        self._click_location(20, 600)\n",
    "\n",
    "    def label_cheater(self):\n",
    "        self._click_location(330, 600)\n",
    "\n",
    "    def reset_game(self):\n",
    "        self._click_location(155, 600)\n",
    "        self.reset_window()\n",
    "    \n",
    "    def restart_browser(self):\n",
    "        self.driver.quit()\n",
    "        self.__init__()\n",
    "\n",
    "g = CoinGame(driver=driver)"
   ]
  },
  {
   "cell_type": "code",
   "execution_count": 16,
   "metadata": {},
   "outputs": [
    {
     "name": "stdout",
     "output_type": "stream",
     "text": [
      "Found text: 94 Flips left\n",
      "\n",
      "94\n",
      "{'Heads': 0, 'Tails': 1}\n",
      "1\n"
     ]
    }
   ],
   "source": [
    "#g.flip_one_coin()\n",
    "print(g.get_flips_left())\n",
    "print(g.get_flips())\n",
    "print(g.get_score())"
   ]
  },
  {
   "cell_type": "code",
   "execution_count": null,
   "metadata": {},
   "outputs": [],
   "source": [
    "iters = 0\n",
    "confidence = 0.1\n",
    "while g.get_score() is None:\n",
    "    iters += 1\n",
    "    if random.random() > 0.5:\n",
    "        g.label_fair()\n",
    "    else:\n",
    "        g.label_cheater()\n",
    "    time.sleep(2)\n",
    "print(g.get_score())"
   ]
  },
  {
   "cell_type": "code",
   "execution_count": 7,
   "metadata": {},
   "outputs": [
    {
     "name": "stdout",
     "output_type": "stream",
     "text": [
      "Heads: 2\n",
      "Tails: 0\n",
      "\n"
     ]
    },
    {
     "data": {
      "text/plain": [
       "<matplotlib.image.AxesImage at 0x17288f2bac0>"
      ]
     },
     "execution_count": 7,
     "metadata": {},
     "output_type": "execute_result"
    },
    {
     "data": {
      "image/png": "[encoded data removed]",
      "text/plain": [
       "<Figure size 432x288 with 1 Axes>"
      ]
     },
     "metadata": {
      "needs_background": "light"
     },
     "output_type": "display_data"
    }
   ],
   "source": [
    "import matplotlib.pyplot as plt\n",
    "# 490:600, 325:550\n",
    "screenshot = g.get_page_screenshot()\n",
    "cropped = screenshot.crop((325, 490, 550, 600))\n",
    "text = CoinGame._get_image_text(cropped)\n",
    "print(text)\n",
    "plt.imshow(cropped)"
   ]
  }
 ],
 "metadata": {
  "interpreter": {
   "hash": "fc32a243a6b87027c9f6195a114662f388139f44cd834ded9ed282018985cc20"
  },
  "kernelspec": {
   "display_name": "Python 3.10.4 ('web-env')",
   "language": "python",
   "name": "python3"
  },
  "language_info": {
   "codemirror_mode": {
    "name": "ipython",
    "version": 3
   },
   "file_extension": ".py",
   "mimetype": "text/x-python",
   "name": "python",
   "nbconvert_exporter": "python",
   "pygments_lexer": "ipython3",
   "version": "3.10.4"
  },
  "orig_nbformat": 4
 },
 "nbformat": 4,
 "nbformat_minor": 2
}
