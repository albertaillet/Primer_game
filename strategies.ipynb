{
 "cells": [
  {
   "cell_type": "code",
   "execution_count": null,
   "metadata": {},
   "outputs": [],
   "source": [
    "import time, math, random\n",
    "from game import CoinGame\n",
    "#import numpy as np"
   ]
  },
  {
   "cell_type": "code",
   "execution_count": null,
   "metadata": {},
   "outputs": [],
   "source": [
    "if 'driver' not in locals():\n",
    "    driver = None\n",
    "g = CoinGame(driver=driver)\n",
    "if driver is None:\n",
    "    driver = g.driver"
   ]
  },
  {
   "cell_type": "markdown",
   "metadata": {},
   "source": [
    "Cheaters are only biased against heads!"
   ]
  },
  {
   "cell_type": "code",
   "execution_count": null,
   "metadata": {},
   "outputs": [],
   "source": [
    "g.animation_wait_time = 3"
   ]
  },
  {
   "cell_type": "code",
   "execution_count": null,
   "metadata": {},
   "outputs": [],
   "source": [
    "while g.get_flips_left() > 0 or g.get_flips_left() is None:\n",
    "    g.flip_one_coin()\n",
    "    print(counts)\n",
    "    counts = g.get_flips()\n",
    "    n_heads = counts['Heads']\n",
    "    n_tails = counts['Tails']\n",
    "    n_throws = n_heads + n_tails\n",
    "    if n_throws > 0:\n",
    "        measure = (n_heads-n_tails)/n_throws\n",
    "        print(measure)\n",
    "        if measure > 100:\n",
    "            g.label_cheater()\n",
    "            break\n",
    "        elif abs(measure) < 3 and n_throws > 3:\n",
    "            g.label_fair()\n",
    "            break"
   ]
  }
 ],
 "metadata": {
  "interpreter": {
   "hash": "fc32a243a6b87027c9f6195a114662f388139f44cd834ded9ed282018985cc20"
  },
  "kernelspec": {
   "display_name": "Python 3.10.4 ('web-env')",
   "language": "python",
   "name": "python3"
  },
  "language_info": {
   "codemirror_mode": {
    "name": "ipython",
    "version": 3
   },
   "file_extension": ".py",
   "mimetype": "text/x-python",
   "name": "python",
   "nbconvert_exporter": "python",
   "pygments_lexer": "ipython3",
   "version": "3.10.4"
  },
  "orig_nbformat": 4
 },
 "nbformat": 4,
 "nbformat_minor": 2
}
