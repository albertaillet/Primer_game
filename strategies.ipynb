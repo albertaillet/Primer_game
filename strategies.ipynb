{
 "cells": [
  {
   "cell_type": "code",
   "execution_count": 1,
   "metadata": {},
   "outputs": [],
   "source": [
    "import time, math, random\n",
    "from game import CoinGaime"
   ]
  },
  {
   "cell_type": "markdown",
   "metadata": {},
   "source": [
    "Cheaters are only biased against heads!"
   ]
  },
  {
   "cell_type": "code",
   "execution_count": 10,
   "metadata": {},
   "outputs": [],
   "source": [
    "import io\n",
    "import time\n",
    "import base64 \n",
    "import numpy as np\n",
    "from PIL import Image\n",
    "import pytesseract as tess\n",
    "\n",
    "tess.pytesseract.tesseract_cmd = \"C:\\\\Users\\\\alber\\\\AppData\\\\Local\\\\Programs\\\\Tesseract-OCR\\\\tesseract.exe\"\n",
    "\n",
    "from selenium import webdriver\n",
    "from selenium.webdriver.common.action_chains import ActionChains\n",
    "\n",
    "\n",
    "class CoinGame():\n",
    "\n",
    "    def __init__(self, animation_wait_time=1):\n",
    "\n",
    "        self.window_size = (300,850)\n",
    "\n",
    "        self.driver = self._get_driver()\n",
    "        self.driver.set_window_size(*self.window_size)\n",
    "        self.driver.get('https://primerlearning.org/')\n",
    "        self.element = self.driver.find_element_by_id(\"coin-flip-app\")\n",
    "        self.show_flipping = True\n",
    "        self.reset_window()\n",
    "        self.animation_wait_time = animation_wait_time\n",
    "        time.sleep(30)\n",
    "        self.show_flipping_animations()\n",
    "\n",
    "    def wait_for_animations(self):\n",
    "        time.sleep(self.animation_wait_time)\n",
    "\n",
    "    def _get_driver(self):\n",
    "        chrome_options = webdriver.ChromeOptions()\n",
    "        mobile_emulation = { \"deviceName\": \"iPhone 6\" }\n",
    "        chrome_options.add_experimental_option(\"mobileEmulation\", mobile_emulation)\n",
    "        return webdriver.Chrome(options= chrome_options)\n",
    "\n",
    "    def reset_window(self):\n",
    "        self.driver.set_window_size(*self.window_size)\n",
    "        self.driver.execute_script(\"arguments[0].scrollIntoView();\", self.element)\n",
    "\n",
    "    def get_page_screenshot(self):\n",
    "        screenshot = self.driver.get_screenshot_as_base64()\n",
    "        screenshot = base64.b64decode(screenshot)\n",
    "        screenshot = io.BytesIO(screenshot)\n",
    "        screenshot = Image.open(screenshot).convert('L')\n",
    "        return screenshot\n",
    "\n",
    "    @staticmethod\n",
    "    def _get_image_text(image):\n",
    "        return tess.image_to_string(image)\n",
    "\n",
    "    def get_flips(self) -> dict:\n",
    "        if self.flips is None:\n",
    "            self.get_data()\n",
    "        return self.flips\n",
    "    \n",
    "    \n",
    "        \n",
    "        screenshot = self.get_page_screenshot()\n",
    "        cropped = screenshot[490:600, 325:550]\n",
    "        text = CoinGaime._get_image_text(cropped)\n",
    "        if 'Heads: ' in text and 'Tails: ' in text:\n",
    "            text_tuples = [line.split(': ') for line in text.split('\\n')[:2]]\n",
    "            text_dict = {k: int(v) for k, v in text_tuples}\n",
    "            return text_dict\n",
    "        return {'Heads': 0, 'Tails': 0}\n",
    "\n",
    "    def get_end_score(self):\n",
    "        screenshot = self.get_page_screenshot()\n",
    "        cropped = screenshot[450:650]\n",
    "        text = CoinGaime._get_image_text(cropped)\n",
    "        if 'Score: ' in text:\n",
    "            return int(text.split('Score: ')[1])\n",
    "        return None\n",
    "\n",
    "    def _click_location(self, x, y):\n",
    "        action = ActionChains(self.driver)\n",
    "        action.move_to_element_with_offset(self.element, x, y)\n",
    "        action.click()\n",
    "        action.perform()\n",
    "        self.wait_for_animations()\n",
    "    \n",
    "    # Clicking locations:\n",
    "    # Game: x, y = 20, 20\n",
    "    # Leaderboard x, y = 330, 20\n",
    "    # 1 Coin: x, y = 20, 500\n",
    "    # 5 Coins: x, y = 330, 500\n",
    "    # Show flipping animation: x, y = 50, 550\n",
    "    # Fair: x, y = 20, 600\n",
    "    # Cheater x, y = 330, 600\n",
    "    # Reset Game: x, y = 155, 600\n",
    "\n",
    "    def click_game_tab(self):\n",
    "        self._click_location(20, 20)\n",
    "\n",
    "    def click_leaderboard_tab(self):\n",
    "        self._click_location(330, 20)\n",
    "\n",
    "    def flip_one_coin(self):\n",
    "        self._click_location(20, 500)\n",
    "    \n",
    "    def flip_five_coins(self):\n",
    "        self._click_location(330, 500)\n",
    "    \n",
    "    def show_flipping_animations(self):\n",
    "        self.show_flipping = not self.show_flipping\n",
    "        self._click_location(50, 550)\n",
    "    \n",
    "    def label_fair(self):\n",
    "        self._click_location(20, 600)\n",
    "\n",
    "    def label_cheater(self):\n",
    "        self._click_location(330, 600)\n",
    "\n",
    "    def reset_game(self):\n",
    "        self._click_location(155, 600)\n",
    "        self.reset_window()\n",
    "    \n",
    "    def restart_browser(self):\n",
    "        self.driver.quit()\n",
    "        self.__init__()\n",
    "\n",
    "g = CoinGame()"
   ]
  },
  {
   "cell_type": "code",
   "execution_count": null,
   "metadata": {},
   "outputs": [],
   "source": [
    "iters = 0\n",
    "confidence = 0.1\n",
    "while g.get_score() is None:\n",
    "    iters += 1\n",
    "    if random.random() > 0.5:\n",
    "        g.label_fair()\n",
    "    else:\n",
    "        g.label_cheater()\n",
    "    time.sleep(2)\n",
    "print(g.get_score())"
   ]
  },
  {
   "cell_type": "code",
   "execution_count": 25,
   "metadata": {},
   "outputs": [
    {
     "name": "stdout",
     "output_type": "stream",
     "text": [
      "237 ms ± 18.5 ms per loop (mean ± std. dev. of 7 runs, 1 loop each)\n"
     ]
    }
   ],
   "source": [
    "%%timeit\n",
    "screenshot = g.driver.get_screenshot_as_base64()\n",
    "screenshot = base64.b64decode(screenshot)\n",
    "screenshot = io.BytesIO(screenshot)\n",
    "screenshot = Image.open(screenshot).convert('L')\n",
    "#screenshot = np.asarray(screenshot)\n",
    "#cropped = screenshot[490:600, 325:550] #271 ms ± 12.9 ms per loop (mean ± std. dev. of 7 runs, 1 loop each)\n",
    "cropped = screenshot.crop((490, 550, 325, 600)) # 245 ms ± 22.7 ms per loop (mean ± std. dev. of 7 runs, 1 loop each)"
   ]
  },
  {
   "cell_type": "code",
   "execution_count": 29,
   "metadata": {},
   "outputs": [
    {
     "data": {
      "text/plain": [
       "<matplotlib.image.AxesImage at 0x27f019ce050>"
      ]
     },
     "execution_count": 29,
     "metadata": {},
     "output_type": "execute_result"
    },
    {
     "data": {
      "image/png": "[encoded data removed]",
      "text/plain": [
       "<Figure size 432x288 with 1 Axes>"
      ]
     },
     "metadata": {
      "needs_background": "light"
     },
     "output_type": "display_data"
    }
   ],
   "source": [
    "import matplotlib.pyplot as plt\n",
    "#screenshot = g.get_page_screenshot()\n",
    "#crop = screenshot[450:650]\n",
    "cropped = screenshot.crop((325, 490, 550, 600))\n",
    "plt.imshow(cropped)"
   ]
  }
 ],
 "metadata": {
  "interpreter": {
   "hash": "fc32a243a6b87027c9f6195a114662f388139f44cd834ded9ed282018985cc20"
  },
  "kernelspec": {
   "display_name": "Python 3.10.4 ('web-env')",
   "language": "python",
   "name": "python3"
  },
  "language_info": {
   "codemirror_mode": {
    "name": "ipython",
    "version": 3
   },
   "file_extension": ".py",
   "mimetype": "text/x-python",
   "name": "python",
   "nbconvert_exporter": "python",
   "pygments_lexer": "ipython3",
   "version": "3.10.4"
  },
  "orig_nbformat": 4
 },
 "nbformat": 4,
 "nbformat_minor": 2
}
