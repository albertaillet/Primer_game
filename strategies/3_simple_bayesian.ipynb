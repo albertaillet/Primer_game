{
 "cells": [
  {
   "cell_type": "code",
   "execution_count": 1,
   "metadata": {},
   "outputs": [],
   "source": [
    "%load_ext autoreload\n",
    "%autoreload 2"
   ]
  },
  {
   "cell_type": "code",
   "execution_count": 2,
   "metadata": {},
   "outputs": [
    {
     "name": "stdout",
     "output_type": "stream",
     "text": [
      "pygame 2.1.2 (SDL 2.0.18, Python 3.10.4)\n",
      "Hello from the pygame community. https://www.pygame.org/contribute.html\n"
     ]
    }
   ],
   "source": [
    "import os, sys\n",
    "import numpy as np\n",
    "from pygame import mixer, time\n",
    "import matplotlib.pyplot as plt\n",
    "\n",
    "module_path = os.path.abspath(os.path.join('..'))\n",
    "if module_path not in sys.path:\n",
    "    sys.path.append(module_path)\n",
    "from game_simulation import CoinGameSimulation\n",
    "from game_browser import CoinGameBrowser\n",
    "from simulate_strategy import simulate_strategy"
   ]
  },
  {
   "cell_type": "markdown",
   "metadata": {},
   "source": [
    "### Strategy 4: make use of simple Bayesian reasoning.\n",
    "This strategy uses simple Bayeisan resoning to determine the best strategy to play.\n",
    "\n",
    "- $p$: The parameter of the Bernoulli distribution of L, is the probability of the opponent being fair.\n",
    "- $L$:  Bernouilli distribution with unkown parameter p. Determines if the opponent is a cheater or not.\n",
    "- $\\theta$: The parameter of the Bernoulli distribution of H.\n",
    "- $H_{1:N}$: Bernouilli distribution with parameter $\\theta$ and $N$ samples. Gives the number of heads.\n",
    "\n",
    "We use Bayes rule to get:\n",
    "$$\n",
    "\\begin{align*}\n",
    "P(L | H_{1:N}) &= \\frac{P(H_{1:N} | L) \\cdot P(L)}{P(H_{1:N})} \\\\\n",
    "               &= \\frac{\\sum_{\\theta=0}^1 P(H_{1:N} | L) \\cdot P(L)}{P(H_{1:N})} \\\\\n",
    "               &\\propto \\sum_{\\theta=0}^1 P(H_{1:N} | L) \\cdot P(L)\\\\\n",
    "\\end{align*}\n",
    "$$\n",
    "\n",
    "We know that:\n",
    "$$\n",
    "p = 0.5\n",
    "$$\n",
    "$$\n",
    "\\theta=0.5 \\text{ if } L=0, \\text{ and } \\theta=0.75 \\text{ if } L=1.\n",
    "$$\n",
    "<!--\n",
    "Meaning that:\n",
    "\n",
    " $$\n",
    "P(\\theta | L=0) = \n",
    "\\begin{cases}\n",
    "& 1\\quad \\text{if } \\theta=0.5 \\\\\n",
    "& 0\\quad \\text{otherwise} \\\\\n",
    "\\end{cases} \\\\\n",
    "\n",
    "P(\\theta | L=1) = \n",
    "\\begin{cases}\n",
    "& 1\\quad \\text{if } \\theta=0.75 \\\\\n",
    "& 0\\quad \\text{otherwise} \\\\\n",
    "\\end{cases} \\\\\n",
    "\n",
    "$$ -->"
   ]
  },
  {
   "cell_type": "code",
   "execution_count": 3,
   "metadata": {},
   "outputs": [],
   "source": [
    "class StrategyBayseian:\n",
    "\n",
    "    def __init__(self, \n",
    "                 threshold = 0.75, \n",
    "                 n = 50,\n",
    "                 flip_5_at_start = False):\n",
    "        assert 0 <= threshold <= 1\n",
    "        assert 0 <= n <= 500\n",
    "        self.threshold = threshold \n",
    "        self.flip_5_at_start = flip_5_at_start\n",
    "\n",
    "        n_heads_array = np.arange(n).reshape(n, 1)\n",
    "        n_tails_array = np.arange(n)\n",
    "        p = np.zeros((n, n, 2))\n",
    "        p[:, :, 0] = 0.5 ** n_heads_array * 0.5 ** n_tails_array\n",
    "        p[:, :, 1] = 0.75 ** n_heads_array * (1-0.75) ** n_tails_array\n",
    "        self.p = p / p.sum(axis=2, keepdims=True)\n",
    "\n",
    "    def set_theshold(self, threshold):\n",
    "        assert 0 <= threshold <= 1\n",
    "        self.threshold = threshold\n",
    "\n",
    "    def show_p(self, shape=None):\n",
    "        if shape is None:\n",
    "            shape = self.p.shape\n",
    "        plt.imshow(self.p[:shape[0], :shape[1], 0])\n",
    "        plt.title(\"Probability of being a fair player\")\n",
    "        plt.colorbar()\n",
    "        plt.clim(0,1)\n",
    "        plt.xlabel('Number of tails')\n",
    "        plt.ylabel('Number of heads')\n",
    "        plt.show()\n",
    "\n",
    "    def get_p(self):\n",
    "        return self.p\n",
    "\n",
    "    def strategy(self, n_heads, n_tails, flips_left):\n",
    "        if self.flip_5_at_start and n_heads + n_tails == 0 and flips_left >= 5:\n",
    "            return 1\n",
    "        \n",
    "        p = self.p[n_heads, n_tails, :]\n",
    "\n",
    "        if np.max(p) > self.threshold or flips_left == 0:\n",
    "            label = np.argmax(p)\n",
    "            return label + 2\n",
    "        else:\n",
    "            return 0"
   ]
  },
  {
   "cell_type": "code",
   "execution_count": 6,
   "metadata": {},
   "outputs": [
    {
     "data": {
      "image/png": "[encoded data removed]",
      "text/plain": [
       "<Figure size 432x288 with 2 Axes>"
      ]
     },
     "metadata": {
      "needs_background": "light"
     },
     "output_type": "display_data"
    }
   ],
   "source": [
    "g = CoinGameSimulation()\n",
    "scores = []\n",
    "strat = StrategyBayseian(n=500)\n",
    "strat.show_p(shape=(30, 30))"
   ]
  },
  {
   "cell_type": "code",
   "execution_count": 5,
   "metadata": {},
   "outputs": [
    {
     "data": {
      "image/png": "[encoded data removed]",
      "text/plain": [
       "<Figure size 432x288 with 1 Axes>"
      ]
     },
     "metadata": {
      "needs_background": "light"
     },
     "output_type": "display_data"
    }
   ],
   "source": [
    "for i in range(100):\n",
    "    (n_heads, n_tails, flips_left) = g.reset()\n",
    "    done = False\n",
    "    while not done:\n",
    "        action = strat.strategy(n_heads, n_tails, flips_left)\n",
    "        (n_heads, n_tails, flips_left), reward, done, info = g.step(action)\n",
    "\n",
    "    score = info[\"score\"]\n",
    "    scores.append(score)\n",
    "\n",
    "plt.plot(scores, label=\"scores\")\n",
    "plt.show()"
   ]
  },
  {
   "cell_type": "markdown",
   "metadata": {},
   "source": [
    "Here I simulate the strategy for different thesholds."
   ]
  },
  {
   "cell_type": "code",
   "execution_count": 45,
   "metadata": {},
   "outputs": [
    {
     "name": "stdout",
     "output_type": "stream",
     "text": [
      "Score           mean: 171.55, std: 398.13, median  49, min:   0, max: 2651\n",
      "Labels per game mean: 213.03, std: 488.23, median  63, min:   3, max: 3252\n",
      "Flips per game  mean: 1442.06, std: 3271.43, median 454, min:  18, max: 21865\n",
      "Flips per label mean:  6.77, std:  4.93, median   5, min:   0, max:  59\n",
      "Reward          mean: -0.07, std:  6.84, median  -1, min: -30, max:  15\n",
      "Accuracy: 0.805, Precision: 0.808, Recall: 0.800, F1-score: 0.804\n"
     ]
    }
   ],
   "source": [
    "strat.set_theshold(0.78)\n",
    "simulate_strategy(strat.strategy, n_simulations=100)"
   ]
  },
  {
   "cell_type": "code",
   "execution_count": 49,
   "metadata": {},
   "outputs": [],
   "source": [
    "strat.flip_5_at_start = True"
   ]
  },
  {
   "cell_type": "code",
   "execution_count": 50,
   "metadata": {},
   "outputs": [
    {
     "name": "stdout",
     "output_type": "stream",
     "text": [
      "Score           mean: 154.17, std: 266.53, median  61, min:   2, max: 1574\n",
      "Labels per game mean: 186.00, std: 316.54, median  75, min:   5, max: 1870\n",
      "Flips per game  mean: 1472.17, std: 2499.52, median 592, min:  43, max: 14860\n",
      "Flips per label mean:  7.91, std:  4.64, median   6, min:   0, max:  58\n",
      "Reward          mean: -0.13, std:  8.65, median  -1, min: -30, max:  15\n",
      "Accuracy: 0.829, Precision: 0.823, Recall: 0.834, F1-score: 0.829\n"
     ]
    }
   ],
   "source": [
    "strat.set_theshold(0.78)\n",
    "simulate_strategy(strat.strategy, n_simulations=100)"
   ]
  },
  {
   "cell_type": "code",
   "execution_count": 18,
   "metadata": {},
   "outputs": [],
   "source": [
    "g = CoinGameBrowser()\n",
    "log_file = \"logs/discard.txt\""
   ]
  },
  {
   "cell_type": "code",
   "execution_count": 19,
   "metadata": {},
   "outputs": [],
   "source": [
    "with open(log_file, 'w') as f:\n",
    "    f.write('Score,Flips left,Heads,Tails,Action,Reward\\n')"
   ]
  },
  {
   "cell_type": "code",
   "execution_count": null,
   "metadata": {},
   "outputs": [],
   "source": [
    "i = 0\n",
    "try:\n",
    "    while True:\n",
    "        if i > 0:\n",
    "            (n_heads, n_tails, flips_left) = g.reset()\n",
    "        i += 1\n",
    "        done = False\n",
    "        while not done:\n",
    "            action = strat.strategy(n_heads, n_tails, flips_left)\n",
    "            (n_heads, n_tails, flips_left), reward, done, info = g.step(action)\n",
    "            score = info[\"score\"]\n",
    "            print(f'{score=}, {flips_left=}, {n_heads=}, {n_tails=}, {action=}, {reward=}   ', end='\\r')            \n",
    "            with open(log_file, 'a') as f:\n",
    "                f.write(f'{score:3},{flips_left:3},{n_heads:2},{n_tails:2},{action:2},{reward:3}\\n')\n",
    "        if score > 200:\n",
    "            break\n",
    "except Exception as e:\n",
    "    print(e)\n",
    "\n",
    "mixer.init()\n",
    "while True:\n",
    "    sound = mixer.Sound(\"coin-win-notification.wav\")\n",
    "    sound.play()\n",
    "    time.wait(int(sound.get_length() * 1000))"
   ]
  },
  {
   "cell_type": "code",
   "execution_count": 27,
   "metadata": {},
   "outputs": [],
   "source": [
    "g.driver.close()"
   ]
  }
 ],
 "metadata": {
  "interpreter": {
   "hash": "fc32a243a6b87027c9f6195a114662f388139f44cd834ded9ed282018985cc20"
  },
  "kernelspec": {
   "display_name": "Python 3.10.4 ('web-env')",
   "language": "python",
   "name": "python3"
  },
  "language_info": {
   "codemirror_mode": {
    "name": "ipython",
    "version": 3
   },
   "file_extension": ".py",
   "mimetype": "text/x-python",
   "name": "python",
   "nbconvert_exporter": "python",
   "pygments_lexer": "ipython3",
   "version": "3.10.4"
  },
  "orig_nbformat": 4
 },
 "nbformat": 4,
 "nbformat_minor": 2
}
