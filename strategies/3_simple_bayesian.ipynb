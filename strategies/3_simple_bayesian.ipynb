{
 "cells": [
  {
   "cell_type": "code",
   "execution_count": 1,
   "metadata": {},
   "outputs": [],
   "source": [
    "%load_ext autoreload\n",
    "%autoreload 2"
   ]
  },
  {
   "cell_type": "code",
   "execution_count": 30,
   "metadata": {},
   "outputs": [],
   "source": [
    "import os, sys\n",
    "import numpy as np\n",
    "from pygame import mixer, time\n",
    "import matplotlib.pyplot as plt\n",
    "\n",
    "module_path = os.path.abspath(os.path.join('..'))\n",
    "if module_path not in sys.path:\n",
    "    sys.path.append(module_path)\n",
    "from game_simulation import CoinGameSimulation\n",
    "from game_browser import CoinGameBrowser\n",
    "from simulate_strategy import simulate_strategy"
   ]
  },
  {
   "cell_type": "markdown",
   "metadata": {},
   "source": [
    "### Strategy 4: make use of simple Bayesian reasoning.\n",
    "This strategy uses simple Bayeisan resoning to determine the best strategy to play.\n",
    "\n",
    "- $p$: The parameter of the Bernoulli distribution of L, is the probability of the opponent being fair.\n",
    "- $L$:  Bernouilli distribution with unkown parameter p. Determines if the opponent is a cheater or not.\n",
    "- $\\theta$: The parameter of the Bernoulli distribution of H.\n",
    "- $H_{1:N}$: Bernouilli distribution with parameter $\\theta$ and $N$ samples. Gives the number of heads.\n",
    "\n",
    "We use Bayes rule to get:\n",
    "$$\n",
    "\\begin{align*}\n",
    "P(L | H_{1:N}) &= \\frac{P(H_{1:N} | L) \\cdot P(L)}{P(H_{1:N})} \\\\\n",
    "               &= \\frac{\\sum_{\\theta=0}^1 P(H_{1:N} | L) \\cdot P(L)}{P(H_{1:N})} \\\\\n",
    "               &\\propto \\sum_{\\theta=0}^1 P(H_{1:N} | L) \\cdot P(L)\\\\\n",
    "\\end{align*}\n",
    "$$\n",
    "\n",
    "We know that:\n",
    "$$\n",
    "p = 0.5\n",
    "$$\n",
    "$$\n",
    "\\theta=0.5 \\text{ if } L=0, \\text{ and } \\theta=0.75 \\text{ if } L=1.\n",
    "$$\n",
    "<!--\n",
    "Meaning that:\n",
    "\n",
    " $$\n",
    "P(\\theta | L=0) = \n",
    "\\begin{cases}\n",
    "& 1\\quad \\text{if } \\theta=0.5 \\\\\n",
    "& 0\\quad \\text{otherwise} \\\\\n",
    "\\end{cases} \\\\\n",
    "\n",
    "P(\\theta | L=1) = \n",
    "\\begin{cases}\n",
    "& 1\\quad \\text{if } \\theta=0.75 \\\\\n",
    "& 0\\quad \\text{otherwise} \\\\\n",
    "\\end{cases} \\\\\n",
    "\n",
    "$$ -->"
   ]
  },
  {
   "cell_type": "code",
   "execution_count": 23,
   "metadata": {},
   "outputs": [],
   "source": [
    "class StrategyBayseian:\n",
    "\n",
    "    def __init__(self, \n",
    "                 threshold = 0.75, \n",
    "                 n = 50,\n",
    "                 flip_5_at_start = False):\n",
    "        assert 0 <= threshold <= 1\n",
    "        assert 0 <= n <= 500\n",
    "        self.threshold = threshold \n",
    "        self.flip_5_at_start = flip_5_at_start\n",
    "\n",
    "        n_heads_array = np.arange(n).reshape(n, 1)\n",
    "        n_tails_array = np.arange(n)\n",
    "        p = np.zeros((n, n, 2))\n",
    "        p[:, :, 0] = 0.5 ** n_heads_array * 0.5 ** n_tails_array\n",
    "        p[:, :, 1] = 0.75 ** n_heads_array * (1-0.75) ** n_tails_array\n",
    "        self.p = p / p.sum(axis=2, keepdims=True)\n",
    "\n",
    "    def set_theshold(self, threshold):\n",
    "        assert 0 <= threshold <= 1\n",
    "        self.threshold = threshold\n",
    "\n",
    "    def show_p(self, shape=None):\n",
    "        if shape is None:\n",
    "            shape = self.p.shape\n",
    "        plt.imshow(self.p[:shape[0], :shape[1], 0])\n",
    "        plt.title(\"Probability of being a fair player\")\n",
    "        plt.colorbar()\n",
    "        plt.clim(0,1)\n",
    "        plt.xlabel('Number of tails')\n",
    "        plt.ylabel('Number of heads')\n",
    "        plt.show()\n",
    "\n",
    "    def get_p(self):\n",
    "        return self.p\n",
    "\n",
    "    def strategy(self, n_heads, n_tails, flips_left):\n",
    "        if self.flip_5_at_start and n_heads + n_tails == 0 and flips_left >= 5:\n",
    "            return 1\n",
    "        \n",
    "        p = self.p[n_heads, n_tails, :]\n",
    "\n",
    "        if np.max(p) > self.threshold or flips_left == 0:\n",
    "            label = np.argmax(p)\n",
    "            return label + 2\n",
    "        else:\n",
    "            return 0"
   ]
  },
  {
   "cell_type": "code",
   "execution_count": 24,
   "metadata": {},
   "outputs": [
    {
     "data": {
      "image/png": "[encoded data removed]",
      "text/plain": [
       "<Figure size 432x288 with 2 Axes>"
      ]
     },
     "metadata": {
      "needs_background": "light"
     },
     "output_type": "display_data"
    }
   ],
   "source": [
    "g = CoinGameSimulation()\n",
    "scores = []\n",
    "strat = StrategyBayseian(n=500)\n",
    "strat.show_p(shape=(30, 30))"
   ]
  },
  {
   "cell_type": "code",
   "execution_count": 5,
   "metadata": {},
   "outputs": [
    {
     "data": {
      "image/png": "[encoded data removed]",
      "text/plain": [
       "<Figure size 432x288 with 1 Axes>"
      ]
     },
     "metadata": {
      "needs_background": "light"
     },
     "output_type": "display_data"
    }
   ],
   "source": [
    "for i in range(100):\n",
    "    (n_heads, n_tails, flips_left) = g.reset()\n",
    "    done = False\n",
    "    while not done:\n",
    "        action = strat.strategy(n_heads, n_tails, flips_left)\n",
    "        (n_heads, n_tails, flips_left), reward, done, info = g.step(action)\n",
    "\n",
    "    score = info[\"score\"]\n",
    "    scores.append(score)\n",
    "\n",
    "plt.plot(scores, label=\"scores\")\n",
    "plt.show()"
   ]
  },
  {
   "cell_type": "markdown",
   "metadata": {},
   "source": [
    "Here I simulate the strategy for different thesholds."
   ]
  },
  {
   "cell_type": "code",
   "execution_count": 45,
   "metadata": {},
   "outputs": [
    {
     "name": "stdout",
     "output_type": "stream",
     "text": [
      "Score           mean: 171.55, std: 398.13, median  49, min:   0, max: 2651\n",
      "Labels per game mean: 213.03, std: 488.23, median  63, min:   3, max: 3252\n",
      "Flips per game  mean: 1442.06, std: 3271.43, median 454, min:  18, max: 21865\n",
      "Flips per label mean:  6.77, std:  4.93, median   5, min:   0, max:  59\n",
      "Reward          mean: -0.07, std:  6.84, median  -1, min: -30, max:  15\n",
      "Accuracy: 0.805, Precision: 0.808, Recall: 0.800, F1-score: 0.804\n"
     ]
    }
   ],
   "source": [
    "strat.set_theshold(0.78)\n",
    "simulate_strategy(strat.strategy, n_simulations=100)"
   ]
  },
  {
   "cell_type": "code",
   "execution_count": 49,
   "metadata": {},
   "outputs": [],
   "source": [
    "strat.flip_5_at_start = True"
   ]
  },
  {
   "cell_type": "code",
   "execution_count": 50,
   "metadata": {},
   "outputs": [
    {
     "name": "stdout",
     "output_type": "stream",
     "text": [
      "Score           mean: 154.17, std: 266.53, median  61, min:   2, max: 1574\n",
      "Labels per game mean: 186.00, std: 316.54, median  75, min:   5, max: 1870\n",
      "Flips per game  mean: 1472.17, std: 2499.52, median 592, min:  43, max: 14860\n",
      "Flips per label mean:  7.91, std:  4.64, median   6, min:   0, max:  58\n",
      "Reward          mean: -0.13, std:  8.65, median  -1, min: -30, max:  15\n",
      "Accuracy: 0.829, Precision: 0.823, Recall: 0.834, F1-score: 0.829\n"
     ]
    }
   ],
   "source": [
    "strat.set_theshold(0.78)\n",
    "simulate_strategy(strat.strategy, n_simulations=100)"
   ]
  },
  {
   "cell_type": "code",
   "execution_count": 20,
   "metadata": {},
   "outputs": [],
   "source": [
    "g = CoinGameBrowser()\n",
    "log_file = \"logs/log_strat_3.txt\""
   ]
  },
  {
   "cell_type": "code",
   "execution_count": 22,
   "metadata": {},
   "outputs": [],
   "source": [
    "with open(log_file, 'w') as f:\n",
    "    f.write('Score,Flips left,Heads,Tails,Action,Reward\\n')"
   ]
  },
  {
   "cell_type": "code",
   "execution_count": 47,
   "metadata": {},
   "outputs": [
    {
     "name": "stdout",
     "output_type": "stream",
     "text": [
      "score=2279, flips_left=13, n_heads=4, n_tails=0, action=0, reward=-1      \r"
     ]
    },
    {
     "ename": "KeyboardInterrupt",
     "evalue": "",
     "output_type": "error",
     "traceback": [
      "\u001b[1;31m---------------------------------------------------------------------------\u001b[0m",
      "\u001b[1;31mKeyboardInterrupt\u001b[0m                         Traceback (most recent call last)",
      "\u001b[1;32mc:\\Users\\alber\\Documents\\My_Code\\Primer_game\\notebooks\\strategies\\simple_bayesian.ipynb Cell 13'\u001b[0m in \u001b[0;36m<cell line: 2>\u001b[1;34m()\u001b[0m\n\u001b[0;32m      <a href='vscode-notebook-cell:/c%3A/Users/alber/Documents/My_Code/Primer_game/notebooks/strategies/simple_bayesian.ipynb#ch0000013?line=7'>8</a>\u001b[0m \u001b[39mwhile\u001b[39;00m \u001b[39mnot\u001b[39;00m done:\n\u001b[0;32m      <a href='vscode-notebook-cell:/c%3A/Users/alber/Documents/My_Code/Primer_game/notebooks/strategies/simple_bayesian.ipynb#ch0000013?line=8'>9</a>\u001b[0m     action \u001b[39m=\u001b[39m strat\u001b[39m.\u001b[39mstrategy(n_heads, n_tails, flips_left)\n\u001b[1;32m---> <a href='vscode-notebook-cell:/c%3A/Users/alber/Documents/My_Code/Primer_game/notebooks/strategies/simple_bayesian.ipynb#ch0000013?line=9'>10</a>\u001b[0m     (n_heads, n_tails, flips_left), reward, done, info \u001b[39m=\u001b[39m g\u001b[39m.\u001b[39;49mstep(action)\n\u001b[0;32m     <a href='vscode-notebook-cell:/c%3A/Users/alber/Documents/My_Code/Primer_game/notebooks/strategies/simple_bayesian.ipynb#ch0000013?line=10'>11</a>\u001b[0m     score \u001b[39m=\u001b[39m info[\u001b[39m\"\u001b[39m\u001b[39mscore\u001b[39m\u001b[39m\"\u001b[39m]\n\u001b[0;32m     <a href='vscode-notebook-cell:/c%3A/Users/alber/Documents/My_Code/Primer_game/notebooks/strategies/simple_bayesian.ipynb#ch0000013?line=11'>12</a>\u001b[0m     \u001b[39mprint\u001b[39m(\u001b[39mf\u001b[39m\u001b[39m'\u001b[39m\u001b[39m{\u001b[39;00mscore\u001b[39m=}\u001b[39;00m\u001b[39m, \u001b[39m\u001b[39m{\u001b[39;00mflips_left\u001b[39m=}\u001b[39;00m\u001b[39m, \u001b[39m\u001b[39m{\u001b[39;00mn_heads\u001b[39m=}\u001b[39;00m\u001b[39m, \u001b[39m\u001b[39m{\u001b[39;00mn_tails\u001b[39m=}\u001b[39;00m\u001b[39m, \u001b[39m\u001b[39m{\u001b[39;00maction\u001b[39m=}\u001b[39;00m\u001b[39m, \u001b[39m\u001b[39m{\u001b[39;00mreward\u001b[39m=}\u001b[39;00m\u001b[39m   \u001b[39m\u001b[39m'\u001b[39m, end\u001b[39m=\u001b[39m\u001b[39m'\u001b[39m\u001b[39m\\r\u001b[39;00m\u001b[39m'\u001b[39m)            \n",
      "File \u001b[1;32mc:\\Users\\alber\\Documents\\My_Code\\Primer_game\\game.py:83\u001b[0m, in \u001b[0;36mCoinGame.step\u001b[1;34m(self, action)\u001b[0m\n\u001b[0;32m     <a href='file:///c%3A/Users/alber/Documents/My_Code/Primer_game/game.py?line=80'>81</a>\u001b[0m     \u001b[39mself\u001b[39m\u001b[39m.\u001b[39mlabel_fair()\n\u001b[0;32m     <a href='file:///c%3A/Users/alber/Documents/My_Code/Primer_game/game.py?line=81'>82</a>\u001b[0m \u001b[39melif\u001b[39;00m action \u001b[39m==\u001b[39m \u001b[39m3\u001b[39m:\n\u001b[1;32m---> <a href='file:///c%3A/Users/alber/Documents/My_Code/Primer_game/game.py?line=82'>83</a>\u001b[0m     \u001b[39mself\u001b[39;49m\u001b[39m.\u001b[39;49mlabel_cheater()\n\u001b[0;32m     <a href='file:///c%3A/Users/alber/Documents/My_Code/Primer_game/game.py?line=83'>84</a>\u001b[0m \u001b[39melse\u001b[39;00m: \n\u001b[0;32m     <a href='file:///c%3A/Users/alber/Documents/My_Code/Primer_game/game.py?line=84'>85</a>\u001b[0m     \u001b[39mraise\u001b[39;00m \u001b[39mValueError\u001b[39;00m(\u001b[39mf\u001b[39m\u001b[39m\"\u001b[39m\u001b[39m{\u001b[39;00maction\u001b[39m!r}\u001b[39;00m\u001b[39m (\u001b[39m\u001b[39m{\u001b[39;00m\u001b[39mtype\u001b[39m(action)\u001b[39m}\u001b[39;00m\u001b[39m) invalid\u001b[39m\u001b[39m\"\u001b[39m)\n",
      "File \u001b[1;32mc:\\Users\\alber\\Documents\\My_Code\\Primer_game\\game_browser.py:173\u001b[0m, in \u001b[0;36mCoinGameBrowser.label_cheater\u001b[1;34m(self)\u001b[0m\n\u001b[0;32m    <a href='file:///c%3A/Users/alber/Documents/My_Code/Primer_game/game_browser.py?line=171'>172</a>\u001b[0m \u001b[39mdef\u001b[39;00m \u001b[39mlabel_cheater\u001b[39m(\u001b[39mself\u001b[39m):\n\u001b[1;32m--> <a href='file:///c%3A/Users/alber/Documents/My_Code/Primer_game/game_browser.py?line=172'>173</a>\u001b[0m     \u001b[39mself\u001b[39;49m\u001b[39m.\u001b[39;49m_label(\u001b[39m\"\u001b[39;49m\u001b[39mlabel_cheater\u001b[39;49m\u001b[39m\"\u001b[39;49m)\n",
      "File \u001b[1;32mc:\\Users\\alber\\Documents\\My_Code\\Primer_game\\game_browser.py:183\u001b[0m, in \u001b[0;36mCoinGameBrowser._label\u001b[1;34m(self, label)\u001b[0m\n\u001b[0;32m    <a href='file:///c%3A/Users/alber/Documents/My_Code/Primer_game/game_browser.py?line=180'>181</a>\u001b[0m     time\u001b[39m.\u001b[39msleep(\u001b[39mself\u001b[39m\u001b[39m.\u001b[39mlabel_animation_time)\n\u001b[0;32m    <a href='file:///c%3A/Users/alber/Documents/My_Code/Primer_game/game_browser.py?line=181'>182</a>\u001b[0m \u001b[39mself\u001b[39m\u001b[39m.\u001b[39moutdated_data \u001b[39m=\u001b[39m \u001b[39mTrue\u001b[39;00m\n\u001b[1;32m--> <a href='file:///c%3A/Users/alber/Documents/My_Code/Primer_game/game_browser.py?line=182'>183</a>\u001b[0m \u001b[39mself\u001b[39;49m\u001b[39m.\u001b[39;49m_update_data()\n",
      "File \u001b[1;32mc:\\Users\\alber\\Documents\\My_Code\\Primer_game\\game_browser.py:113\u001b[0m, in \u001b[0;36mCoinGameBrowser._update_data\u001b[1;34m(self)\u001b[0m\n\u001b[0;32m    <a href='file:///c%3A/Users/alber/Documents/My_Code/Primer_game/game_browser.py?line=109'>110</a>\u001b[0m screenshot \u001b[39m=\u001b[39m \u001b[39mself\u001b[39m\u001b[39m.\u001b[39mget_page_screenshot()\n\u001b[0;32m    <a href='file:///c%3A/Users/alber/Documents/My_Code/Primer_game/game_browser.py?line=111'>112</a>\u001b[0m crop \u001b[39m=\u001b[39m screenshot\u001b[39m.\u001b[39mcrop((\u001b[39m0\u001b[39m, \u001b[39m490\u001b[39m, \u001b[39m750\u001b[39m, \u001b[39m985\u001b[39m))\n\u001b[1;32m--> <a href='file:///c%3A/Users/alber/Documents/My_Code/Primer_game/game_browser.py?line=112'>113</a>\u001b[0m text \u001b[39m=\u001b[39m CoinGameBrowser\u001b[39m.\u001b[39;49m_get_image_text(crop)\n\u001b[0;32m    <a href='file:///c%3A/Users/alber/Documents/My_Code/Primer_game/game_browser.py?line=114'>115</a>\u001b[0m \u001b[39mself\u001b[39m\u001b[39m.\u001b[39mdone \u001b[39m=\u001b[39m \u001b[39m\"\u001b[39m\u001b[39mthe leaderboard\u001b[39m\u001b[39m\"\u001b[39m \u001b[39min\u001b[39;00m text\u001b[39m.\u001b[39mlower() \u001b[39mor\u001b[39;00m \u001b[39m\"\u001b[39m\u001b[39mgame over\u001b[39m\u001b[39m\"\u001b[39m \u001b[39min\u001b[39;00m text\u001b[39m.\u001b[39mlower()\n\u001b[0;32m    <a href='file:///c%3A/Users/alber/Documents/My_Code/Primer_game/game_browser.py?line=116'>117</a>\u001b[0m \u001b[39mself\u001b[39m\u001b[39m.\u001b[39mheads \u001b[39m=\u001b[39m \u001b[39mself\u001b[39m\u001b[39m.\u001b[39mparse_heads(text)\n",
      "File \u001b[1;32mc:\\Users\\alber\\Documents\\My_Code\\Primer_game\\game_browser.py:101\u001b[0m, in \u001b[0;36mCoinGameBrowser._get_image_text\u001b[1;34m(image)\u001b[0m\n\u001b[0;32m     <a href='file:///c%3A/Users/alber/Documents/My_Code/Primer_game/game_browser.py?line=98'>99</a>\u001b[0m \u001b[39m@staticmethod\u001b[39m\n\u001b[0;32m    <a href='file:///c%3A/Users/alber/Documents/My_Code/Primer_game/game_browser.py?line=99'>100</a>\u001b[0m \u001b[39mdef\u001b[39;00m \u001b[39m_get_image_text\u001b[39m(image):\n\u001b[1;32m--> <a href='file:///c%3A/Users/alber/Documents/My_Code/Primer_game/game_browser.py?line=100'>101</a>\u001b[0m     \u001b[39mreturn\u001b[39;00m tess\u001b[39m.\u001b[39;49mimage_to_string(image)\n",
      "File \u001b[1;32m~\\miniconda3\\envs\\web-env\\lib\\site-packages\\pytesseract\\pytesseract.py:416\u001b[0m, in \u001b[0;36mimage_to_string\u001b[1;34m(image, lang, config, nice, output_type, timeout)\u001b[0m\n\u001b[0;32m    <a href='file:///c%3A/Users/alber/miniconda3/envs/web-env/lib/site-packages/pytesseract/pytesseract.py?line=410'>411</a>\u001b[0m \u001b[39m\"\"\"\u001b[39;00m\n\u001b[0;32m    <a href='file:///c%3A/Users/alber/miniconda3/envs/web-env/lib/site-packages/pytesseract/pytesseract.py?line=411'>412</a>\u001b[0m \u001b[39mReturns the result of a Tesseract OCR run on the provided image to string\u001b[39;00m\n\u001b[0;32m    <a href='file:///c%3A/Users/alber/miniconda3/envs/web-env/lib/site-packages/pytesseract/pytesseract.py?line=412'>413</a>\u001b[0m \u001b[39m\"\"\"\u001b[39;00m\n\u001b[0;32m    <a href='file:///c%3A/Users/alber/miniconda3/envs/web-env/lib/site-packages/pytesseract/pytesseract.py?line=413'>414</a>\u001b[0m args \u001b[39m=\u001b[39m [image, \u001b[39m'\u001b[39m\u001b[39mtxt\u001b[39m\u001b[39m'\u001b[39m, lang, config, nice, timeout]\n\u001b[1;32m--> <a href='file:///c%3A/Users/alber/miniconda3/envs/web-env/lib/site-packages/pytesseract/pytesseract.py?line=415'>416</a>\u001b[0m \u001b[39mreturn\u001b[39;00m {\n\u001b[0;32m    <a href='file:///c%3A/Users/alber/miniconda3/envs/web-env/lib/site-packages/pytesseract/pytesseract.py?line=416'>417</a>\u001b[0m     Output\u001b[39m.\u001b[39;49mBYTES: \u001b[39mlambda\u001b[39;49;00m: run_and_get_output(\u001b[39m*\u001b[39;49m(args \u001b[39m+\u001b[39;49m [\u001b[39mTrue\u001b[39;49;00m])),\n\u001b[0;32m    <a href='file:///c%3A/Users/alber/miniconda3/envs/web-env/lib/site-packages/pytesseract/pytesseract.py?line=417'>418</a>\u001b[0m     Output\u001b[39m.\u001b[39;49mDICT: \u001b[39mlambda\u001b[39;49;00m: {\u001b[39m'\u001b[39;49m\u001b[39mtext\u001b[39;49m\u001b[39m'\u001b[39;49m: run_and_get_output(\u001b[39m*\u001b[39;49margs)},\n\u001b[0;32m    <a href='file:///c%3A/Users/alber/miniconda3/envs/web-env/lib/site-packages/pytesseract/pytesseract.py?line=418'>419</a>\u001b[0m     Output\u001b[39m.\u001b[39;49mSTRING: \u001b[39mlambda\u001b[39;49;00m: run_and_get_output(\u001b[39m*\u001b[39;49margs),\n\u001b[0;32m    <a href='file:///c%3A/Users/alber/miniconda3/envs/web-env/lib/site-packages/pytesseract/pytesseract.py?line=419'>420</a>\u001b[0m }[output_type]()\n",
      "File \u001b[1;32m~\\miniconda3\\envs\\web-env\\lib\\site-packages\\pytesseract\\pytesseract.py:419\u001b[0m, in \u001b[0;36mimage_to_string.<locals>.<lambda>\u001b[1;34m()\u001b[0m\n\u001b[0;32m    <a href='file:///c%3A/Users/alber/miniconda3/envs/web-env/lib/site-packages/pytesseract/pytesseract.py?line=410'>411</a>\u001b[0m \u001b[39m\"\"\"\u001b[39;00m\n\u001b[0;32m    <a href='file:///c%3A/Users/alber/miniconda3/envs/web-env/lib/site-packages/pytesseract/pytesseract.py?line=411'>412</a>\u001b[0m \u001b[39mReturns the result of a Tesseract OCR run on the provided image to string\u001b[39;00m\n\u001b[0;32m    <a href='file:///c%3A/Users/alber/miniconda3/envs/web-env/lib/site-packages/pytesseract/pytesseract.py?line=412'>413</a>\u001b[0m \u001b[39m\"\"\"\u001b[39;00m\n\u001b[0;32m    <a href='file:///c%3A/Users/alber/miniconda3/envs/web-env/lib/site-packages/pytesseract/pytesseract.py?line=413'>414</a>\u001b[0m args \u001b[39m=\u001b[39m [image, \u001b[39m'\u001b[39m\u001b[39mtxt\u001b[39m\u001b[39m'\u001b[39m, lang, config, nice, timeout]\n\u001b[0;32m    <a href='file:///c%3A/Users/alber/miniconda3/envs/web-env/lib/site-packages/pytesseract/pytesseract.py?line=415'>416</a>\u001b[0m \u001b[39mreturn\u001b[39;00m {\n\u001b[0;32m    <a href='file:///c%3A/Users/alber/miniconda3/envs/web-env/lib/site-packages/pytesseract/pytesseract.py?line=416'>417</a>\u001b[0m     Output\u001b[39m.\u001b[39mBYTES: \u001b[39mlambda\u001b[39;00m: run_and_get_output(\u001b[39m*\u001b[39m(args \u001b[39m+\u001b[39m [\u001b[39mTrue\u001b[39;00m])),\n\u001b[0;32m    <a href='file:///c%3A/Users/alber/miniconda3/envs/web-env/lib/site-packages/pytesseract/pytesseract.py?line=417'>418</a>\u001b[0m     Output\u001b[39m.\u001b[39mDICT: \u001b[39mlambda\u001b[39;00m: {\u001b[39m'\u001b[39m\u001b[39mtext\u001b[39m\u001b[39m'\u001b[39m: run_and_get_output(\u001b[39m*\u001b[39margs)},\n\u001b[1;32m--> <a href='file:///c%3A/Users/alber/miniconda3/envs/web-env/lib/site-packages/pytesseract/pytesseract.py?line=418'>419</a>\u001b[0m     Output\u001b[39m.\u001b[39mSTRING: \u001b[39mlambda\u001b[39;00m: run_and_get_output(\u001b[39m*\u001b[39;49margs),\n\u001b[0;32m    <a href='file:///c%3A/Users/alber/miniconda3/envs/web-env/lib/site-packages/pytesseract/pytesseract.py?line=419'>420</a>\u001b[0m }[output_type]()\n",
      "File \u001b[1;32m~\\miniconda3\\envs\\web-env\\lib\\site-packages\\pytesseract\\pytesseract.py:286\u001b[0m, in \u001b[0;36mrun_and_get_output\u001b[1;34m(image, extension, lang, config, nice, timeout, return_bytes)\u001b[0m\n\u001b[0;32m    <a href='file:///c%3A/Users/alber/miniconda3/envs/web-env/lib/site-packages/pytesseract/pytesseract.py?line=274'>275</a>\u001b[0m \u001b[39mwith\u001b[39;00m save(image) \u001b[39mas\u001b[39;00m (temp_name, input_filename):\n\u001b[0;32m    <a href='file:///c%3A/Users/alber/miniconda3/envs/web-env/lib/site-packages/pytesseract/pytesseract.py?line=275'>276</a>\u001b[0m     kwargs \u001b[39m=\u001b[39m {\n\u001b[0;32m    <a href='file:///c%3A/Users/alber/miniconda3/envs/web-env/lib/site-packages/pytesseract/pytesseract.py?line=276'>277</a>\u001b[0m         \u001b[39m'\u001b[39m\u001b[39minput_filename\u001b[39m\u001b[39m'\u001b[39m: input_filename,\n\u001b[0;32m    <a href='file:///c%3A/Users/alber/miniconda3/envs/web-env/lib/site-packages/pytesseract/pytesseract.py?line=277'>278</a>\u001b[0m         \u001b[39m'\u001b[39m\u001b[39moutput_filename_base\u001b[39m\u001b[39m'\u001b[39m: temp_name,\n\u001b[1;32m   (...)\u001b[0m\n\u001b[0;32m    <a href='file:///c%3A/Users/alber/miniconda3/envs/web-env/lib/site-packages/pytesseract/pytesseract.py?line=282'>283</a>\u001b[0m         \u001b[39m'\u001b[39m\u001b[39mtimeout\u001b[39m\u001b[39m'\u001b[39m: timeout,\n\u001b[0;32m    <a href='file:///c%3A/Users/alber/miniconda3/envs/web-env/lib/site-packages/pytesseract/pytesseract.py?line=283'>284</a>\u001b[0m     }\n\u001b[1;32m--> <a href='file:///c%3A/Users/alber/miniconda3/envs/web-env/lib/site-packages/pytesseract/pytesseract.py?line=285'>286</a>\u001b[0m     run_tesseract(\u001b[39m*\u001b[39m\u001b[39m*\u001b[39mkwargs)\n\u001b[0;32m    <a href='file:///c%3A/Users/alber/miniconda3/envs/web-env/lib/site-packages/pytesseract/pytesseract.py?line=286'>287</a>\u001b[0m     filename \u001b[39m=\u001b[39m kwargs[\u001b[39m'\u001b[39m\u001b[39moutput_filename_base\u001b[39m\u001b[39m'\u001b[39m] \u001b[39m+\u001b[39m extsep \u001b[39m+\u001b[39m extension\n\u001b[0;32m    <a href='file:///c%3A/Users/alber/miniconda3/envs/web-env/lib/site-packages/pytesseract/pytesseract.py?line=287'>288</a>\u001b[0m     \u001b[39mwith\u001b[39;00m \u001b[39mopen\u001b[39m(filename, \u001b[39m'\u001b[39m\u001b[39mrb\u001b[39m\u001b[39m'\u001b[39m) \u001b[39mas\u001b[39;00m output_file:\n",
      "File \u001b[1;32m~\\miniconda3\\envs\\web-env\\lib\\site-packages\\pytesseract\\pytesseract.py:260\u001b[0m, in \u001b[0;36mrun_tesseract\u001b[1;34m(input_filename, output_filename_base, extension, lang, config, nice, timeout)\u001b[0m\n\u001b[0;32m    <a href='file:///c%3A/Users/alber/miniconda3/envs/web-env/lib/site-packages/pytesseract/pytesseract.py?line=256'>257</a>\u001b[0m         \u001b[39mraise\u001b[39;00m e\n\u001b[0;32m    <a href='file:///c%3A/Users/alber/miniconda3/envs/web-env/lib/site-packages/pytesseract/pytesseract.py?line=257'>258</a>\u001b[0m     \u001b[39mraise\u001b[39;00m TesseractNotFoundError()\n\u001b[1;32m--> <a href='file:///c%3A/Users/alber/miniconda3/envs/web-env/lib/site-packages/pytesseract/pytesseract.py?line=259'>260</a>\u001b[0m \u001b[39mwith\u001b[39;00m timeout_manager(proc, timeout) \u001b[39mas\u001b[39;00m error_string:\n\u001b[0;32m    <a href='file:///c%3A/Users/alber/miniconda3/envs/web-env/lib/site-packages/pytesseract/pytesseract.py?line=260'>261</a>\u001b[0m     \u001b[39mif\u001b[39;00m proc\u001b[39m.\u001b[39mreturncode:\n\u001b[0;32m    <a href='file:///c%3A/Users/alber/miniconda3/envs/web-env/lib/site-packages/pytesseract/pytesseract.py?line=261'>262</a>\u001b[0m         \u001b[39mraise\u001b[39;00m TesseractError(proc\u001b[39m.\u001b[39mreturncode, get_errors(error_string))\n",
      "File \u001b[1;32m~\\miniconda3\\envs\\web-env\\lib\\contextlib.py:135\u001b[0m, in \u001b[0;36m_GeneratorContextManager.__enter__\u001b[1;34m(self)\u001b[0m\n\u001b[0;32m    <a href='file:///c%3A/Users/alber/miniconda3/envs/web-env/lib/contextlib.py?line=132'>133</a>\u001b[0m \u001b[39mdel\u001b[39;00m \u001b[39mself\u001b[39m\u001b[39m.\u001b[39margs, \u001b[39mself\u001b[39m\u001b[39m.\u001b[39mkwds, \u001b[39mself\u001b[39m\u001b[39m.\u001b[39mfunc\n\u001b[0;32m    <a href='file:///c%3A/Users/alber/miniconda3/envs/web-env/lib/contextlib.py?line=133'>134</a>\u001b[0m \u001b[39mtry\u001b[39;00m:\n\u001b[1;32m--> <a href='file:///c%3A/Users/alber/miniconda3/envs/web-env/lib/contextlib.py?line=134'>135</a>\u001b[0m     \u001b[39mreturn\u001b[39;00m \u001b[39mnext\u001b[39;49m(\u001b[39mself\u001b[39;49m\u001b[39m.\u001b[39;49mgen)\n\u001b[0;32m    <a href='file:///c%3A/Users/alber/miniconda3/envs/web-env/lib/contextlib.py?line=135'>136</a>\u001b[0m \u001b[39mexcept\u001b[39;00m \u001b[39mStopIteration\u001b[39;00m:\n\u001b[0;32m    <a href='file:///c%3A/Users/alber/miniconda3/envs/web-env/lib/contextlib.py?line=136'>137</a>\u001b[0m     \u001b[39mraise\u001b[39;00m \u001b[39mRuntimeError\u001b[39;00m(\u001b[39m\"\u001b[39m\u001b[39mgenerator didn\u001b[39m\u001b[39m'\u001b[39m\u001b[39mt yield\u001b[39m\u001b[39m\"\u001b[39m) \u001b[39mfrom\u001b[39;00m \u001b[39mNone\u001b[39m\n",
      "File \u001b[1;32m~\\miniconda3\\envs\\web-env\\lib\\site-packages\\pytesseract\\pytesseract.py:126\u001b[0m, in \u001b[0;36mtimeout_manager\u001b[1;34m(proc, seconds)\u001b[0m\n\u001b[0;32m    <a href='file:///c%3A/Users/alber/miniconda3/envs/web-env/lib/site-packages/pytesseract/pytesseract.py?line=123'>124</a>\u001b[0m \u001b[39mtry\u001b[39;00m:\n\u001b[0;32m    <a href='file:///c%3A/Users/alber/miniconda3/envs/web-env/lib/site-packages/pytesseract/pytesseract.py?line=124'>125</a>\u001b[0m     \u001b[39mif\u001b[39;00m \u001b[39mnot\u001b[39;00m seconds:\n\u001b[1;32m--> <a href='file:///c%3A/Users/alber/miniconda3/envs/web-env/lib/site-packages/pytesseract/pytesseract.py?line=125'>126</a>\u001b[0m         \u001b[39myield\u001b[39;00m proc\u001b[39m.\u001b[39;49mcommunicate()[\u001b[39m1\u001b[39m]\n\u001b[0;32m    <a href='file:///c%3A/Users/alber/miniconda3/envs/web-env/lib/site-packages/pytesseract/pytesseract.py?line=126'>127</a>\u001b[0m         \u001b[39mreturn\u001b[39;00m\n\u001b[0;32m    <a href='file:///c%3A/Users/alber/miniconda3/envs/web-env/lib/site-packages/pytesseract/pytesseract.py?line=128'>129</a>\u001b[0m     \u001b[39mtry\u001b[39;00m:\n",
      "File \u001b[1;32m~\\miniconda3\\envs\\web-env\\lib\\subprocess.py:1149\u001b[0m, in \u001b[0;36mPopen.communicate\u001b[1;34m(self, input, timeout)\u001b[0m\n\u001b[0;32m   <a href='file:///c%3A/Users/alber/miniconda3/envs/web-env/lib/subprocess.py?line=1145'>1146</a>\u001b[0m     endtime \u001b[39m=\u001b[39m \u001b[39mNone\u001b[39;00m\n\u001b[0;32m   <a href='file:///c%3A/Users/alber/miniconda3/envs/web-env/lib/subprocess.py?line=1147'>1148</a>\u001b[0m \u001b[39mtry\u001b[39;00m:\n\u001b[1;32m-> <a href='file:///c%3A/Users/alber/miniconda3/envs/web-env/lib/subprocess.py?line=1148'>1149</a>\u001b[0m     stdout, stderr \u001b[39m=\u001b[39m \u001b[39mself\u001b[39;49m\u001b[39m.\u001b[39;49m_communicate(\u001b[39minput\u001b[39;49m, endtime, timeout)\n\u001b[0;32m   <a href='file:///c%3A/Users/alber/miniconda3/envs/web-env/lib/subprocess.py?line=1149'>1150</a>\u001b[0m \u001b[39mexcept\u001b[39;00m \u001b[39mKeyboardInterrupt\u001b[39;00m:\n\u001b[0;32m   <a href='file:///c%3A/Users/alber/miniconda3/envs/web-env/lib/subprocess.py?line=1150'>1151</a>\u001b[0m     \u001b[39m# https://bugs.python.org/issue25942\u001b[39;00m\n\u001b[0;32m   <a href='file:///c%3A/Users/alber/miniconda3/envs/web-env/lib/subprocess.py?line=1151'>1152</a>\u001b[0m     \u001b[39m# See the detailed comment in .wait().\u001b[39;00m\n\u001b[0;32m   <a href='file:///c%3A/Users/alber/miniconda3/envs/web-env/lib/subprocess.py?line=1152'>1153</a>\u001b[0m     \u001b[39mif\u001b[39;00m timeout \u001b[39mis\u001b[39;00m \u001b[39mnot\u001b[39;00m \u001b[39mNone\u001b[39;00m:\n",
      "File \u001b[1;32m~\\miniconda3\\envs\\web-env\\lib\\subprocess.py:1523\u001b[0m, in \u001b[0;36mPopen._communicate\u001b[1;34m(self, input, endtime, orig_timeout)\u001b[0m\n\u001b[0;32m   <a href='file:///c%3A/Users/alber/miniconda3/envs/web-env/lib/subprocess.py?line=1518'>1519</a>\u001b[0m \u001b[39m# Wait for the reader threads, or time out.  If we time out, the\u001b[39;00m\n\u001b[0;32m   <a href='file:///c%3A/Users/alber/miniconda3/envs/web-env/lib/subprocess.py?line=1519'>1520</a>\u001b[0m \u001b[39m# threads remain reading and the fds left open in case the user\u001b[39;00m\n\u001b[0;32m   <a href='file:///c%3A/Users/alber/miniconda3/envs/web-env/lib/subprocess.py?line=1520'>1521</a>\u001b[0m \u001b[39m# calls communicate again.\u001b[39;00m\n\u001b[0;32m   <a href='file:///c%3A/Users/alber/miniconda3/envs/web-env/lib/subprocess.py?line=1521'>1522</a>\u001b[0m \u001b[39mif\u001b[39;00m \u001b[39mself\u001b[39m\u001b[39m.\u001b[39mstdout \u001b[39mis\u001b[39;00m \u001b[39mnot\u001b[39;00m \u001b[39mNone\u001b[39;00m:\n\u001b[1;32m-> <a href='file:///c%3A/Users/alber/miniconda3/envs/web-env/lib/subprocess.py?line=1522'>1523</a>\u001b[0m     \u001b[39mself\u001b[39;49m\u001b[39m.\u001b[39;49mstdout_thread\u001b[39m.\u001b[39;49mjoin(\u001b[39mself\u001b[39;49m\u001b[39m.\u001b[39;49m_remaining_time(endtime))\n\u001b[0;32m   <a href='file:///c%3A/Users/alber/miniconda3/envs/web-env/lib/subprocess.py?line=1523'>1524</a>\u001b[0m     \u001b[39mif\u001b[39;00m \u001b[39mself\u001b[39m\u001b[39m.\u001b[39mstdout_thread\u001b[39m.\u001b[39mis_alive():\n\u001b[0;32m   <a href='file:///c%3A/Users/alber/miniconda3/envs/web-env/lib/subprocess.py?line=1524'>1525</a>\u001b[0m         \u001b[39mraise\u001b[39;00m TimeoutExpired(\u001b[39mself\u001b[39m\u001b[39m.\u001b[39margs, orig_timeout)\n",
      "File \u001b[1;32m~\\miniconda3\\envs\\web-env\\lib\\threading.py:1089\u001b[0m, in \u001b[0;36mThread.join\u001b[1;34m(self, timeout)\u001b[0m\n\u001b[0;32m   <a href='file:///c%3A/Users/alber/miniconda3/envs/web-env/lib/threading.py?line=1085'>1086</a>\u001b[0m     \u001b[39mraise\u001b[39;00m \u001b[39mRuntimeError\u001b[39;00m(\u001b[39m\"\u001b[39m\u001b[39mcannot join current thread\u001b[39m\u001b[39m\"\u001b[39m)\n\u001b[0;32m   <a href='file:///c%3A/Users/alber/miniconda3/envs/web-env/lib/threading.py?line=1087'>1088</a>\u001b[0m \u001b[39mif\u001b[39;00m timeout \u001b[39mis\u001b[39;00m \u001b[39mNone\u001b[39;00m:\n\u001b[1;32m-> <a href='file:///c%3A/Users/alber/miniconda3/envs/web-env/lib/threading.py?line=1088'>1089</a>\u001b[0m     \u001b[39mself\u001b[39;49m\u001b[39m.\u001b[39;49m_wait_for_tstate_lock()\n\u001b[0;32m   <a href='file:///c%3A/Users/alber/miniconda3/envs/web-env/lib/threading.py?line=1089'>1090</a>\u001b[0m \u001b[39melse\u001b[39;00m:\n\u001b[0;32m   <a href='file:///c%3A/Users/alber/miniconda3/envs/web-env/lib/threading.py?line=1090'>1091</a>\u001b[0m     \u001b[39m# the behavior of a negative timeout isn't documented, but\u001b[39;00m\n\u001b[0;32m   <a href='file:///c%3A/Users/alber/miniconda3/envs/web-env/lib/threading.py?line=1091'>1092</a>\u001b[0m     \u001b[39m# historically .join(timeout=x) for x<0 has acted as if timeout=0\u001b[39;00m\n\u001b[0;32m   <a href='file:///c%3A/Users/alber/miniconda3/envs/web-env/lib/threading.py?line=1092'>1093</a>\u001b[0m     \u001b[39mself\u001b[39m\u001b[39m.\u001b[39m_wait_for_tstate_lock(timeout\u001b[39m=\u001b[39m\u001b[39mmax\u001b[39m(timeout, \u001b[39m0\u001b[39m))\n",
      "File \u001b[1;32m~\\miniconda3\\envs\\web-env\\lib\\threading.py:1109\u001b[0m, in \u001b[0;36mThread._wait_for_tstate_lock\u001b[1;34m(self, block, timeout)\u001b[0m\n\u001b[0;32m   <a href='file:///c%3A/Users/alber/miniconda3/envs/web-env/lib/threading.py?line=1105'>1106</a>\u001b[0m     \u001b[39mreturn\u001b[39;00m\n\u001b[0;32m   <a href='file:///c%3A/Users/alber/miniconda3/envs/web-env/lib/threading.py?line=1107'>1108</a>\u001b[0m \u001b[39mtry\u001b[39;00m:\n\u001b[1;32m-> <a href='file:///c%3A/Users/alber/miniconda3/envs/web-env/lib/threading.py?line=1108'>1109</a>\u001b[0m     \u001b[39mif\u001b[39;00m lock\u001b[39m.\u001b[39;49macquire(block, timeout):\n\u001b[0;32m   <a href='file:///c%3A/Users/alber/miniconda3/envs/web-env/lib/threading.py?line=1109'>1110</a>\u001b[0m         lock\u001b[39m.\u001b[39mrelease()\n\u001b[0;32m   <a href='file:///c%3A/Users/alber/miniconda3/envs/web-env/lib/threading.py?line=1110'>1111</a>\u001b[0m         \u001b[39mself\u001b[39m\u001b[39m.\u001b[39m_stop()\n",
      "\u001b[1;31mKeyboardInterrupt\u001b[0m: "
     ]
    }
   ],
   "source": [
    "i = 0\n",
    "try:\n",
    "    while True:\n",
    "        if i > 0:\n",
    "            (n_heads, n_tails, flips_left) = g.reset()\n",
    "        i += 1\n",
    "        done = False\n",
    "        while not done:\n",
    "            action = strat.strategy(n_heads, n_tails, flips_left)\n",
    "            (n_heads, n_tails, flips_left), reward, done, info = g.step(action)\n",
    "            score = info[\"score\"]\n",
    "            print(f'{score=}, {flips_left=}, {n_heads=}, {n_tails=}, {action=}, {reward=}   ', end='\\r')            \n",
    "            with open(log_file, 'a') as f:\n",
    "                f.write(f'{score:3},{flips_left:3},{n_heads:2},{n_tails:2},{action:2},{reward:3}\\n')\n",
    "        if score > 200:\n",
    "            break\n",
    "except Exception as e:\n",
    "    print(e)\n",
    "\n",
    "mixer.init()\n",
    "while True:\n",
    "    sound = mixer.Sound(\"coin-win-notification.wav\")\n",
    "    sound.play()\n",
    "    time.wait(int(sound.get_length() * 1000))"
   ]
  }
 ],
 "metadata": {
  "interpreter": {
   "hash": "fc32a243a6b87027c9f6195a114662f388139f44cd834ded9ed282018985cc20"
  },
  "kernelspec": {
   "display_name": "Python 3.10.4 ('web-env')",
   "language": "python",
   "name": "python3"
  },
  "language_info": {
   "codemirror_mode": {
    "name": "ipython",
    "version": 3
   },
   "file_extension": ".py",
   "mimetype": "text/x-python",
   "name": "python",
   "nbconvert_exporter": "python",
   "pygments_lexer": "ipython3",
   "version": "3.10.4"
  },
  "orig_nbformat": 4
 },
 "nbformat": 4,
 "nbformat_minor": 2
}
