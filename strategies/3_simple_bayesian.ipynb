{
 "cells": [
  {
   "cell_type": "code",
   "execution_count": 1,
   "metadata": {},
   "outputs": [],
   "source": [
    "import os, sys\n",
    "import numpy as np\n",
    "import matplotlib.pyplot as plt\n",
    "\n",
    "module_path = os.path.abspath(os.path.join('..'))\n",
    "if module_path not in sys.path:\n",
    "    sys.path.append(module_path)\n",
    "from game_simulation import CoinGameSimulation\n",
    "from simulate_strategy import simulate_strategy"
   ]
  },
  {
   "cell_type": "markdown",
   "metadata": {},
   "source": [
    "### Strategy 4: make use of simple Bayesian reasoning.\n",
    "This strategy uses simple Bayeisan resoning to determine the best strategy to play.\n",
    "\n",
    "- $p$: The parameter of the Bernoulli distribution of L, is the probability of the opponent being fair.\n",
    "- $L$: Bernouilli distribution with parameter p. Determines if the opponent is a cheater or not.\n",
    "- $\\theta$: The parameter of the Bernoulli distribution of $H$.\n",
    "- $H_{1:N}$: $N$ samples of Bernouilli distribution with parameter $\\theta$.\n",
    "\n",
    "We use Bayes rule to get:\n",
    "$$\n",
    "\\begin{align*}\n",
    "P(L | H_{1:N}) &= \\frac{P(H_{1:N} | L) \\cdot P(L)}{P(H_{1:N})} \\\\\n",
    "               &= \\frac{\\sum_{\\theta=0}^1 P(H_{1:N} | L) \\cdot P(L)}{P(H_{1:N})} \\\\\n",
    "               &\\propto \\sum_{\\theta=0}^1 P(H_{1:N} | L) \\cdot P(L)\\\\\n",
    "\\end{align*}\n",
    "$$\n",
    "\n",
    "We know that:\n",
    "$$\n",
    "p = 0.5 \\implies P(L=0) = P(L=1) = 0.5\n",
    "$$\n",
    "$$\n",
    "\\theta=0.5 \\text{ if } L=0, \\text{ and } \\theta=0.75 \\text{ if } L=1.\n",
    "$$"
   ]
  },
  {
   "cell_type": "code",
   "execution_count": 2,
   "metadata": {},
   "outputs": [],
   "source": [
    "class StrategyBayseian:\n",
    "\n",
    "    def __init__(self, \n",
    "                 threshold = 0.75, \n",
    "                 n = 50,\n",
    "                 flip_5_at_start = False):\n",
    "        assert 0 <= threshold <= 1\n",
    "        assert 0 <= n <= 500\n",
    "        self.threshold = threshold \n",
    "        self.flip_5_at_start = flip_5_at_start\n",
    "\n",
    "        # create probability table\n",
    "        n_heads_array = np.arange(n).reshape(n, 1)\n",
    "        n_tails_array = np.arange(n)\n",
    "        p = np.zeros((n, n, 2))\n",
    "        p[:, :, 0] = 0.5 ** n_heads_array * 0.5 ** n_tails_array\n",
    "        p[:, :, 1] = 0.75 ** n_heads_array * (1-0.75) ** n_tails_array\n",
    "        self.p = p / p.sum(axis=2, keepdims=True)\n",
    "\n",
    "    def set_theshold(self, threshold):\n",
    "        assert 0 <= threshold <= 1\n",
    "        self.threshold = threshold\n",
    "\n",
    "    def show_p(self, shape=None):\n",
    "        if shape is None:\n",
    "            shape = self.p.shape\n",
    "        plt.imshow(self.p[:shape[0], :shape[1], 0])\n",
    "        plt.title(\"Probability of being a fair player\")\n",
    "        plt.colorbar()\n",
    "        plt.clim(0,1)\n",
    "        plt.xlabel('Number of tails')\n",
    "        plt.ylabel('Number of heads')\n",
    "        plt.show()\n",
    "\n",
    "    def strategy(self, n_heads, n_tails, flips_left):\n",
    "        if self.flip_5_at_start and n_heads + n_tails == 0 and flips_left >= 5:\n",
    "            return 1\n",
    "        \n",
    "        p = self.p[n_heads, n_tails, :]\n",
    "\n",
    "        if np.max(p) > self.threshold or flips_left == 0:\n",
    "            label = np.argmax(p)\n",
    "            return label + 2\n",
    "        else:\n",
    "            return 0"
   ]
  },
  {
   "cell_type": "code",
   "execution_count": 3,
   "metadata": {},
   "outputs": [
    {
     "data": {
      "image/png": "[encoded data removed]",
      "text/plain": [
       "<Figure size 432x288 with 2 Axes>"
      ]
     },
     "metadata": {
      "needs_background": "light"
     },
     "output_type": "display_data"
    }
   ],
   "source": [
    "g = CoinGameSimulation()\n",
    "scores = []\n",
    "strat = StrategyBayseian(n=500)\n",
    "strat.show_p(shape=(30, 30))"
   ]
  },
  {
   "cell_type": "code",
   "execution_count": 4,
   "metadata": {},
   "outputs": [
    {
     "data": {
      "image/png": "[encoded data removed]",
      "text/plain": [
       "<Figure size 432x288 with 1 Axes>"
      ]
     },
     "metadata": {
      "needs_background": "light"
     },
     "output_type": "display_data"
    }
   ],
   "source": [
    "for i in range(100):\n",
    "    (n_heads, n_tails, flips_left) = g.reset()\n",
    "    done = False\n",
    "    while not done:\n",
    "        action = strat.strategy(n_heads, n_tails, flips_left)\n",
    "        (n_heads, n_tails, flips_left), reward, done, info = g.step(action)\n",
    "\n",
    "    score = info[\"score\"]\n",
    "    scores.append(score)\n",
    "\n",
    "plt.plot(scores, label=\"scores\")\n",
    "plt.show()"
   ]
  },
  {
   "cell_type": "markdown",
   "metadata": {},
   "source": [
    "Here I simulate the strategy with and without the starting 5 flips."
   ]
  },
  {
   "cell_type": "code",
   "execution_count": 5,
   "metadata": {},
   "outputs": [
    {
     "name": "stdout",
     "output_type": "stream",
     "text": [
      "Score           mean: 467.06, std: 1502.02, median  72, min:   1, max: 10442\n",
      "Labels per game mean: 574.59, std: 1837.25, median  92, min:   4, max: 12789\n",
      "Flips per game  mean: 3895.70, std: 12474.20, median 628, min:  41, max: 86336\n",
      "Flips per label mean:  6.78, std:  4.86, median   5, min:   0, max:  58\n",
      "Reward          mean: -0.03, std:  6.78, median  -1, min: -30, max:  15\n",
      "Accuracy: 0.813, Precision: 0.816, Recall: 0.812, F1-score: 0.814\n"
     ]
    }
   ],
   "source": [
    "strat.set_theshold(0.78)\n",
    "simulate_strategy(strat.strategy, n_simulations=100)"
   ]
  },
  {
   "cell_type": "code",
   "execution_count": 6,
   "metadata": {},
   "outputs": [],
   "source": [
    "strat.flip_5_at_start = True"
   ]
  },
  {
   "cell_type": "code",
   "execution_count": 7,
   "metadata": {},
   "outputs": [
    {
     "name": "stdout",
     "output_type": "stream",
     "text": [
      "Score           mean: 111.92, std: 183.92, median  45, min:   0, max: 1006\n",
      "Labels per game mean: 135.96, std: 218.40, median  57, min:   3, max: 1193\n",
      "Flips per game  mean: 1072.15, std: 1725.25, median 458, min:  15, max: 9601\n",
      "Flips per label mean:  7.89, std:  4.65, median   6, min:   0, max:  53\n",
      "Reward          mean: -0.17, std:  8.72, median  -1, min: -30, max:  15\n",
      "Accuracy: 0.823, Precision: 0.812, Recall: 0.832, F1-score: 0.822\n"
     ]
    }
   ],
   "source": [
    "strat.set_theshold(0.78)\n",
    "simulate_strategy(strat.strategy, n_simulations=100)"
   ]
  }
 ],
 "metadata": {
  "interpreter": {
   "hash": "99253d5530e4508130c6546295ecac17f1b5ce6f825985f896c484018447240b"
  },
  "kernelspec": {
   "display_name": "Python 3.10.4 ('web-env')",
   "language": "python",
   "name": "python3"
  },
  "language_info": {
   "codemirror_mode": {
    "name": "ipython",
    "version": 3
   },
   "file_extension": ".py",
   "mimetype": "text/x-python",
   "name": "python",
   "nbconvert_exporter": "python",
   "pygments_lexer": "ipython3",
   "version": "3.10.4"
  },
  "orig_nbformat": 4
 },
 "nbformat": 4,
 "nbformat_minor": 2
}
