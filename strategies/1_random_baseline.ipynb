{
 "cells": [
  {
   "cell_type": "code",
   "execution_count": 3,
   "metadata": {},
   "outputs": [
    {
     "name": "stdout",
     "output_type": "stream",
     "text": [
      "The autoreload extension is already loaded. To reload it, use:\n",
      "  %reload_ext autoreload\n"
     ]
    }
   ],
   "source": [
    "%load_ext autoreload\n",
    "%autoreload 2"
   ]
  },
  {
   "cell_type": "code",
   "execution_count": 4,
   "metadata": {},
   "outputs": [],
   "source": [
    "import random\n",
    "from simulate_strategy import simulate_strategy"
   ]
  },
  {
   "cell_type": "markdown",
   "metadata": {},
   "source": [
    "### Strategy: Baseline random strategy\n",
    "This is simply the random strategy to get a baseline of what to beat. <br>\n",
    "It labels the opponent randomly we get a score of mean 7 and median 5. <br>\n",
    "As expected the accuracy is very close to 50%."
   ]
  },
  {
   "cell_type": "code",
   "execution_count": 7,
   "metadata": {},
   "outputs": [
    {
     "name": "stdout",
     "output_type": "stream",
     "text": [
      "Score           mean:  7.07, std:  7.21, median   5, min:   0, max:  53\n",
      "Labels per game mean: 14.30, std: 10.81, median  11, min:   4, max:  83\n",
      "Flips per game  mean:  0.00, std:  0.00, median   0, min:   0, max:   0\n",
      "Flips per label mean:  0.00, std:  0.00, median   0, min:   0, max:   0\n",
      "Reward          mean: -7.76, std: 22.50, median -30, min: -30, max:  15\n",
      "Accuracy: 0.494, Precision: 0.490, Recall: 0.496, F1-score: 0.493\n"
     ]
    }
   ],
   "source": [
    "simulate_strategy(lambda *_: random.choice([2,3]), 1000)"
   ]
  }
 ],
 "metadata": {
  "interpreter": {
   "hash": "fc32a243a6b87027c9f6195a114662f388139f44cd834ded9ed282018985cc20"
  },
  "kernelspec": {
   "display_name": "Python 3.10.4 ('web-env')",
   "language": "python",
   "name": "python3"
  },
  "language_info": {
   "codemirror_mode": {
    "name": "ipython",
    "version": 3
   },
   "file_extension": ".py",
   "mimetype": "text/x-python",
   "name": "python",
   "nbconvert_exporter": "python",
   "pygments_lexer": "ipython3",
   "version": "3.10.4"
  },
  "orig_nbformat": 4
 },
 "nbformat": 4,
 "nbformat_minor": 2
}
