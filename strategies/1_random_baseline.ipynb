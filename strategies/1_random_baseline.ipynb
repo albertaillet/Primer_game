{
 "cells": [
  {
   "cell_type": "code",
   "execution_count": 1,
   "metadata": {},
   "outputs": [],
   "source": [
    "%load_ext autoreload\n",
    "%autoreload 2"
   ]
  },
  {
   "cell_type": "code",
   "execution_count": 2,
   "metadata": {},
   "outputs": [],
   "source": [
    "import random\n",
    "from simulate_strategy import simulate_strategy"
   ]
  },
  {
   "cell_type": "markdown",
   "metadata": {},
   "source": [
    "### Strategy: Baseline random strategy\n",
    "This is simply the random strategy to get a baseline of what to beat. <br>\n",
    "It labels the opponent randomly we get a score of mean 7 and median 5. <br>\n",
    "As expected the accuracy is very close to 50%."
   ]
  },
  {
   "cell_type": "code",
   "execution_count": 3,
   "metadata": {},
   "outputs": [
    {
     "name": "stdout",
     "output_type": "stream",
     "text": [
      "Score           mean:  7.23, std:  9.26, median   5, min:   0, max:  99\n",
      "Labels per game mean: 14.53, std: 13.91, median  11, min:   4, max: 152\n",
      "Flips per game  mean:  0.00, std:  0.00, median   0, min:   0, max:   0\n",
      "Flips per label mean:  0.00, std:  0.00, median   0, min:   0, max:   0\n",
      "Reward          mean: -7.62, std: 22.50, median -30, min: -30, max:  15\n",
      "Accuracy:  0.49, Precision:  0.50, Recall:  0.49, F1-score:  0.49\n"
     ]
    }
   ],
   "source": [
    "simulate_strategy(lambda *_: random.choice([2,3]))"
   ]
  }
 ],
 "metadata": {
  "interpreter": {
   "hash": "fc32a243a6b87027c9f6195a114662f388139f44cd834ded9ed282018985cc20"
  },
  "kernelspec": {
   "display_name": "Python 3.10.4 ('web-env')",
   "language": "python",
   "name": "python3"
  },
  "language_info": {
   "codemirror_mode": {
    "name": "ipython",
    "version": 3
   },
   "file_extension": ".py",
   "mimetype": "text/x-python",
   "name": "python",
   "nbconvert_exporter": "python",
   "pygments_lexer": "ipython3",
   "version": "3.10.4"
  },
  "orig_nbformat": 4
 },
 "nbformat": 4,
 "nbformat_minor": 2
}
