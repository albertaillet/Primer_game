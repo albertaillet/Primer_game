{
 "cells": [
  {
   "cell_type": "code",
   "execution_count": 1,
   "metadata": {},
   "outputs": [],
   "source": [
    "%load_ext autoreload\n",
    "%autoreload 2"
   ]
  },
  {
   "cell_type": "code",
   "execution_count": 2,
   "metadata": {},
   "outputs": [],
   "source": [
    "import random\n",
    "from simulate_strategy import simulate_strategy"
   ]
  },
  {
   "cell_type": "markdown",
   "metadata": {},
   "source": [
    "### Strategy: I try to reproduce my play.\n",
    "This strategy tries to mimic the way I play the game in my head. <br>\n",
    "It gets a significalty higher score than the random stratehy but is clearly not very good yet. <br>\n",
    "However, I clearly missed some edge cases and it sometimes just uses all the flips to find the label. <br>"
   ]
  },
  {
   "cell_type": "code",
   "execution_count": 3,
   "metadata": {},
   "outputs": [
    {
     "name": "stdout",
     "output_type": "stream",
     "text": [
      "Score           mean: 43.62, std: 62.72, median  23, min:   0, max: 743\n",
      "Labels per game mean: 57.23, std: 77.82, median  32, min:   2, max: 926\n",
      "Flips per game  mean: 361.29, std: 489.62, median 201, min:   7, max: 5764\n",
      "Flips per label mean:  6.31, std:  6.04, median   5, min:   0, max:  62\n",
      "Reward          mean: -0.28, std:  7.31, median  -1, min: -30, max:  15\n",
      "Accuracy: 0.762, Precision: 0.871, Recall: 0.714, F1-score: 0.785\n"
     ]
    }
   ],
   "source": [
    "def strategy_mimic_attempt(n_heads, n_tails, flips_left):\n",
    "    n_throws = n_heads + n_tails\n",
    "    diff = (n_heads-n_tails)\n",
    "    if diff > 5:\n",
    "        return 3\n",
    "    elif diff < 0 or (n_throws > 10 and diff < 1):\n",
    "        return 2\n",
    "    if flips_left <= 0:\n",
    "        if diff > 4:\n",
    "            return 3\n",
    "        else:\n",
    "            return 2\n",
    "    return 0\n",
    "\n",
    "random.seed(1)\n",
    "simulate_strategy(strategy_mimic_attempt, n_simulations=1000)"
   ]
  }
 ],
 "metadata": {
  "interpreter": {
   "hash": "fc32a243a6b87027c9f6195a114662f388139f44cd834ded9ed282018985cc20"
  },
  "kernelspec": {
   "display_name": "Python 3.10.4 ('web-env')",
   "language": "python",
   "name": "python3"
  },
  "language_info": {
   "codemirror_mode": {
    "name": "ipython",
    "version": 3
   },
   "file_extension": ".py",
   "mimetype": "text/x-python",
   "name": "python",
   "nbconvert_exporter": "python",
   "pygments_lexer": "ipython3",
   "version": "3.10.4"
  },
  "orig_nbformat": 4
 },
 "nbformat": 4,
 "nbformat_minor": 2
}
