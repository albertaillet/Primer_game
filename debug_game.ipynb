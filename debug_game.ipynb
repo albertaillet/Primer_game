{
 "cells": [
  {
   "cell_type": "code",
   "execution_count": 1,
   "metadata": {},
   "outputs": [],
   "source": [
    "import io\n",
    "import time\n",
    "import base64 \n",
    "import numpy as np\n",
    "from PIL import Image\n",
    "import concurrent.futures\n",
    "import pytesseract as tess\n",
    "\n",
    "tess.pytesseract.tesseract_cmd = \"C:\\\\Users\\\\alber\\\\AppData\\\\Local\\\\Programs\\\\Tesseract-OCR\\\\tesseract.exe\"\n",
    "\n",
    "from selenium import webdriver\n",
    "from selenium.webdriver.common.action_chains import ActionChains\n",
    "\n",
    "\n",
    "class CoinGame():\n",
    "\n",
    "    def __init__(self, driver=None, animation_wait_time=1):\n",
    "        driver_not_provided = (driver is None)\n",
    "        if driver_not_provided:\n",
    "            driver = self._get_driver()\n",
    "            driver.get('https://primerlearning.org/')\n",
    "        self.driver = driver\n",
    "        self.element = self.driver.find_element_by_id(\"coin-flip-app\")\n",
    "        self.window_size = (300,850)\n",
    "        self.reset_window()\n",
    "\n",
    "        self.animation_wait_time = animation_wait_time\n",
    "        self.show_flipping = True        \n",
    "        self.score = None\n",
    "        self.flips = None\n",
    "        self.flips_left = None\n",
    "        self.reset_data()\n",
    "        \n",
    "        if driver_not_provided:\n",
    "            self._wait_for_loading()\n",
    "        \n",
    "        self.show_flipping_animations()\n",
    "        \n",
    "    def _wait_for_loading(self):\n",
    "        progress = 0\n",
    "        loaded = False\n",
    "        while not loaded:\n",
    "            screenshot = self.get_page_screenshot()\n",
    "            loading_bar = screenshot.crop((224, 757, 500, 786))\n",
    "            threshold = loading_bar.point(lambda p: 1 if p > 200 else 0)\n",
    "            threshold = np.array(threshold)\n",
    "            progress = threshold.sum()/threshold.size\n",
    "            \n",
    "            \n",
    "            title = screenshot.crop((100, 70, 700, 400))\n",
    "            title_text = CoinGame._get_image_text(title)\n",
    "            if \"Catch the cheaters!\" in title_text:\n",
    "                loaded = True\n",
    "                progress = 1\n",
    "            print(f\"Loading: {100*progress:5.1f}%\", end='\\r')\n",
    "\n",
    "    def _wait_for_animations(self):\n",
    "        time.sleep(self.animation_wait_time)\n",
    "\n",
    "    def _get_driver(self):\n",
    "        chrome_options = webdriver.ChromeOptions()\n",
    "        mobile_emulation = { \"deviceName\": \"iPhone 6\" }\n",
    "        chrome_options.add_experimental_option(\"mobileEmulation\", mobile_emulation)\n",
    "        return webdriver.Chrome(options= chrome_options)\n",
    "\n",
    "    def reset_window(self):\n",
    "        self.driver.set_window_size(*self.window_size)\n",
    "        self.driver.execute_script(\"arguments[0].scrollIntoView();\", self.element)\n",
    "\n",
    "    def get_page_screenshot(self):\n",
    "        self.reset_window()\n",
    "        screenshot = self.driver.get_screenshot_as_base64()\n",
    "        screenshot = base64.b64decode(screenshot)\n",
    "        screenshot = io.BytesIO(screenshot)\n",
    "        screenshot = Image.open(screenshot).convert('L')\n",
    "        return screenshot\n",
    "\n",
    "    @staticmethod\n",
    "    def _get_image_text(image):\n",
    "        return tess.image_to_string(image)\n",
    "\n",
    "    def reset_data(self):\n",
    "        self.score = None\n",
    "        self.flips = None\n",
    "        self.flips_left = None\n",
    "    \n",
    "    def get_score(self) -> int:\n",
    "        if self.score is None:\n",
    "            self.get_data()\n",
    "        return self.score\n",
    "\n",
    "    def get_flips_left(self) -> int:\n",
    "        if self.flips_left is None:\n",
    "            self.get_data()\n",
    "        return self.flips_left\n",
    "    \n",
    "    def get_flips(self) -> dict:\n",
    "        if self.flips is None:\n",
    "            self.get_data()\n",
    "        return self.flips\n",
    "\n",
    "    def get_data(self): \n",
    "        screenshot = self.get_page_screenshot()\n",
    "        \n",
    "        self.flips = CoinGame.parse_flips(\n",
    "                            CoinGame._get_image_text(\n",
    "                                    screenshot.crop((325, 490, 550, 600))))\n",
    "\n",
    "        self.score = CoinGame.parse_score(\n",
    "                            CoinGame._get_image_text(\n",
    "                                    screenshot.crop((0, 920, 300, 985))))\n",
    "\n",
    "        self.flips_left = CoinGame.parse_flips_left(\n",
    "                                CoinGame._get_image_text(\n",
    "                                        screenshot.crop((400, 920, 750, 985))))\n",
    "    \n",
    "    def get_end_score(self):\n",
    "        screenshot = self.get_page_screenshot()\n",
    "        cropped = screenshot.crop((0, 450, 750, 650))\n",
    "        text = CoinGame._get_image_text(cropped)\n",
    "        return CoinGame.parse_score(text)\n",
    "\n",
    "    @staticmethod\n",
    "    def parse_flips_left(string):\n",
    "        string = string.lower().strip()\n",
    "        if \"flips left\" in string:\n",
    "            return int(string.split(' ')[0])\n",
    "\n",
    "    @staticmethod\n",
    "    def parse_flips(string):\n",
    "        if 'Heads: ' in string and 'Tails: ' in string:\n",
    "            text_tuples = [line.split(': ') for line in string.split('\\n')[:2]]\n",
    "            text_dict = {k: int(v) for k, v in text_tuples}\n",
    "            return text_dict\n",
    "        return {'Heads': 0, 'Tails': 0}\n",
    "\n",
    "    @staticmethod\n",
    "    def parse_score(string):\n",
    "        string = string.lower().strip()\n",
    "        if 'score: ' in string:\n",
    "            return int(string.split(': ')[1])\n",
    "\n",
    "    def _click_location(self, x, y):\n",
    "        self.reset_data()\n",
    "        self.reset_window()\n",
    "        action = ActionChains(self.driver)\n",
    "        action.move_to_element_with_offset(self.element, x, y)\n",
    "        action.click()\n",
    "        action.perform()\n",
    "        self._wait_for_animations()\n",
    "    \n",
    "    # Clicking locations:\n",
    "    # Game: x, y = 20, 20\n",
    "    # Leaderboard x, y = 330, 20\n",
    "    # 1 Coin: x, y = 20, 500\n",
    "    # 5 Coins: x, y = 330, 500\n",
    "    # Show flipping animation: x, y = 50, 550\n",
    "    # Fair: x, y = 20, 600\n",
    "    # Cheater x, y = 330, 600\n",
    "    # Reset Game: x, y = 155, 600\n",
    "\n",
    "    def click_game_tab(self):\n",
    "        self._click_location(20, 20)\n",
    "\n",
    "    def click_leaderboard_tab(self):\n",
    "        self._click_location(330, 20)\n",
    "\n",
    "    def flip_one_coin(self):\n",
    "        self._click_location(20, 500)\n",
    "    \n",
    "    def flip_five_coins(self):\n",
    "        self._click_location(330, 500)\n",
    "    \n",
    "    def show_flipping_animations(self):\n",
    "        self.show_flipping = not self.show_flipping\n",
    "        self._click_location(50, 550)\n",
    "    \n",
    "    def label_fair(self):\n",
    "        self._click_location(20, 600)\n",
    "\n",
    "    def label_cheater(self):\n",
    "        self._click_location(330, 600)\n",
    "\n",
    "    def reset_game(self):\n",
    "        self._click_location(155, 600)\n",
    "        self.reset_window()\n",
    "    \n",
    "    def restart_browser(self):\n",
    "        self.driver.quit()\n",
    "        self.__init__()"
   ]
  },
  {
   "cell_type": "code",
   "execution_count": 2,
   "metadata": {},
   "outputs": [
    {
     "name": "stdout",
     "output_type": "stream",
     "text": [
      "Loading: 100%%\r"
     ]
    }
   ],
   "source": [
    "if 'g' in locals():\n",
    "    driver = g.driver\n",
    "    g = CoinGame(driver=driver)\n",
    "else:\n",
    "    g = CoinGame()\n",
    "    driver = g.driver"
   ]
  },
  {
   "cell_type": "code",
   "execution_count": 3,
   "metadata": {},
   "outputs": [
    {
     "name": "stdout",
     "output_type": "stream",
     "text": [
      "1.14 s ± 35.3 ms per loop (mean ± std. dev. of 7 runs, 1 loop each)\n"
     ]
    }
   ],
   "source": [
    "%%timeit\n",
    "screenshot = g.get_page_screenshot()\n",
    "        \n",
    "flips = CoinGame.parse_flips(\n",
    "                    CoinGame._get_image_text(\n",
    "                            screenshot.crop((325, 490, 550, 600))))\n",
    "\n",
    "score = CoinGame.parse_score(\n",
    "                    CoinGame._get_image_text(\n",
    "                            screenshot.crop((0, 920, 300, 985))))\n",
    "\n",
    "flips_left = CoinGame.parse_flips_left(\n",
    "                        CoinGame._get_image_text(\n",
    "                                screenshot.crop((400, 920, 750, 985))))\n",
    "# 1.15 s ± 35.5 ms per loop (mean ± std. dev. of 7 runs, 1 loop each)"
   ]
  },
  {
   "cell_type": "code",
   "execution_count": 6,
   "metadata": {},
   "outputs": [],
   "source": [
    "import re"
   ]
  },
  {
   "cell_type": "code",
   "execution_count": 8,
   "metadata": {},
   "outputs": [
    {
     "name": "stdout",
     "output_type": "stream",
     "text": [
      "670 ms ± 25.3 ms per loop (mean ± std. dev. of 7 runs, 1 loop each)\n"
     ]
    }
   ],
   "source": [
    "%%timeit\n",
    "screenshot = g.get_page_screenshot()\n",
    "crop = screenshot.crop((0, 490, 750, 985))\n",
    "text = CoinGame._get_image_text(crop)\n",
    "re_heads = re.compile(r\"(?<=Heads: )[\\d]+\")\n",
    "re_tails = re.compile(r\"(?<=Tails: )[\\d]+\")\n",
    "re_score = re.compile(r\"(?<=Score: )[\\d]+\")\n",
    "re_flips_left = re.compile(r\"[\\d]+(?= Flips left)\")\n",
    "result = [reg.search(text) for reg in [re_heads, re_tails, re_score, re_flips_left]]\n",
    "result = [int(res.group(0)) for res in result if res is not None]\n",
    "# 686 ms ± 36.7 ms per loop (mean ± std. dev. of 7 runs, 1 loop each)"
   ]
  },
  {
   "cell_type": "code",
   "execution_count": null,
   "metadata": {},
   "outputs": [],
   "source": [
    "with concurrent.futures.ProcessPoolExecutor(max_workers=3) as executor:\n",
    "    image_list = [screenshot.crop((325, 490, 550, 600)), screenshot.crop((0, 920, 300, 985)), screenshot.crop((400, 920, 750, 985))]\n",
    "    for t in executor.map(CoinGame._get_image_text, image_list):\n",
    "        print(t)"
   ]
  },
  {
   "cell_type": "code",
   "execution_count": 53,
   "metadata": {},
   "outputs": [
    {
     "data": {
      "image/png": "[encoded data removed]",
      "text/plain": [
       "<PIL.Image.Image image mode=L size=600x330 at 0x1E7884D0AC0>"
      ]
     },
     "execution_count": 53,
     "metadata": {},
     "output_type": "execute_result"
    }
   ],
   "source": [
    "screenshot.crop((100, 70, 700, 400))"
   ]
  },
  {
   "cell_type": "code",
   "execution_count": 25,
   "metadata": {},
   "outputs": [
    {
     "name": "stdout",
     "output_type": "stream",
     "text": [
      "Score: 0\n",
      "\n"
     ]
    }
   ],
   "source": [
    "text =  CoinGame._get_image_text(screenshot.crop((0, 920, 300, 985)))\n",
    "print(text)"
   ]
  },
  {
   "cell_type": "code",
   "execution_count": 75,
   "metadata": {},
   "outputs": [
    {
     "name": "stdout",
     "output_type": "stream",
     "text": [
      "Loading:  90.0%\n",
      "Loading:  91.0%\n",
      "Loading:  92.0%\n",
      "Loading:  93.0%\n",
      "Loading:  94.0%\n",
      "Loading:  95.0%\n",
      "Loading:  96.0%\n",
      "Loading:  97.0%\n",
      "Loading:  98.0%\n",
      "Loading:  99.0%\n",
      "Loading: 100.0%\n"
     ]
    }
   ],
   "source": [
    "for progress in range(90,101):\n",
    "    print(f\"Loading: {progress:5.1f}%\", end='\\n')"
   ]
  }
 ],
 "metadata": {
  "interpreter": {
   "hash": "fc32a243a6b87027c9f6195a114662f388139f44cd834ded9ed282018985cc20"
  },
  "kernelspec": {
   "display_name": "Python 3.10.4 ('web-env')",
   "language": "python",
   "name": "python3"
  },
  "language_info": {
   "codemirror_mode": {
    "name": "ipython",
    "version": 3
   },
   "file_extension": ".py",
   "mimetype": "text/x-python",
   "name": "python",
   "nbconvert_exporter": "python",
   "pygments_lexer": "ipython3",
   "version": "3.10.4"
  },
  "orig_nbformat": 4
 },
 "nbformat": 4,
 "nbformat_minor": 2
}
